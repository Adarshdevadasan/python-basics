{
 "cells": [
  {
   "cell_type": "code",
   "execution_count": 1,
   "id": "0d7ade04",
   "metadata": {},
   "outputs": [],
   "source": [
    "#empty list\n",
    "my_list=[]\n",
    "#list of integers\n",
    "my_list=[1,2,3]\n",
    "#list with mixed datatype\n",
    "my_list=[1,\"hello\",3.4]\n",
    "#nested list\n",
    "my_list=[\"welcome\",[8,4,6]]"
   ]
  },
  {
   "cell_type": "code",
   "execution_count": 2,
   "id": "feb4ace9",
   "metadata": {},
   "outputs": [],
   "source": [
    "#empty list\n",
    "my_list=list()\n",
    "#list of integers\n",
    "my_list=list([1,2,3])"
   ]
  },
  {
   "cell_type": "code",
   "execution_count": 3,
   "id": "03ada141",
   "metadata": {},
   "outputs": [
    {
     "name": "stdout",
     "output_type": "stream",
     "text": [
      "c\n"
     ]
    }
   ],
   "source": [
    "list=['a','b','c','d','e']\n",
    "print(list[2])"
   ]
  },
  {
   "cell_type": "code",
   "execution_count": 4,
   "id": "200ff4ab",
   "metadata": {},
   "outputs": [
    {
     "name": "stdout",
     "output_type": "stream",
     "text": [
      "d\n"
     ]
    }
   ],
   "source": [
    "list=['a','b','c','d','e']\n",
    "print(list[-2])"
   ]
  },
  {
   "cell_type": "code",
   "execution_count": 5,
   "id": "a7ad7b73",
   "metadata": {},
   "outputs": [
    {
     "name": "stdout",
     "output_type": "stream",
     "text": [
      "[40, 50, 30]\n"
     ]
    }
   ],
   "source": [
    "marks=[40,50,30]\n",
    "print(marks)"
   ]
  },
  {
   "cell_type": "code",
   "execution_count": 6,
   "id": "0f0595ae",
   "metadata": {},
   "outputs": [
    {
     "name": "stdout",
     "output_type": "stream",
     "text": [
      "[40, 10, 30]\n"
     ]
    }
   ],
   "source": [
    "marks[1]=10\n",
    "print(marks)"
   ]
  },
  {
   "cell_type": "code",
   "execution_count": 7,
   "id": "7cd74d24",
   "metadata": {},
   "outputs": [
    {
     "data": {
      "text/plain": [
       "[40, 10, 30, 20]"
      ]
     },
     "execution_count": 7,
     "metadata": {},
     "output_type": "execute_result"
    }
   ],
   "source": [
    "marks.append(20)\n",
    "marks"
   ]
  },
  {
   "cell_type": "code",
   "execution_count": 8,
   "id": "efa13836",
   "metadata": {},
   "outputs": [
    {
     "name": "stdout",
     "output_type": "stream",
     "text": [
      "[40, 10, 30, 20, 50, 60, 70]\n"
     ]
    }
   ],
   "source": [
    "marks.extend([50,60,70])\n",
    "print(marks)"
   ]
  },
  {
   "cell_type": "code",
   "execution_count": 9,
   "id": "d5d41f32",
   "metadata": {},
   "outputs": [
    {
     "name": "stdout",
     "output_type": "stream",
     "text": [
      "[40, 10, 30, 100, 20, 50, 60, 70]\n"
     ]
    }
   ],
   "source": [
    "marks.insert(3,100)\n",
    "print(marks)"
   ]
  },
  {
   "cell_type": "code",
   "execution_count": 10,
   "id": "d762b5b7",
   "metadata": {},
   "outputs": [
    {
     "name": "stdout",
     "output_type": "stream",
     "text": [
      "[40, 10, 30, 100, 50, 60, 70]\n"
     ]
    }
   ],
   "source": [
    "del marks[4]\n",
    "print(marks)"
   ]
  },
  {
   "cell_type": "code",
   "execution_count": 11,
   "id": "0b1dc41b",
   "metadata": {},
   "outputs": [
    {
     "ename": "NameError",
     "evalue": "name 'marks' is not defined",
     "output_type": "error",
     "traceback": [
      "\u001b[1;31m---------------------------------------------------------------------------\u001b[0m",
      "\u001b[1;31mNameError\u001b[0m                                 Traceback (most recent call last)",
      "\u001b[1;32m~\\AppData\\Local\\Temp/ipykernel_21424/3344275563.py\u001b[0m in \u001b[0;36m<module>\u001b[1;34m\u001b[0m\n\u001b[0;32m      1\u001b[0m \u001b[0mmarks\u001b[0m\u001b[1;33m=\u001b[0m\u001b[1;33m[\u001b[0m\u001b[1;36m40\u001b[0m\u001b[1;33m,\u001b[0m \u001b[1;36m10\u001b[0m\u001b[1;33m,\u001b[0m \u001b[1;36m30\u001b[0m\u001b[1;33m,\u001b[0m \u001b[1;36m100\u001b[0m\u001b[1;33m,\u001b[0m \u001b[1;36m20\u001b[0m\u001b[1;33m,\u001b[0m \u001b[1;36m50\u001b[0m\u001b[1;33m,\u001b[0m \u001b[1;36m60\u001b[0m\u001b[1;33m,\u001b[0m \u001b[1;36m70\u001b[0m\u001b[1;33m,\u001b[0m \u001b[1;36m20\u001b[0m\u001b[1;33m]\u001b[0m\u001b[1;33m\u001b[0m\u001b[1;33m\u001b[0m\u001b[0m\n\u001b[0;32m      2\u001b[0m \u001b[1;32mdel\u001b[0m \u001b[0mmarks\u001b[0m\u001b[1;33m\u001b[0m\u001b[1;33m\u001b[0m\u001b[0m\n\u001b[1;32m----> 3\u001b[1;33m \u001b[0mprint\u001b[0m\u001b[1;33m(\u001b[0m\u001b[0mmarks\u001b[0m\u001b[1;33m)\u001b[0m\u001b[1;33m\u001b[0m\u001b[1;33m\u001b[0m\u001b[0m\n\u001b[0m",
      "\u001b[1;31mNameError\u001b[0m: name 'marks' is not defined"
     ]
    }
   ],
   "source": [
    "marks=[40, 10, 30, 100, 20, 50, 60, 70, 20]\n",
    "del marks\n",
    "print(marks)"
   ]
  },
  {
   "cell_type": "code",
   "execution_count": 14,
   "id": "eb729a41",
   "metadata": {},
   "outputs": [
    {
     "name": "stdout",
     "output_type": "stream",
     "text": [
      "[]\n"
     ]
    }
   ],
   "source": [
    "a=[23,12,\"rr\"]\n",
    "a.clear()\n",
    "print(a)"
   ]
  },
  {
   "cell_type": "code",
   "execution_count": 15,
   "id": "faf0b337",
   "metadata": {},
   "outputs": [
    {
     "name": "stdout",
     "output_type": "stream",
     "text": [
      "[40, 10, 30, 100, 50, 60, 70, 20]\n"
     ]
    }
   ],
   "source": [
    "marks=[40, 10,30, 100, 20, 50, 60, 70, 20]\n",
    "marks.remove(20)\n",
    "print(marks)"
   ]
  },
  {
   "cell_type": "code",
   "execution_count": 16,
   "id": "0ebbdf9b",
   "metadata": {},
   "outputs": [
    {
     "data": {
      "text/plain": [
       "20"
      ]
     },
     "execution_count": 16,
     "metadata": {},
     "output_type": "execute_result"
    }
   ],
   "source": [
    "marks=[40, 10, 30, 100, 20, 50, 60, 70, 20]\n",
    "marks.pop()\n",
    "\n"
   ]
  },
  {
   "cell_type": "code",
   "execution_count": 61,
   "id": "d214fea2",
   "metadata": {},
   "outputs": [
    {
     "name": "stdout",
     "output_type": "stream",
     "text": [
      "[40, 10, 30, 20, 50, 60, 70, 40, 10, 30, 100, 20, 50, 60, 70, 40, 10, 30, 100, 20, 50, 60, 70, 40, 10, 30, 100, 20, 50, 60, 70, 40, 10, 30, 100, 20, 50, 60, 70, 10, 20, 30, 40, 50, 10, 20, 30, 40]\n"
     ]
    }
   ],
   "source": [
    "print(marks)"
   ]
  },
  {
   "cell_type": "code",
   "execution_count": null,
   "id": "c44f72c5",
   "metadata": {},
   "outputs": [],
   "source": []
  },
  {
   "cell_type": "code",
   "execution_count": 17,
   "id": "f061c515",
   "metadata": {},
   "outputs": [
    {
     "name": "stdout",
     "output_type": "stream",
     "text": [
      "[40, 10, 30, 100, 20, 50, 60, 70]\n"
     ]
    }
   ],
   "source": [
    "print(marks)"
   ]
  },
  {
   "cell_type": "code",
   "execution_count": 18,
   "id": "4fab84c0",
   "metadata": {},
   "outputs": [
    {
     "data": {
      "text/plain": [
       "40"
      ]
     },
     "execution_count": 18,
     "metadata": {},
     "output_type": "execute_result"
    }
   ],
   "source": [
    "marks.pop(0)"
   ]
  },
  {
   "cell_type": "code",
   "execution_count": 19,
   "id": "f7ccd56f",
   "metadata": {},
   "outputs": [
    {
     "name": "stdout",
     "output_type": "stream",
     "text": [
      "[10, 30, 100, 20, 50, 60, 70]\n"
     ]
    }
   ],
   "source": [
    "print(marks)"
   ]
  },
  {
   "cell_type": "code",
   "execution_count": 20,
   "id": "0d5e8c3e",
   "metadata": {},
   "outputs": [
    {
     "data": {
      "text/plain": [
       "[10, 30, 100, 20, 50, 60, 70, 10, 20, 30, 40, 50]"
      ]
     },
     "execution_count": 20,
     "metadata": {},
     "output_type": "execute_result"
    }
   ],
   "source": [
    "marks.extend([10,20,30,40,50])\n",
    "marks"
   ]
  },
  {
   "cell_type": "code",
   "execution_count": 21,
   "id": "f0c260fa",
   "metadata": {},
   "outputs": [
    {
     "data": {
      "text/plain": [
       "50"
      ]
     },
     "execution_count": 21,
     "metadata": {},
     "output_type": "execute_result"
    }
   ],
   "source": [
    "marks.pop()"
   ]
  },
  {
   "cell_type": "code",
   "execution_count": 22,
   "id": "87fe8d8a",
   "metadata": {},
   "outputs": [
    {
     "data": {
      "text/plain": [
       "40"
      ]
     },
     "execution_count": 22,
     "metadata": {},
     "output_type": "execute_result"
    }
   ],
   "source": [
    "marks.pop()"
   ]
  },
  {
   "cell_type": "code",
   "execution_count": 23,
   "id": "28fb90e9",
   "metadata": {},
   "outputs": [
    {
     "data": {
      "text/plain": [
       "30"
      ]
     },
     "execution_count": 23,
     "metadata": {},
     "output_type": "execute_result"
    }
   ],
   "source": [
    "marks.pop()"
   ]
  },
  {
   "cell_type": "code",
   "execution_count": null,
   "id": "1e62bf76",
   "metadata": {},
   "outputs": [],
   "source": [
    "marks.pop()"
   ]
  },
  {
   "cell_type": "code",
   "execution_count": 26,
   "id": "48849024",
   "metadata": {},
   "outputs": [
    {
     "name": "stdout",
     "output_type": "stream",
     "text": [
      "['p', 'o', 'a', 'q']\n"
     ]
    }
   ],
   "source": [
    "list=['p','o','a','q','t']\n",
    "print(list[0:4])"
   ]
  },
  {
   "cell_type": "code",
   "execution_count": 27,
   "id": "bc3e5e30",
   "metadata": {},
   "outputs": [
    {
     "name": "stdout",
     "output_type": "stream",
     "text": [
      "['q']\n"
     ]
    }
   ],
   "source": [
    "print(list[-2:-1])"
   ]
  },
  {
   "cell_type": "code",
   "execution_count": 28,
   "id": "5fcb30c1",
   "metadata": {},
   "outputs": [
    {
     "name": "stdout",
     "output_type": "stream",
     "text": [
      "['hi', 'hello']\n",
      "['hi', 'hello', 'welcome']\n"
     ]
    }
   ],
   "source": [
    "list=['hi','hello']\n",
    "print(list)\n",
    "list.append('welcome')\n",
    "print(list)"
   ]
  },
  {
   "cell_type": "code",
   "execution_count": 30,
   "id": "83acc555",
   "metadata": {},
   "outputs": [
    {
     "name": "stdout",
     "output_type": "stream",
     "text": [
      "['hi', 'hello']\n",
      "['hi', 'hello', ['welcome']]\n"
     ]
    }
   ],
   "source": [
    "list=['hi','hello']\n",
    "print(list)\n",
    "list1=['welcome']\n",
    "list.append(list1)\n",
    "print(list)"
   ]
  },
  {
   "cell_type": "code",
   "execution_count": 31,
   "id": "070f5f29",
   "metadata": {},
   "outputs": [
    {
     "name": "stdout",
     "output_type": "stream",
     "text": [
      "1\n",
      "1\n"
     ]
    }
   ],
   "source": [
    "list=['a','q','r','v','b']\n",
    "print(list.count('r'))\n",
    "print(list.count('v'))"
   ]
  },
  {
   "cell_type": "code",
   "execution_count": 32,
   "id": "d10f0651",
   "metadata": {},
   "outputs": [
    {
     "name": "stdout",
     "output_type": "stream",
     "text": [
      "1\n",
      "0\n"
     ]
    }
   ],
   "source": [
    "list=['a',('h','i'),('a','b'),[8,4]]\n",
    "count=list.count(('a','b'))\n",
    "print(count)\n",
    "count=list.count([3,4])\n",
    "print(count)"
   ]
  },
  {
   "cell_type": "code",
   "execution_count": 33,
   "id": "29dbb6e1",
   "metadata": {},
   "outputs": [
    {
     "name": "stdout",
     "output_type": "stream",
     "text": [
      "['c', 'c++', 'python', 'java', 'COBOL']\n"
     ]
    }
   ],
   "source": [
    "lang=['c','c++','python']\n",
    "lang1=['java','COBOL']\n",
    "lang.extend(lang1)\n",
    "print(lang)"
   ]
  },
  {
   "cell_type": "code",
   "execution_count": 38,
   "id": "5b8e5fa5",
   "metadata": {},
   "outputs": [
    {
     "name": "stdout",
     "output_type": "stream",
     "text": [
      "['c', 'c++', 'python', 'java', 'COBOL']\n",
      "['c', 'c++', 'python', 'java', 'COBOL', 'c##', 'net']\n"
     ]
    }
   ],
   "source": [
    "lang=['c','c++','python']\n",
    "lang_tuple=('java','COBOL')\n",
    "lang_set={'net','c##'}\n",
    "lang.extend(lang_tuple)\n",
    "print(lang)\n",
    "lang.extend(lang_set)\n",
    "print(lang)"
   ]
  },
  {
   "cell_type": "code",
   "execution_count": 50,
   "id": "9f3fa59f",
   "metadata": {},
   "outputs": [
    {
     "name": "stdout",
     "output_type": "stream",
     "text": [
      "1\n"
     ]
    }
   ],
   "source": [
    "list=['a','b','a','b','q','r','t']\n",
    "print(list.index('b'))"
   ]
  },
  {
   "cell_type": "code",
   "execution_count": 37,
   "id": "26234652",
   "metadata": {},
   "outputs": [
    {
     "name": "stdout",
     "output_type": "stream",
     "text": [
      "['a', 'i', 'o', 'u']\n",
      "['a', 'e', 'i', 'o', 'u']\n"
     ]
    }
   ],
   "source": [
    "a=['a','i','o','u']\n",
    "print(a)\n",
    "a.insert(1,'e')\n",
    "print(a)"
   ]
  },
  {
   "cell_type": "code",
   "execution_count": 42,
   "id": "1cc135ae",
   "metadata": {},
   "outputs": [
    {
     "name": "stdout",
     "output_type": "stream",
     "text": [
      "[{1, 2}, [5, 6, 7]]\n",
      "[{1, 2}, (3, 4), [5, 6, 7]]\n"
     ]
    }
   ],
   "source": [
    "list=[{1,2},[5,6,7]]\n",
    "print(list)\n",
    "num_tuple=(3,4)\n",
    "list.insert(1,num_tuple)\n",
    "print(list)"
   ]
  },
  {
   "cell_type": "code",
   "execution_count": null,
   "id": "4322ba40",
   "metadata": {},
   "outputs": [],
   "source": [
    "my_list=[]\n",
    "my_list=[1,2,3]\n",
    "my_list=[1,1.2,\"hello\",20]\n",
    "my_list=[10,20,23.2,[\"welcome\"]]\n",
    "my_list=list()\n",
    "my_list=list([12,34,65])\n"
   ]
  },
  {
   "cell_type": "code",
   "execution_count": 1,
   "id": "14f513ba",
   "metadata": {},
   "outputs": [
    {
     "name": "stdout",
     "output_type": "stream",
     "text": [
      "t\n"
     ]
    }
   ],
   "source": [
    "list=['q','w','e','t','y','r']\n",
    "print(list[3])"
   ]
  },
  {
   "cell_type": "code",
   "execution_count": 2,
   "id": "e5c39218",
   "metadata": {},
   "outputs": [
    {
     "name": "stdout",
     "output_type": "stream",
     "text": [
      "e\n"
     ]
    }
   ],
   "source": [
    "print(list[-4])"
   ]
  },
  {
   "cell_type": "code",
   "execution_count": 5,
   "id": "7f03e104",
   "metadata": {},
   "outputs": [
    {
     "name": "stdout",
     "output_type": "stream",
     "text": [
      "[10, 20, 30, 40]\n"
     ]
    }
   ],
   "source": [
    "marks=[10,20,30,40]\n",
    "print(marks)"
   ]
  },
  {
   "cell_type": "code",
   "execution_count": 6,
   "id": "406a65ec",
   "metadata": {},
   "outputs": [
    {
     "name": "stdout",
     "output_type": "stream",
     "text": [
      "[10, 20, 50, 40]\n"
     ]
    }
   ],
   "source": [
    "marks[2]=50\n",
    "print(marks)"
   ]
  },
  {
   "cell_type": "code",
   "execution_count": 1,
   "id": "2693e9f2",
   "metadata": {},
   "outputs": [
    {
     "data": {
      "text/plain": [
       "[10, 20, 30, 40]"
      ]
     },
     "execution_count": 1,
     "metadata": {},
     "output_type": "execute_result"
    }
   ],
   "source": [
    "marks=[10,20,30]\n",
    "marks.append(40)\n",
    "marks"
   ]
  },
  {
   "cell_type": "code",
   "execution_count": 2,
   "id": "2bb87348",
   "metadata": {},
   "outputs": [
    {
     "data": {
      "text/plain": [
       "[10, 20, 30, 40, 50, 60]"
      ]
     },
     "execution_count": 2,
     "metadata": {},
     "output_type": "execute_result"
    }
   ],
   "source": [
    "marks.extend([50,60])\n",
    "marks"
   ]
  },
  {
   "cell_type": "code",
   "execution_count": 3,
   "id": "f236d373",
   "metadata": {},
   "outputs": [
    {
     "data": {
      "text/plain": [
       "[10, 20, 30, 41, 40, 50, 60]"
      ]
     },
     "execution_count": 3,
     "metadata": {},
     "output_type": "execute_result"
    }
   ],
   "source": [
    "marks.insert(3,41)\n",
    "marks"
   ]
  },
  {
   "cell_type": "code",
   "execution_count": 4,
   "id": "a463a358",
   "metadata": {},
   "outputs": [
    {
     "data": {
      "text/plain": [
       "[10, 20, 30, 40, 50, 60]"
      ]
     },
     "execution_count": 4,
     "metadata": {},
     "output_type": "execute_result"
    }
   ],
   "source": [
    "del marks[3]\n",
    "marks"
   ]
  },
  {
   "cell_type": "code",
   "execution_count": 10,
   "id": "9bf396c8",
   "metadata": {},
   "outputs": [
    {
     "data": {
      "text/plain": [
       "[]"
      ]
     },
     "execution_count": 10,
     "metadata": {},
     "output_type": "execute_result"
    }
   ],
   "source": [
    "marks=[12,34,10]\n",
    "marks.clear()\n",
    "marks"
   ]
  },
  {
   "cell_type": "code",
   "execution_count": 11,
   "id": "1333cec4",
   "metadata": {},
   "outputs": [
    {
     "data": {
      "text/plain": [
       "[10, 20]"
      ]
     },
     "execution_count": 11,
     "metadata": {},
     "output_type": "execute_result"
    }
   ],
   "source": [
    "marks=[10,20,40]\n",
    "marks.remove(40)\n",
    "marks"
   ]
  },
  {
   "cell_type": "code",
   "execution_count": 13,
   "id": "70fce834",
   "metadata": {},
   "outputs": [
    {
     "data": {
      "text/plain": [
       "40"
      ]
     },
     "execution_count": 13,
     "metadata": {},
     "output_type": "execute_result"
    }
   ],
   "source": [
    "marks=[10,20,40]\n",
    "marks.pop()\n"
   ]
  },
  {
   "cell_type": "code",
   "execution_count": 14,
   "id": "e981010e",
   "metadata": {},
   "outputs": [
    {
     "data": {
      "text/plain": [
       "20"
      ]
     },
     "execution_count": 14,
     "metadata": {},
     "output_type": "execute_result"
    }
   ],
   "source": [
    "marks.pop()"
   ]
  },
  {
   "cell_type": "code",
   "execution_count": 17,
   "id": "a715884e",
   "metadata": {},
   "outputs": [
    {
     "data": {
      "text/plain": [
       "[10, 20, 30, 40, 50]"
      ]
     },
     "execution_count": 17,
     "metadata": {},
     "output_type": "execute_result"
    }
   ],
   "source": [
    "marks=[10,20]\n",
    "marks.extend([30,40,50])\n",
    "marks"
   ]
  },
  {
   "cell_type": "code",
   "execution_count": 18,
   "id": "e8e54852",
   "metadata": {},
   "outputs": [
    {
     "data": {
      "text/plain": [
       "50"
      ]
     },
     "execution_count": 18,
     "metadata": {},
     "output_type": "execute_result"
    }
   ],
   "source": [
    "marks.pop()"
   ]
  },
  {
   "cell_type": "code",
   "execution_count": 19,
   "id": "d5b17be3",
   "metadata": {},
   "outputs": [
    {
     "data": {
      "text/plain": [
       "40"
      ]
     },
     "execution_count": 19,
     "metadata": {},
     "output_type": "execute_result"
    }
   ],
   "source": [
    "marks.pop()"
   ]
  },
  {
   "cell_type": "code",
   "execution_count": null,
   "id": "4340a951",
   "metadata": {},
   "outputs": [],
   "source": []
  }
 ],
 "metadata": {
  "kernelspec": {
   "display_name": "Python 3 (ipykernel)",
   "language": "python",
   "name": "python3"
  },
  "language_info": {
   "codemirror_mode": {
    "name": "ipython",
    "version": 3
   },
   "file_extension": ".py",
   "mimetype": "text/x-python",
   "name": "python",
   "nbconvert_exporter": "python",
   "pygments_lexer": "ipython3",
   "version": "3.9.7"
  }
 },
 "nbformat": 4,
 "nbformat_minor": 5
}
