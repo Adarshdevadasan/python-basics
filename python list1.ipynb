{
 "cells": [
  {
   "cell_type": "code",
   "execution_count": 3,
   "id": "48b893f9",
   "metadata": {},
   "outputs": [
    {
     "name": "stdout",
     "output_type": "stream",
     "text": [
      "french\n",
      "['python', 'java', 'c++', 'c']\n"
     ]
    }
   ],
   "source": [
    "language=[\"python\",\"java\",\"c++\",\"french\",\"c\"]\n",
    "return_value=language.pop(3)\n",
    "print(return_value)\n",
    "print(language)"
   ]
  },
  {
   "cell_type": "code",
   "execution_count": 4,
   "id": "151ba0bf",
   "metadata": {},
   "outputs": [
    {
     "name": "stdout",
     "output_type": "stream",
     "text": [
      "ae\n",
      "['ab', 'ac', 'ad', 'af']\n"
     ]
    }
   ],
   "source": [
    "a=[\"ab\",\"ac\",\"ad\",\"ae\",\"af\"]\n",
    "ao=a.pop(3)\n",
    "print(ao)\n",
    "print(a)"
   ]
  },
  {
   "cell_type": "code",
   "execution_count": 6,
   "id": "c0761379",
   "metadata": {},
   "outputs": [
    {
     "name": "stdout",
     "output_type": "stream",
     "text": [
      "c\n",
      "['python', 'java', 'c++']\n",
      "c++\n",
      "['python', 'java']\n"
     ]
    }
   ],
   "source": [
    "lang=[\"python\",\"java\",\"c++\",\"c\"]\n",
    "print(lang.pop())\n",
    "print(lang)\n",
    "print(lang.pop(-1))\n",
    "print(lang)"
   ]
  },
  {
   "cell_type": "code",
   "execution_count": 7,
   "id": "d12c88ce",
   "metadata": {},
   "outputs": [
    {
     "name": "stdout",
     "output_type": "stream",
     "text": [
      "[10, 20, 30, 40, 'a']\n",
      "[10, 20, 30, 40, 'a']\n"
     ]
    }
   ],
   "source": [
    "aq=[10,20,30,40]\n",
    "aw=aq\n",
    "aw.append(\"a\")\n",
    "print(aw)\n",
    "print(aq)"
   ]
  },
  {
   "cell_type": "code",
   "execution_count": 11,
   "id": "b7d27643",
   "metadata": {},
   "outputs": [
    {
     "name": "stdout",
     "output_type": "stream",
     "text": [
      "[12, 13, 14, 15, 16, 'too']\n",
      "[12, 13, 14, 15, 16, 'too']\n"
     ]
    }
   ],
   "source": [
    "asd=[12,13,14,15,16]\n",
    "tip=asd\n",
    "tip.append(\"too\")\n",
    "print(tip)\n",
    "print(asd)"
   ]
  },
  {
   "cell_type": "code",
   "execution_count": 16,
   "id": "162a77cc",
   "metadata": {},
   "outputs": [
    {
     "name": "stdout",
     "output_type": "stream",
     "text": [
      "[1, 2, 3, 4]\n",
      "[1, 2, 3, 4, 5]\n"
     ]
    }
   ],
   "source": [
    "list=[1,2,3,4]\n",
    "new_list=list[:]\n",
    "new_list.append(5)\n",
    "print(list)\n",
    "print(new_list)"
   ]
  },
  {
   "cell_type": "code",
   "execution_count": 43,
   "id": "bf050c4a",
   "metadata": {},
   "outputs": [
    {
     "name": "stdout",
     "output_type": "stream",
     "text": [
      "[12, 45, 76, 28, 19]\n"
     ]
    }
   ],
   "source": [
    "list=[12,45,76,28,19]\n",
    "new_list=list[::-1]\n",
    "print(list)"
   ]
  },
  {
   "cell_type": "code",
   "execution_count": 19,
   "id": "0d04fbce",
   "metadata": {},
   "outputs": [
    {
     "name": "stdout",
     "output_type": "stream",
     "text": [
      "[10, 20, 30, 40, 50, 60]\n",
      "[10, 20, 30, 40, 50]\n"
     ]
    }
   ],
   "source": [
    "list=[10,20,30,40,50,60]\n",
    "print(list)\n",
    "list.remove(60)\n",
    "print(list)"
   ]
  },
  {
   "cell_type": "code",
   "execution_count": 42,
   "id": "609f6d4c",
   "metadata": {},
   "outputs": [
    {
     "name": "stdout",
     "output_type": "stream",
     "text": [
      "[1, 40, 55, 64, 89, 100]\n",
      "[100, 55]\n"
     ]
    }
   ],
   "source": [
    "list=[1,40,55,64,89,100]\n",
    "print(list)\n",
    "reversed_list=list[::-2]\n",
    "print(reversed_list)"
   ]
  },
  {
   "cell_type": "code",
   "execution_count": 27,
   "id": "eccdc8f1",
   "metadata": {},
   "outputs": [
    {
     "name": "stdout",
     "output_type": "stream",
     "text": [
      "[2, 45, 39, 66, 89, 99]\n",
      "[99, 89, 66, 39, 45, 2]\n"
     ]
    }
   ],
   "source": [
    "list=[2,45,39,66,89,99]\n",
    "print(list)\n",
    "list.reverse()\n",
    "print(list)"
   ]
  },
  {
   "cell_type": "code",
   "execution_count": 29,
   "id": "8a466488",
   "metadata": {},
   "outputs": [
    {
     "name": "stdout",
     "output_type": "stream",
     "text": [
      "[12, 39, 55, 100, 50]\n",
      "[12, 39, 50, 55, 100]\n"
     ]
    }
   ],
   "source": [
    "list=[12,39,55,100,50]\n",
    "print(list)\n",
    "list.sort()\n",
    "print(list)"
   ]
  },
  {
   "cell_type": "code",
   "execution_count": 31,
   "id": "70592cc5",
   "metadata": {},
   "outputs": [
    {
     "name": "stdout",
     "output_type": "stream",
     "text": [
      "[12, 39, 55, 100, 50]\n",
      "[100, 55, 50, 39, 12]\n"
     ]
    }
   ],
   "source": [
    "list=[12,39,55,100,50]\n",
    "print(list)\n",
    "list.sort(reverse=True)\n",
    "print(list)"
   ]
  }
 ],
 "metadata": {
  "kernelspec": {
   "display_name": "Python 3 (ipykernel)",
   "language": "python",
   "name": "python3"
  },
  "language_info": {
   "codemirror_mode": {
    "name": "ipython",
    "version": 3
   },
   "file_extension": ".py",
   "mimetype": "text/x-python",
   "name": "python",
   "nbconvert_exporter": "python",
   "pygments_lexer": "ipython3",
   "version": "3.9.7"
  }
 },
 "nbformat": 4,
 "nbformat_minor": 5
}
