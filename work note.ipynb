{
 "cells": [
  {
   "cell_type": "code",
   "execution_count": 9,
   "id": "d0fd2afb",
   "metadata": {},
   "outputs": [
    {
     "name": "stdout",
     "output_type": "stream",
     "text": [
      "300\n"
     ]
    }
   ],
   "source": [
    "add=10+30+\\\n",
    "    50+40+\\\n",
    "    90+80\n",
    "print(add)"
   ]
  },
  {
   "cell_type": "code",
   "execution_count": 11,
   "id": "0e5e2ad9",
   "metadata": {},
   "outputs": [
    {
     "name": "stdout",
     "output_type": "stream",
     "text": [
      "area of recatangle : 800\n"
     ]
    }
   ],
   "source": [
    "l=20;b=40\n",
    "print(\"area of recatangle :\",l*b)\n"
   ]
  },
  {
   "cell_type": "code",
   "execution_count": 12,
   "id": "ef652d02",
   "metadata": {},
   "outputs": [
    {
     "name": "stdout",
     "output_type": "stream",
     "text": [
      "100 is greater than 50\n"
     ]
    }
   ],
   "source": [
    "num1=50\n",
    "num2=100\n",
    "if num1>num2:\n",
    "    print(num1,\"is greater than\",num2)\n",
    "elif num2>num1:\n",
    "    print(num2,\"is greater than\",num1)\n",
    "else:\n",
    "    print(\"both are equal\")"
   ]
  },
  {
   "cell_type": "code",
   "execution_count": 13,
   "id": "68111dce",
   "metadata": {},
   "outputs": [
    {
     "name": "stdout",
     "output_type": "stream",
     "text": [
      "500 is greater than 200\n"
     ]
    }
   ],
   "source": [
    "num3=500\n",
    "num4=200\n",
    "if num3>num4:\n",
    "    print(num3,\"is greater than\",num4)\n",
    "elif num4>num3:\n",
    "    print(num4,\"is greater than\",num3)\n",
    "else:\n",
    "    print(\"both are equal\")"
   ]
  },
  {
   "cell_type": "code",
   "execution_count": 14,
   "id": "898d6015",
   "metadata": {},
   "outputs": [
    {
     "name": "stdout",
     "output_type": "stream",
     "text": [
      "even numbers are greater than 100\n"
     ]
    }
   ],
   "source": [
    "num1=500\n",
    "if num1>100:\n",
    "    if num1%2==0:\n",
    "        print(\"even numbers are greater than 100\")"
   ]
  },
  {
   "cell_type": "code",
   "execution_count": 21,
   "id": "7c3d6c86",
   "metadata": {},
   "outputs": [
    {
     "name": "stdout",
     "output_type": "stream",
     "text": [
      "the result is 600\n",
      "the result is 70\n"
     ]
    }
   ],
   "source": [
    "def multi_or_sum(num1,num2):\n",
    "    product=num1*num2\n",
    "    if product<\n",
    "    1000:\n",
    "        return product\n",
    "    else:\n",
    "        return num1+num2\n",
    "run=multi_or_sum(20,30)\n",
    "print(\"the result is\",run)\n",
    "run=multi_or_sum(40,30)\n",
    "print(\"the result is\",run)"
   ]
  },
  {
   "cell_type": "code",
   "execution_count": 23,
   "id": "80a9ac3d",
   "metadata": {},
   "outputs": [
    {
     "name": "stdout",
     "output_type": "stream",
     "text": [
      "the answer is 200\n",
      "the answer is 160\n"
     ]
    }
   ],
   "source": [
    "def work(num1,num2):\n",
    "    multi=num1*num2\n",
    "    if multi<1000:\n",
    "        return multi\n",
    "    else:\n",
    "        return num1+num2\n",
    "cool=work(10,20)\n",
    "print(\"the answer is\",cool)\n",
    "cool=work(90,70)\n",
    "print(\"the answer is\",cool)"
   ]
  },
  {
   "cell_type": "code",
   "execution_count": 24,
   "id": "bdf4fedd",
   "metadata": {},
   "outputs": [
    {
     "name": "stdout",
     "output_type": "stream",
     "text": [
      "Printing current and previous number and their sum in a range(10)\n",
      "Current Number 1 Previous Number  0  Sum:  1\n",
      "Current Number 2 Previous Number  1  Sum:  3\n",
      "Current Number 3 Previous Number  2  Sum:  5\n",
      "Current Number 4 Previous Number  3  Sum:  7\n",
      "Current Number 5 Previous Number  4  Sum:  9\n",
      "Current Number 6 Previous Number  5  Sum:  11\n",
      "Current Number 7 Previous Number  6  Sum:  13\n",
      "Current Number 8 Previous Number  7  Sum:  15\n",
      "Current Number 9 Previous Number  8  Sum:  17\n",
      "Current Number 10 Previous Number  9  Sum:  19\n"
     ]
    }
   ],
   "source": [
    "print(\"Printing current and previous number and their sum in a range(10)\")\n",
    "previous_num = 0\n",
    "\n",
    "# loop from 1 to 10\n",
    "for i in range(1, 11):\n",
    "    x_sum = previous_num + i\n",
    "    print(\"Current Number\", i, \"Previous Number \", previous_num, \" Sum: \", previous_num + i)\n",
    "    # modify previous number\n",
    "    # set it to the current number\n",
    "    previous_num = i\n"
   ]
  },
  {
   "cell_type": "code",
   "execution_count": 29,
   "id": "1662bde0",
   "metadata": {},
   "outputs": [
    {
     "name": "stdout",
     "output_type": "stream",
     "text": [
      "current number 1 previous number 0 sum 1\n",
      "current number 2 previous number 1 sum 3\n",
      "current number 3 previous number 2 sum 5\n",
      "current number 4 previous number 3 sum 7\n",
      "current number 5 previous number 4 sum 9\n",
      "current number 6 previous number 5 sum 11\n",
      "current number 7 previous number 6 sum 13\n",
      "current number 8 previous number 7 sum 15\n",
      "current number 9 previous number 8 sum 17\n",
      "current number 10 previous number 9 sum 19\n"
     ]
    }
   ],
   "source": [
    "previous_num=0\n",
    "for i in range(1,11):\n",
    "    sum_1=previous_num+i\n",
    "    print(\"current number\",i,\"previous number\",previous_num,\"sum\",previous_num+i)\n",
    "    previous_num=i"
   ]
  },
  {
   "cell_type": "code",
   "execution_count": 1,
   "id": "c3a35d3d",
   "metadata": {},
   "outputs": [
    {
     "name": "stdout",
     "output_type": "stream",
     "text": [
      "Addition is 100\n"
     ]
    }
   ],
   "source": [
    "def cal(A,B):\n",
    "    add=A+B\n",
    "    return add\n",
    "num=cal(40,60)\n",
    "print(\"Addition is\",num)"
   ]
  },
  {
   "cell_type": "code",
   "execution_count": 4,
   "id": "bbd80227",
   "metadata": {},
   "outputs": [
    {
     "name": "stdout",
     "output_type": "stream",
     "text": [
      "it is an odd number\n"
     ]
    }
   ],
   "source": [
    "def even_odd(Go):\n",
    "    if Go%2==0:\n",
    "        print(\"it is an even number\")\n",
    "    else:\n",
    "        print(\"it is an odd number\")\n",
    "even_odd(57)"
   ]
  },
  {
   "cell_type": "code",
   "execution_count": 6,
   "id": "24916820",
   "metadata": {},
   "outputs": [
    {
     "name": "stdout",
     "output_type": "stream",
     "text": [
      "add 12\n",
      "sub 8\n",
      "multi 20\n",
      "div 5.0\n"
     ]
    }
   ],
   "source": [
    "def met(num1,num2):\n",
    "    add=num1+num2\n",
    "    sub=num1-num2\n",
    "    multi=num1*num2\n",
    "    div=num1/num2\n",
    "    return add,sub,multi,div\n",
    "a,b,c,d=met(10,2)\n",
    "print(\"add\",a)\n",
    "print(\"sub\",b)\n",
    "print(\"multi\",c)\n",
    "print(\"div\",d)"
   ]
  }
 ],
 "metadata": {
  "kernelspec": {
   "display_name": "Python 3 (ipykernel)",
   "language": "python",
   "name": "python3"
  },
  "language_info": {
   "codemirror_mode": {
    "name": "ipython",
    "version": 3
   },
   "file_extension": ".py",
   "mimetype": "text/x-python",
   "name": "python",
   "nbconvert_exporter": "python",
   "pygments_lexer": "ipython3",
   "version": "3.9.7"
  }
 },
 "nbformat": 4,
 "nbformat_minor": 5
}
