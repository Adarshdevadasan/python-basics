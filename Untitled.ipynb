{
 "cells": [
  {
   "cell_type": "code",
   "execution_count": 2,
   "id": "0c48e527",
   "metadata": {},
   "outputs": [
    {
     "data": {
      "text/plain": [
       "(10, 20, 30, 40, 50)"
      ]
     },
     "execution_count": 2,
     "metadata": {},
     "output_type": "execute_result"
    }
   ],
   "source": [
    "mode=[10,20,30,40,50]\n",
    "ab=tuple(mode)\n",
    "ab"
   ]
  },
  {
   "cell_type": "code",
   "execution_count": 4,
   "id": "ea1d4be2",
   "metadata": {},
   "outputs": [
    {
     "data": {
      "text/plain": [
       "('aa', 'aq', 23, 23.4)"
      ]
     },
     "execution_count": 4,
     "metadata": {},
     "output_type": "execute_result"
    }
   ],
   "source": [
    "a=('aa','aq',23,23.4)\n",
    "a"
   ]
  },
  {
   "cell_type": "code",
   "execution_count": 9,
   "id": "3039dd13",
   "metadata": {},
   "outputs": [
    {
     "data": {
      "text/plain": [
       "(123,)"
      ]
     },
     "execution_count": 9,
     "metadata": {},
     "output_type": "execute_result"
    }
   ],
   "source": [
    "z=(123,)\n",
    "z"
   ]
  },
  {
   "cell_type": "code",
   "execution_count": 10,
   "id": "fc7bcaae",
   "metadata": {},
   "outputs": [
    {
     "data": {
      "text/plain": [
       "('qwe', 'try', 'uop')"
      ]
     },
     "execution_count": 10,
     "metadata": {},
     "output_type": "execute_result"
    }
   ],
   "source": [
    "we=('qwe','try','uop')\n",
    "we"
   ]
  },
  {
   "cell_type": "code",
   "execution_count": 13,
   "id": "e667fe41",
   "metadata": {},
   "outputs": [
    {
     "data": {
      "text/plain": [
       "()"
      ]
     },
     "execution_count": 13,
     "metadata": {},
     "output_type": "execute_result"
    }
   ],
   "source": [
    "s=()\n",
    "s\n"
   ]
  },
  {
   "cell_type": "code",
   "execution_count": 14,
   "id": "ec0864b4",
   "metadata": {},
   "outputs": [
    {
     "name": "stdout",
     "output_type": "stream",
     "text": [
      "(10, 20, 30, 40, 50)\n"
     ]
    }
   ],
   "source": [
    "list=[10,20,30,40,50]\n",
    "print(tuple(list))"
   ]
  },
  {
   "cell_type": "code",
   "execution_count": 15,
   "id": "033c7b02",
   "metadata": {},
   "outputs": [
    {
     "name": "stdout",
     "output_type": "stream",
     "text": [
      "(5, 67, 876, 12, 66)\n"
     ]
    }
   ],
   "source": [
    "tom=(123,54,5,67,876,12,66,38,19)\n",
    "tom1=tom[2:7]\n",
    "print(tom1)"
   ]
  },
  {
   "cell_type": "code",
   "execution_count": 16,
   "id": "07582e5c",
   "metadata": {},
   "outputs": [
    {
     "data": {
      "text/plain": [
       "5"
      ]
     },
     "execution_count": 16,
     "metadata": {},
     "output_type": "execute_result"
    }
   ],
   "source": [
    "T=('lk','op','jh','mn','zxc')\n",
    "len(T)"
   ]
  },
  {
   "cell_type": "code",
   "execution_count": 24,
   "id": "b7261429",
   "metadata": {},
   "outputs": [
    {
     "name": "stdout",
     "output_type": "stream",
     "text": [
      "(7, 6, 5, 4, 3, 2, 1)\n"
     ]
    }
   ],
   "source": [
    "ram=(1,2,3,4,5,6,7)\n",
    "ram=tuple(reversed(ram))\n",
    "print(ram)"
   ]
  },
  {
   "cell_type": "code",
   "execution_count": 25,
   "id": "0dd49281",
   "metadata": {},
   "outputs": [
    {
     "data": {
      "text/plain": [
       "{10, 20, 40, 50}"
      ]
     },
     "execution_count": 25,
     "metadata": {},
     "output_type": "execute_result"
    }
   ],
   "source": [
    "s={10,20,10,40,50,20}\n",
    "s"
   ]
  },
  {
   "cell_type": "code",
   "execution_count": 28,
   "id": "e1568d32",
   "metadata": {},
   "outputs": [
    {
     "data": {
      "text/plain": [
       "{23, 45, 67, 98, 'Tom'}"
      ]
     },
     "execution_count": 28,
     "metadata": {},
     "output_type": "execute_result"
    }
   ],
   "source": [
    "s1={45,23,98,67}\n",
    "s1.add(\"Tom\")\n",
    "s1"
   ]
  },
  {
   "cell_type": "code",
   "execution_count": 29,
   "id": "0a1628b0",
   "metadata": {
    "scrolled": true
   },
   "outputs": [
    {
     "data": {
      "text/plain": [
       "{23, 45, 67, 98}"
      ]
     },
     "execution_count": 29,
     "metadata": {},
     "output_type": "execute_result"
    }
   ],
   "source": [
    "s1.remove(\"Tom\")\n",
    "s1"
   ]
  },
  {
   "cell_type": "code",
   "execution_count": 31,
   "id": "d3eeefb6",
   "metadata": {},
   "outputs": [
    {
     "data": {
      "text/plain": [
       "{1, 2, 3, 4, 5, 6}"
      ]
     },
     "execution_count": 31,
     "metadata": {},
     "output_type": "execute_result"
    }
   ],
   "source": [
    "RR=set([1,2,3])\n",
    "RE=set([4,5,6])\n",
    "RR.union(RE)"
   ]
  },
  {
   "cell_type": "code",
   "execution_count": 32,
   "id": "f8096f07",
   "metadata": {},
   "outputs": [
    {
     "data": {
      "text/plain": [
       "{2}"
      ]
     },
     "execution_count": 32,
     "metadata": {},
     "output_type": "execute_result"
    }
   ],
   "source": [
    "a=set([1,2,3])\n",
    "b=set([2,4,5])\n",
    "a.intersection(b)"
   ]
  },
  {
   "cell_type": "code",
   "execution_count": 33,
   "id": "65710461",
   "metadata": {},
   "outputs": [
    {
     "data": {
      "text/plain": [
       "{4, 5, 6, 7, 8, 9}"
      ]
     },
     "execution_count": 33,
     "metadata": {},
     "output_type": "execute_result"
    }
   ],
   "source": [
    "c=set([9,8,7])\n",
    "d=set([6,5,4])\n",
    "c|d"
   ]
  },
  {
   "cell_type": "code",
   "execution_count": 34,
   "id": "21d582b6",
   "metadata": {},
   "outputs": [
    {
     "data": {
      "text/plain": [
       "{11, 33, 44, 55, 66, 77}"
      ]
     },
     "execution_count": 34,
     "metadata": {},
     "output_type": "execute_result"
    }
   ],
   "source": [
    "p=set([11,22,33,44])\n",
    "o=set([22,55,66,77])\n",
    "p.symmetric_difference(o)"
   ]
  },
  {
   "cell_type": "code",
   "execution_count": 36,
   "id": "f8fd6407",
   "metadata": {},
   "outputs": [
    {
     "name": "stdout",
     "output_type": "stream",
     "text": [
      "prime numbers 12\n",
      "prime numbers 66\n",
      "prime numbers 48\n",
      "prime numbers 90\n"
     ]
    }
   ],
   "source": [
    "list1=[12,87,66,48,90]\n",
    "for i in list1:\n",
    "    if i%2==0:\n",
    "        print(\"prime numbers\",i)"
   ]
  },
  {
   "cell_type": "code",
   "execution_count": 37,
   "id": "d7bb1aed",
   "metadata": {},
   "outputs": [
    {
     "name": "stdout",
     "output_type": "stream",
     "text": [
      "{'q': 1, 'u': 2}\n",
      "{'q': 1, 'u': 2, 'r': 3, 'e': 4}\n"
     ]
    }
   ],
   "source": [
    "a={'q':1,'u':2}\n",
    "print(a)\n",
    "a['r']=3\n",
    "a['e']=4\n",
    "print(a)"
   ]
  },
  {
   "cell_type": "code",
   "execution_count": 38,
   "id": "0502c83b",
   "metadata": {},
   "outputs": [
    {
     "name": "stdout",
     "output_type": "stream",
     "text": [
      "True\n"
     ]
    }
   ],
   "source": [
    "num={1,2,3,4,5}\n",
    "variable={1,2,3}\n",
    "print(variable.issubset(num))\n"
   ]
  }
 ],
 "metadata": {
  "kernelspec": {
   "display_name": "Python 3 (ipykernel)",
   "language": "python",
   "name": "python3"
  },
  "language_info": {
   "codemirror_mode": {
    "name": "ipython",
    "version": 3
   },
   "file_extension": ".py",
   "mimetype": "text/x-python",
   "name": "python",
   "nbconvert_exporter": "python",
   "pygments_lexer": "ipython3",
   "version": "3.9.7"
  }
 },
 "nbformat": 4,
 "nbformat_minor": 5
}
