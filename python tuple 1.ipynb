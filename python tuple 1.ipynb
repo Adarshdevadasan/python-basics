{
 "cells": [
  {
   "cell_type": "code",
   "execution_count": 3,
   "id": "46c29319",
   "metadata": {},
   "outputs": [
    {
     "data": {
      "text/plain": [
       "{1, 4, 5, 6, 8}"
      ]
     },
     "execution_count": 3,
     "metadata": {},
     "output_type": "execute_result"
    }
   ],
   "source": [
    "s1=set([4,5,6])\n",
    "s2=set([1,6,8])\n",
    "s1.union(s2)\n"
   ]
  },
  {
   "cell_type": "code",
   "execution_count": 2,
   "id": "665597d8",
   "metadata": {},
   "outputs": [
    {
     "data": {
      "text/plain": [
       "{1, 4, 5, 6, 8}"
      ]
     },
     "execution_count": 2,
     "metadata": {},
     "output_type": "execute_result"
    }
   ],
   "source": [
    "s1|s2"
   ]
  },
  {
   "cell_type": "code",
   "execution_count": 3,
   "id": "7ef52a96",
   "metadata": {},
   "outputs": [
    {
     "data": {
      "text/plain": [
       "{1, 6, 8, 20, 50, 70}"
      ]
     },
     "execution_count": 3,
     "metadata": {},
     "output_type": "execute_result"
    }
   ],
   "source": [
    "s=set([10,30,40])\n",
    "s1=set([20,50,70])\n",
    "s1|s2"
   ]
  },
  {
   "cell_type": "code",
   "execution_count": 4,
   "id": "802fa536",
   "metadata": {},
   "outputs": [
    {
     "data": {
      "text/plain": [
       "{6}"
      ]
     },
     "execution_count": 4,
     "metadata": {},
     "output_type": "execute_result"
    }
   ],
   "source": [
    "s1=set([4,5,6])\n",
    "s2=set([1,6,9])\n",
    "s1.intersection(s2)"
   ]
  },
  {
   "cell_type": "code",
   "execution_count": 5,
   "id": "96033f4d",
   "metadata": {},
   "outputs": [
    {
     "data": {
      "text/plain": [
       "{1, 4, 5, 9}"
      ]
     },
     "execution_count": 5,
     "metadata": {},
     "output_type": "execute_result"
    }
   ],
   "source": [
    "s1=set([4,5,6])\n",
    "s2=set([1,6,9])\n",
    "s1.symmetric_difference(s2)\n"
   ]
  },
  {
   "cell_type": "code",
   "execution_count": 6,
   "id": "9d11b077",
   "metadata": {},
   "outputs": [
    {
     "data": {
      "text/plain": [
       "{1, 4, 5, 9}"
      ]
     },
     "execution_count": 6,
     "metadata": {},
     "output_type": "execute_result"
    }
   ],
   "source": [
    "s1=set([4,5,6])\n",
    "s2=set([1,6,9])\n",
    "s1.symmetric_difference_update(s2)\n",
    "s1"
   ]
  },
  {
   "cell_type": "code",
   "execution_count": 7,
   "id": "91bb7ef8",
   "metadata": {},
   "outputs": [
    {
     "data": {
      "text/plain": [
       "{4, 5}"
      ]
     },
     "execution_count": 7,
     "metadata": {},
     "output_type": "execute_result"
    }
   ],
   "source": [
    "s1=set([4,5,6])\n",
    "s2=set([1,6,9])\n",
    "s1.difference_update(s2)\n",
    "s1"
   ]
  },
  {
   "cell_type": "code",
   "execution_count": 8,
   "id": "d4859ee9",
   "metadata": {},
   "outputs": [
    {
     "data": {
      "text/plain": [
       "{7, 9}"
      ]
     },
     "execution_count": 8,
     "metadata": {},
     "output_type": "execute_result"
    }
   ],
   "source": [
    "s1=set([3,6,7,9])\n",
    "s2=set([6,7,9,10])\n",
    "s3=set([7,9,10,11])\n",
    "set.intersection(s1,s2,s3)\n"
   ]
  },
  {
   "cell_type": "code",
   "execution_count": 9,
   "id": "4ea59465",
   "metadata": {},
   "outputs": [
    {
     "data": {
      "text/plain": [
       "{4, 5, 6, frozenset({2, 3, 4})}"
      ]
     },
     "execution_count": 9,
     "metadata": {},
     "output_type": "execute_result"
    }
   ],
   "source": [
    "fs=frozenset([2,3,4])\n",
    "s1=set([fs,4,5,6])\n",
    "s1"
   ]
  },
  {
   "cell_type": "code",
   "execution_count": 10,
   "id": "9dfb8b4d",
   "metadata": {},
   "outputs": [
    {
     "data": {
      "text/plain": [
       "frozenset({4})"
      ]
     },
     "execution_count": 10,
     "metadata": {},
     "output_type": "execute_result"
    }
   ],
   "source": [
    "fs.intersection(s1)\n"
   ]
  },
  {
   "cell_type": "code",
   "execution_count": 11,
   "id": "991c598e",
   "metadata": {},
   "outputs": [
    {
     "ename": "AttributeError",
     "evalue": "'frozenset' object has no attribute 'add'",
     "output_type": "error",
     "traceback": [
      "\u001b[1;31m---------------------------------------------------------------------------\u001b[0m",
      "\u001b[1;31mAttributeError\u001b[0m                            Traceback (most recent call last)",
      "\u001b[1;32m~\\AppData\\Local\\Temp/ipykernel_15868/2381969887.py\u001b[0m in \u001b[0;36m<module>\u001b[1;34m\u001b[0m\n\u001b[1;32m----> 1\u001b[1;33m \u001b[0mfs\u001b[0m\u001b[1;33m.\u001b[0m\u001b[0madd\u001b[0m\u001b[1;33m(\u001b[0m\u001b[1;36m6\u001b[0m\u001b[1;33m)\u001b[0m\u001b[1;33m\u001b[0m\u001b[1;33m\u001b[0m\u001b[0m\n\u001b[0m",
      "\u001b[1;31mAttributeError\u001b[0m: 'frozenset' object has no attribute 'add'"
     ]
    }
   ],
   "source": [
    "fs.add(6)"
   ]
  },
  {
   "cell_type": "code",
   "execution_count": 12,
   "id": "59e01f77",
   "metadata": {},
   "outputs": [
    {
     "name": "stdout",
     "output_type": "stream",
     "text": [
      "zara\n"
     ]
    }
   ],
   "source": [
    "dict={'name':'zara','age':7,'class':'first'};\n",
    "print(dict['name'])"
   ]
  },
  {
   "cell_type": "code",
   "execution_count": 20,
   "id": "86f21e29",
   "metadata": {},
   "outputs": [
    {
     "name": "stdout",
     "output_type": "stream",
     "text": [
      "7\n",
      "dict['school']: dps school\n"
     ]
    }
   ],
   "source": [
    "dict={'name':'zara','age':7,'class':'first'}\n",
    "dict['school']=\"dps school\"\n",
    "print(dict['age'])\n",
    "print(\"dict['school']:\",dict['school'])"
   ]
  },
  {
   "cell_type": "code",
   "execution_count": 21,
   "id": "53da27c5",
   "metadata": {},
   "outputs": [
    {
     "name": "stdout",
     "output_type": "stream",
     "text": [
      "dict['age']\n"
     ]
    }
   ],
   "source": [
    "dict={'name':'zara','age':7,'class':'first'}\n",
    "del dict['name']\n",
    "dict.clear()\n",
    "del dict\n",
    "print(dict['age'])"
   ]
  },
  {
   "cell_type": "code",
   "execution_count": 22,
   "id": "f8dcac5b",
   "metadata": {},
   "outputs": [
    {
     "name": "stdout",
     "output_type": "stream",
     "text": [
      "dict['schhol']\n"
     ]
    }
   ],
   "source": [
    "print(dict['schhol'])"
   ]
  },
  {
   "cell_type": "code",
   "execution_count": 23,
   "id": "6a200af4",
   "metadata": {},
   "outputs": [
    {
     "ename": "KeyError",
     "evalue": "'Name'",
     "output_type": "error",
     "traceback": [
      "\u001b[1;31m---------------------------------------------------------------------------\u001b[0m",
      "\u001b[1;31mKeyError\u001b[0m                                  Traceback (most recent call last)",
      "\u001b[1;32m~\\AppData\\Local\\Temp/ipykernel_15868/2508776647.py\u001b[0m in \u001b[0;36m<module>\u001b[1;34m\u001b[0m\n\u001b[0;32m      1\u001b[0m \u001b[0mdict\u001b[0m\u001b[1;33m=\u001b[0m\u001b[1;33m{\u001b[0m\u001b[1;34m'name'\u001b[0m\u001b[1;33m:\u001b[0m\u001b[1;34m'zara'\u001b[0m\u001b[1;33m,\u001b[0m\u001b[1;34m'age'\u001b[0m\u001b[1;33m:\u001b[0m\u001b[1;36m7\u001b[0m\u001b[1;33m,\u001b[0m\u001b[1;34m'name'\u001b[0m\u001b[1;33m:\u001b[0m\u001b[1;34m'manni'\u001b[0m\u001b[1;33m}\u001b[0m\u001b[1;33m\u001b[0m\u001b[1;33m\u001b[0m\u001b[0m\n\u001b[1;32m----> 2\u001b[1;33m \u001b[0mprint\u001b[0m\u001b[1;33m(\u001b[0m\u001b[0mdict\u001b[0m\u001b[1;33m[\u001b[0m\u001b[1;34m'Name'\u001b[0m\u001b[1;33m]\u001b[0m\u001b[1;33m)\u001b[0m\u001b[1;33m\u001b[0m\u001b[1;33m\u001b[0m\u001b[0m\n\u001b[0m",
      "\u001b[1;31mKeyError\u001b[0m: 'Name'"
     ]
    }
   ],
   "source": [
    "dict={'name':'zara','age':7,'name':'manni'}\n",
    "print(dict['Name'])"
   ]
  },
  {
   "cell_type": "code",
   "execution_count": 24,
   "id": "ed33f5ae",
   "metadata": {},
   "outputs": [
    {
     "name": "stdout",
     "output_type": "stream",
     "text": [
      "hello world\n"
     ]
    }
   ],
   "source": [
    "print(\"hello world\")"
   ]
  },
  {
   "cell_type": "code",
   "execution_count": 25,
   "id": "1d40d27b",
   "metadata": {},
   "outputs": [
    {
     "name": "stdout",
     "output_type": "stream",
     "text": [
      "enter first number3\n",
      "enter second number3\n",
      "6\n"
     ]
    }
   ],
   "source": [
    "a=int(input(\"enter first number\"))\n",
    "b=int(input(\"enter second number\"))\n",
    "sum=a+b\n",
    "print(sum)"
   ]
  },
  {
   "cell_type": "code",
   "execution_count": 26,
   "id": "7fd3b51d",
   "metadata": {},
   "outputs": [
    {
     "name": "stdout",
     "output_type": "stream",
     "text": [
      "20 is a positive number\n"
     ]
    }
   ],
   "source": [
    "a=20\n",
    "b=10\n",
    "if a >0:\n",
    "    print(a,\"is a positive number\"\n",
    "         )\n",
    "elif b >0:\n",
    "    print(b,\"is a negative number\")\n",
    "else:\n",
    "    print(\"zero\")\n"
   ]
  },
  {
   "cell_type": "code",
   "execution_count": 29,
   "id": "5806f21d",
   "metadata": {},
   "outputs": [
    {
     "name": "stdout",
     "output_type": "stream",
     "text": [
      "43 it's ood number\n"
     ]
    }
   ],
   "source": [
    "num1=20\n",
    "num2=43\n",
    "if num1<0:\n",
    "    print(num1,\"it's even number\")\n",
    "else:\n",
    "    print(num2,\"it's ood number\")"
   ]
  },
  {
   "cell_type": "code",
   "execution_count": 28,
   "id": "2efd0f77",
   "metadata": {},
   "outputs": [
    {
     "name": "stdout",
     "output_type": "stream",
     "text": [
      "enter the 1st number3\n",
      "enter the 2nd number5\n",
      "enter the 3rd number6\n",
      "c is the largest number\n"
     ]
    }
   ],
   "source": [
    "a=int(input(\"enter the 1st number\"))\n",
    "b=int(input(\"enter the 2nd number\"))\n",
    "c=int(input(\"enter the 3rd number\"))\n",
    "if(a>b):\n",
    "    print(\"a is the largest number\")\n",
    "elif(b>c):\n",
    "    print(\"b is the largest number\")\n",
    "else:\n",
    "    print(\"c is the largest number\")\n",
    "    "
   ]
  },
  {
   "cell_type": "code",
   "execution_count": 30,
   "id": "25a7dfa5",
   "metadata": {},
   "outputs": [
    {
     "name": "stdout",
     "output_type": "stream",
     "text": [
      "the factorial of 8 is 40320\n"
     ]
    }
   ],
   "source": [
    "#factorial\n",
    "num=8\n",
    "fact=1\n",
    "if num<0:\n",
    "    print(\"factorial is not exist in negative number\")\n",
    "elif num==1:\n",
    "    print(\"factorial of zero is 1\")\n",
    "else:\n",
    "    for i in range(1,num+1):\n",
    "        fact=fact*i\n",
    "print(\"the factorial of\",num,\"is\",fact)"
   ]
  },
  {
   "cell_type": "code",
   "execution_count": 31,
   "id": "30456a86",
   "metadata": {},
   "outputs": [
    {
     "name": "stdout",
     "output_type": "stream",
     "text": [
      "how many terms5\n",
      "0\n",
      "1\n",
      "1\n",
      "2\n",
      "3\n"
     ]
    }
   ],
   "source": [
    "nterms=int(input(\"how many terms\"))\n",
    "n1,n2=0,1\n",
    "count=0\n",
    "if nterms<=0:\n",
    "    print(\"emter a negative number\")\n",
    "elif nterms==1:\n",
    "    print(nterms)\n",
    "    print(n1)\n",
    "else:\n",
    "    while count<nterms:\n",
    "        print(n1)\n",
    "        n=n1+n2\n",
    "        n1=n2\n",
    "        n2=n\n",
    "        count=count+1"
   ]
  },
  {
   "cell_type": "code",
   "execution_count": 9,
   "id": "66e611ed",
   "metadata": {},
   "outputs": [
    {
     "name": "stdout",
     "output_type": "stream",
     "text": [
      "6 is not a prime number\n",
      "6 is not a prime number\n"
     ]
    }
   ],
   "source": [
    "num=6\n",
    "if num>1:\n",
    "    for i in range(2,num):\n",
    "        if(num%i)==0:\n",
    "            print(num,\"is not a prime number\")\n",
    "else:\n",
    "    print(num,\"is a prime number\")"
   ]
  },
  {
   "cell_type": "code",
   "execution_count": 14,
   "id": "da2730aa",
   "metadata": {},
   "outputs": [
    {
     "name": "stdout",
     "output_type": "stream",
     "text": [
      "10 is not a prime number\n",
      "10 is not a prime number\n"
     ]
    }
   ],
   "source": [
    "num=10\n",
    "if num>1:\n",
    "    for i in range(2,num):\n",
    "        if(num%i)==0:\n",
    "            print(num,\"is not a prime number\")\n",
    "else:\n",
    "    print(num,\"is a prime number\")"
   ]
  },
  {
   "cell_type": "code",
   "execution_count": 4,
   "id": "a5e46d45",
   "metadata": {},
   "outputs": [],
   "source": [
    "num=3\n",
    "if num>1:\n",
    "    for i in range(2,num):\n",
    "        if (num%i)==0:\n",
    "            print(num,\"is not a prime number\")\n",
    "else:\n",
    "    print(num,\"is a prime number\")"
   ]
  },
  {
   "cell_type": "code",
   "execution_count": 19,
   "id": "b679ceff",
   "metadata": {},
   "outputs": [
    {
     "name": "stdout",
     "output_type": "stream",
     "text": [
      "enter a number7\n",
      "it's a odd number\n"
     ]
    }
   ],
   "source": [
    "num=int(input(\"enter a number\"))\n",
    "if num%2==0:\n",
    "    print(\"it's a even number\")\n",
    "else:\n",
    "    print(\"it's a odd number\")\n",
    "    "
   ]
  },
  {
   "cell_type": "code",
   "execution_count": null,
   "id": "b71b8548",
   "metadata": {},
   "outputs": [],
   "source": [
    "num=int(input(\"enter a number:\"))\n",
    "if num%2==0:\n",
    "    print(\"it's a even number\")\n",
    "else:\n",
    "    print(\"it's a odd number\")"
   ]
  },
  {
   "cell_type": "code",
   "execution_count": 25,
   "id": "28b5e01b",
   "metadata": {},
   "outputs": [
    {
     "name": "stdout",
     "output_type": "stream",
     "text": [
      "enter the 1st sub mark100\n",
      "enter the 2nd sub mark90\n",
      "enter the 3rd sub mark99\n",
      "enter the 4th sub mark33\n",
      "enter the 5th sub mark90\n",
      "grade:B\n"
     ]
    }
   ],
   "source": [
    "sub1=int(input(\"enter the 1st sub mark\"))\n",
    "sub2=int(input(\"enter the 2nd sub mark\"))\n",
    "sub3=int(input(\"enter the 3rd sub mark\"))\n",
    "sub4=int(input(\"enter the 4th sub mark\"))\n",
    "sub5=int(input(\"enter the 5th sub mark\"))\n",
    "sum=sub1+sub2+sub3+sub4+sub5\n",
    "avg=sum/5\n",
    "if(avg>=90):\n",
    "    print(\"grade:A\")\n",
    "elif(avg>=80 and avg<90):\n",
    "    print(\"grade:B\")\n",
    "elif(avg>=70 and avg<80):\n",
    "    print(\"grade:C\")\n",
    "elif(avg>=60 and avg<70):\n",
    "    print(\"grade:D\")\n",
    "else:\n",
    "    print(\"grade:F\")\n",
    "    "
   ]
  },
  {
   "cell_type": "code",
   "execution_count": 24,
   "id": "71997288",
   "metadata": {},
   "outputs": [
    {
     "name": "stdout",
     "output_type": "stream",
     "text": [
      "(5, 4, 3, 2, 1)\n"
     ]
    }
   ],
   "source": [
    "num=1,2,3,4,5\n",
    "print(str(num[::-1]))"
   ]
  },
  {
   "cell_type": "code",
   "execution_count": 21,
   "id": "ba723785",
   "metadata": {},
   "outputs": [
    {
     "name": "stdout",
     "output_type": "stream",
     "text": [
      "(50, 40, 30, 20, 10)\n"
     ]
    }
   ],
   "source": [
    "a=10,20,30,40,50\n",
    "print(str(a[::-1]))"
   ]
  },
  {
   "cell_type": "code",
   "execution_count": 3,
   "id": "6441deb7",
   "metadata": {},
   "outputs": [
    {
     "name": "stdout",
     "output_type": "stream",
     "text": [
      "enter the number to br reversed987654\n",
      "the number to be reversed 456789\n"
     ]
    }
   ],
   "source": [
    "num=int(input(\"enter the number to br reversed\"))\n",
    "reverse_no=0\n",
    "while(num>0):\n",
    "    remainder=num%10\n",
    "    reverse_no=(reverse_no*10)+remainder\n",
    "    num=num//10\n",
    "print(\"the number to be reversed\",reverse_no)"
   ]
  },
  {
   "cell_type": "code",
   "execution_count": null,
   "id": "9add04c2",
   "metadata": {},
   "outputs": [],
   "source": []
  }
 ],
 "metadata": {
  "kernelspec": {
   "display_name": "Python 3 (ipykernel)",
   "language": "python",
   "name": "python3"
  },
  "language_info": {
   "codemirror_mode": {
    "name": "ipython",
    "version": 3
   },
   "file_extension": ".py",
   "mimetype": "text/x-python",
   "name": "python",
   "nbconvert_exporter": "python",
   "pygments_lexer": "ipython3",
   "version": "3.9.7"
  }
 },
 "nbformat": 4,
 "nbformat_minor": 5
}
