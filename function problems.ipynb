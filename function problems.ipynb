{
 "cells": [
  {
   "cell_type": "code",
   "execution_count": 2,
   "id": "72e9653c",
   "metadata": {},
   "outputs": [
    {
     "name": "stdout",
     "output_type": "stream",
     "text": [
      "    January 2022\n",
      "Mo Tu We Th Fr Sa Su\n",
      "                1  2\n",
      " 3  4  5  6  7  8  9\n",
      "10 11 12 13 14 15 16\n",
      "17 18 19 20 21 22 23\n",
      "24 25 26 27 28 29 30\n",
      "31\n",
      "\n"
     ]
    }
   ],
   "source": [
    "import calendar\n",
    "yy=2022\n",
    "mm=1\n",
    "print(calendar.month(yy,mm))"
   ]
  },
  {
   "cell_type": "code",
   "execution_count": 4,
   "id": "c5d46df8",
   "metadata": {},
   "outputs": [
    {
     "name": "stdout",
     "output_type": "stream",
     "text": [
      "14\n"
     ]
    }
   ],
   "source": [
    "num=max(12,13,14)\n",
    "print(num)"
   ]
  },
  {
   "cell_type": "code",
   "execution_count": 5,
   "id": "48b50809",
   "metadata": {},
   "outputs": [
    {
     "name": "stdout",
     "output_type": "stream",
     "text": [
      "adarsh 22\n"
     ]
    }
   ],
   "source": [
    "def func(name,age):\n",
    "    print(name,age)\n",
    "func(\"adarsh\",22)"
   ]
  },
  {
   "cell_type": "code",
   "execution_count": 6,
   "id": "18f7f3e3",
   "metadata": {},
   "outputs": [
    {
     "ename": "NameError",
     "evalue": "name 'x' is not defined",
     "output_type": "error",
     "traceback": [
      "\u001b[1;31m---------------------------------------------------------------------------\u001b[0m",
      "\u001b[1;31mNameError\u001b[0m                                 Traceback (most recent call last)",
      "\u001b[1;32m~\\AppData\\Local\\Temp/ipykernel_748/2996160004.py\u001b[0m in \u001b[0;36m<module>\u001b[1;34m\u001b[0m\n\u001b[1;32m----> 1\u001b[1;33m \u001b[0msquare\u001b[0m\u001b[1;33m=\u001b[0m\u001b[0mx\u001b[0m\u001b[1;33m(\u001b[0m\u001b[0mx\u001b[0m\u001b[1;33m,\u001b[0m\u001b[0my\u001b[0m\u001b[1;33m)\u001b[0m\u001b[1;33m\u001b[0m\u001b[1;33m\u001b[0m\u001b[0m\n\u001b[0m\u001b[0;32m      2\u001b[0m \u001b[0mprint\u001b[0m\u001b[1;33m(\u001b[0m\u001b[0msquare\u001b[0m\u001b[1;33m,\u001b[0m\u001b[1;36m2\u001b[0m\u001b[1;33m,\u001b[0m\u001b[1;36m4\u001b[0m\u001b[1;33m)\u001b[0m\u001b[1;33m\u001b[0m\u001b[1;33m\u001b[0m\u001b[0m\n",
      "\u001b[1;31mNameError\u001b[0m: name 'x' is not defined"
     ]
    }
   ],
   "source": [
    "square=x(x,y)\n",
    "print(square,2,4)"
   ]
  },
  {
   "cell_type": "code",
   "execution_count": 17,
   "id": "82aba44e",
   "metadata": {},
   "outputs": [
    {
     "name": "stdout",
     "output_type": "stream",
     "text": [
      "Numbers divisible by 16 are [65, 39, 221]\n"
     ]
    }
   ],
   "source": [
    "my_list = [12, 65, 54, 39, 102, 339, 221,]\n",
    "result = list(filter(lambda x: (x % 13 == 0), my_list))\n",
    "print(\"Numbers divisible by 16 are\",result)\n"
   ]
  },
  {
   "cell_type": "code",
   "execution_count": 11,
   "id": "77b670a6",
   "metadata": {},
   "outputs": [
    {
     "name": "stdout",
     "output_type": "stream",
     "text": [
      "numbers divisible by 12 are: (False, [12, 14, 50, 45, 39, 66, 28, 36])\n"
     ]
    }
   ],
   "source": [
    "list_=[12,14,50,45,39,66,28,36]\n",
    "result=((2%12==0),list_)\n",
    "print(\"numbers divisible by 12 are:\",result)"
   ]
  },
  {
   "cell_type": "code",
   "execution_count": 13,
   "id": "6cb48270",
   "metadata": {},
   "outputs": [
    {
     "name": "stdout",
     "output_type": "stream",
     "text": [
      "square of every number in the list:\n",
      "[1, 4, 9, 16, 25, 36, 49, 64, 81, 100]\n"
     ]
    }
   ],
   "source": [
    "nums = [1, 2, 3, 4, 5, 6, 7, 8, 9, 10]\n",
    "print(\"square of every number in the list:\")\n",
    "square_nums = list(map(lambda x: x ** 2, nums))\n",
    "print(square_nums)"
   ]
  },
  {
   "cell_type": "code",
   "execution_count": 21,
   "id": "9eceae49",
   "metadata": {},
   "outputs": [
    {
     "name": "stdout",
     "output_type": "stream",
     "text": [
      "blue is a bird\n",
      "woo is also a bird\n",
      "blue is 10 years old\n",
      "woo is 15 years old\n"
     ]
    }
   ],
   "source": [
    "class parrot:\n",
    "    #class attribute\n",
    "    species=\"bird\"\n",
    "    \n",
    "    #instance attribute\n",
    "    def __init__(self,name,age):\n",
    "        self.name=name\n",
    "        self.age=age\n",
    "        \n",
    "#instantiate the parrot class\n",
    "blue=parrot(\"blue\",10)\n",
    "woo=parrot(\"woo\",15)\n",
    "\n",
    "# #access the class attributes\n",
    "# print(\"blue is a {}\".format(blue.__class__.species))\n",
    "# print(\"woo is also a {}\".format(woo.__class__.species))\n",
    "\n",
    "# #access the instance attributes\n",
    "# print(\"{} is {} years old\".format(blue.name,blue.age))\n",
    "# print(\"{} is {} years old\".format(woo.name,woo.age))\n"
   ]
  },
  {
   "cell_type": "code",
   "execution_count": 23,
   "id": "12fbca02",
   "metadata": {},
   "outputs": [
    {
     "name": "stdout",
     "output_type": "stream",
     "text": [
      "blue colored house and located at calicut\n"
     ]
    }
   ],
   "source": [
    "class home:\n",
    "    \n",
    "    def __init__(self,color,place):\n",
    "        self.color = color\n",
    "        self.place = place\n",
    "        \n",
    "\n",
    "h1=home(\"blue\",\"calicut\")\n",
    "h2=home(\"yellow\",\"calicut\")\n",
    "\n",
    "print(\"{} colored house and located at {}\".format(h1.color, h1.place))\n",
    "    "
   ]
  },
  {
   "cell_type": "code",
   "execution_count": null,
   "id": "43b79f37",
   "metadata": {},
   "outputs": [],
   "source": []
  }
 ],
 "metadata": {
  "kernelspec": {
   "display_name": "Python 3 (ipykernel)",
   "language": "python",
   "name": "python3"
  },
  "language_info": {
   "codemirror_mode": {
    "name": "ipython",
    "version": 3
   },
   "file_extension": ".py",
   "mimetype": "text/x-python",
   "name": "python",
   "nbconvert_exporter": "python",
   "pygments_lexer": "ipython3",
   "version": "3.9.7"
  }
 },
 "nbformat": 4,
 "nbformat_minor": 5
}
