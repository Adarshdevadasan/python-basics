{
 "cells": [
  {
   "cell_type": "code",
   "execution_count": 20,
   "id": "04d74312",
   "metadata": {},
   "outputs": [
    {
     "name": "stdout",
     "output_type": "stream",
     "text": [
      "*\n",
      "**\n",
      "***\n",
      "****\n",
      "*****\n",
      "******\n",
      "*******\n",
      "********\n",
      "*********\n"
     ]
    }
   ],
   "source": [
    "for i in range(1,10):\n",
    "    print(\"*\"*i)"
   ]
  },
  {
   "cell_type": "code",
   "execution_count": 97,
   "id": "51d70b52",
   "metadata": {},
   "outputs": [
    {
     "name": "stdout",
     "output_type": "stream",
     "text": [
      "Enter Pyramid Pattern Rows = 10\n",
      "Pyramid Star Pattern\n",
      "         0 \n",
      "        1 1 \n",
      "       2 2 2 \n",
      "      3 3 3 3 \n",
      "     4 4 4 4 4 \n",
      "    5 5 5 5 5 5 \n",
      "   6 6 6 6 6 6 6 \n",
      "  7 7 7 7 7 7 7 7 \n",
      " 8 8 8 8 8 8 8 8 8 \n",
      "9 9 9 9 9 9 9 9 9 9 \n"
     ]
    }
   ],
   "source": [
    "rows = int(input(\"Enter Pyramid Pattern Rows = \"))\n",
    "\n",
    "print(\"Pyramid Star Pattern\") \n",
    "\n",
    "for i in range(0, rows):\n",
    "    for j in range(0, rows - i - 1):\n",
    "        print(end = ' ')\n",
    "    for k in range(0, i + 1):\n",
    "        print(i, end = ' ')\n",
    "    print()   "
   ]
  },
  {
   "cell_type": "code",
   "execution_count": 108,
   "id": "5d19d0d3",
   "metadata": {},
   "outputs": [
    {
     "name": "stdout",
     "output_type": "stream",
     "text": [
      "enter the pyramid no =10\n",
      "pyramid number pattern\n",
      "         1 \n",
      "        1 2 \n",
      "       1 2 3 \n",
      "      1 2 3 4 \n",
      "     1 2 3 4 5 \n",
      "    1 2 3 4 5 6 \n",
      "   1 2 3 4 5 6 7 \n",
      "  1 2 3 4 5 6 7 8 \n",
      " 1 2 3 4 5 6 7 8 9 \n"
     ]
    }
   ],
   "source": [
    "st=int(input(\"enter the pyramid no =\"))\n",
    "print(\"pyramid number pattern\")\n",
    "for i in range(1,st):\n",
    "    for a in range(1,st-i+1):\n",
    "        print(end=\" \")\n",
    "    for b in range(1,i+1):\n",
    "        print(b,end=\" \")\n",
    "    print()"
   ]
  },
  {
   "cell_type": "code",
   "execution_count": 125,
   "id": "d373c264",
   "metadata": {
    "scrolled": true
   },
   "outputs": [
    {
     "name": "stdout",
     "output_type": "stream",
     "text": [
      "0 1 2 3 4 5 6 7 8 9 "
     ]
    }
   ],
   "source": [
    "# print 0 to 9\n",
    "for i in range(10):\n",
    "    print(i, end=' ')"
   ]
  },
  {
   "cell_type": "code",
   "execution_count": 112,
   "id": "3cfbecc1",
   "metadata": {},
   "outputs": [
    {
     "name": "stdout",
     "output_type": "stream",
     "text": [
      "0 1 2 3 4 5 6 7 8 9 10 "
     ]
    }
   ],
   "source": [
    "for i in range(11):\n",
    "    print(i,end=' ')"
   ]
  },
  {
   "cell_type": "code",
   "execution_count": 110,
   "id": "ede63dfb",
   "metadata": {},
   "outputs": [
    {
     "name": "stdout",
     "output_type": "stream",
     "text": [
      "1 2 3 4 5 \n",
      "1 2 3 4 5 \n",
      "1 2 3 4 5 \n",
      "1 2 3 4 5 \n",
      "1 2 3 4 5 \n"
     ]
    }
   ],
   "source": [
    "# square pattern\n",
    "        \n",
    "for i in range(5):\n",
    "    for j in range(5):\n",
    "        print(j+1, end=' ')\n",
    "    print()"
   ]
  },
  {
   "cell_type": "markdown",
   "id": "87f9a9ad",
   "metadata": {},
   "source": [
    "### square patterns"
   ]
  },
  {
   "cell_type": "code",
   "execution_count": 128,
   "id": "8affb88b",
   "metadata": {},
   "outputs": [
    {
     "name": "stdout",
     "output_type": "stream",
     "text": [
      "1 2 3 4 5 6 \n",
      "1 2 3 4 5 6 \n",
      "1 2 3 4 5 6 \n",
      "1 2 3 4 5 6 \n",
      "1 2 3 4 5 6 \n",
      "1 2 3 4 5 6 \n"
     ]
    }
   ],
   "source": [
    "for i in range(6):\n",
    "    for u in range(6):\n",
    "        print(u+1,end=' ')\n",
    "    print()"
   ]
  },
  {
   "cell_type": "markdown",
   "id": "fe38ffed",
   "metadata": {},
   "source": [
    "### left triangle pattern"
   ]
  },
  {
   "cell_type": "code",
   "execution_count": 132,
   "id": "b6b5ee0b",
   "metadata": {},
   "outputs": [
    {
     "name": "stdout",
     "output_type": "stream",
     "text": [
      "\n",
      "1\n",
      "12\n",
      "123\n",
      "1234\n",
      "12345\n"
     ]
    }
   ],
   "source": [
    "n=5\n",
    "for i in range(n+1):\n",
    "    for j in range(1,i+1):\n",
    "        print(j,end=\"\")\n",
    "    print()"
   ]
  },
  {
   "cell_type": "code",
   "execution_count": 133,
   "id": "cb3e160f",
   "metadata": {},
   "outputs": [
    {
     "name": "stdout",
     "output_type": "stream",
     "text": [
      "\n",
      "1\n",
      "22\n",
      "333\n",
      "4444\n",
      "55555\n"
     ]
    }
   ],
   "source": [
    "n=5\n",
    "for i in range(n+1):\n",
    "    for j in range(1,i+1):\n",
    "        print(i,end=\"\")\n",
    "    print()"
   ]
  },
  {
   "cell_type": "markdown",
   "id": "6d06fa9c",
   "metadata": {},
   "source": [
    "### right triangle pattern"
   ]
  },
  {
   "cell_type": "code",
   "execution_count": 134,
   "id": "d836eef3",
   "metadata": {},
   "outputs": [
    {
     "name": "stdout",
     "output_type": "stream",
     "text": [
      "    1\n",
      "   12\n",
      "  123\n",
      " 1234\n",
      "12345\n"
     ]
    }
   ],
   "source": [
    "size = 5\n",
    "for i in range(size):\n",
    "    for j in range(1, size - i):\n",
    "        print(\" \", end=\"\")\n",
    "    for k in range(1, i + 2):\n",
    "        print(k, end='')\n",
    "    print()"
   ]
  },
  {
   "cell_type": "code",
   "execution_count": 141,
   "id": "b926e369",
   "metadata": {},
   "outputs": [
    {
     "name": "stdout",
     "output_type": "stream",
     "text": [
      "      \n",
      "     1\n",
      "    12\n",
      "   123\n",
      "  1234\n",
      " 12345\n",
      "123456\n"
     ]
    }
   ],
   "source": [
    "z=7\n",
    "for i in range(z):\n",
    "    for h in range(1,z-i):\n",
    "        print(end=\" \")\n",
    "    for y in range(1,i+1):\n",
    "        print(y,end='')\n",
    "    print()"
   ]
  },
  {
   "cell_type": "markdown",
   "id": "00f57df9",
   "metadata": {},
   "source": [
    "### hollow triange pattern"
   ]
  },
  {
   "cell_type": "code",
   "execution_count": 18,
   "id": "36b59d93",
   "metadata": {},
   "outputs": [
    {
     "name": "stdout",
     "output_type": "stream",
     "text": [
      "1\n",
      "12\n",
      "1 2\n",
      "1  2\n",
      "1   2\n",
      "123456\n"
     ]
    }
   ],
   "source": [
    "# hollow triangle number pattern\n",
    "n = 6\n",
    "for i in range(1, n+1):\n",
    "    count = 1\n",
    "    for j in range(i):\n",
    "        # print numbers only at the start and end of the row\n",
    "        if j == 0 or j == i-1:\n",
    "            print(count, end='')\n",
    "            count += 1\n",
    "        # print only numbers if it's last row\n",
    "        else:\n",
    "            if i != n:\n",
    "                print(' ', end='')\n",
    "            else:\n",
    "                print(count, end='')\n",
    "                count += 1\n",
    "    print()"
   ]
  },
  {
   "cell_type": "markdown",
   "id": "b6fbff68",
   "metadata": {},
   "source": [
    "### number pyramid pattern"
   ]
  },
  {
   "cell_type": "code",
   "execution_count": 188,
   "id": "f1ff5f0d",
   "metadata": {},
   "outputs": [
    {
     "name": "stdout",
     "output_type": "stream",
     "text": [
      "    1\n",
      "   123\n",
      "  12345\n",
      " 1234567\n",
      "123456789\n"
     ]
    }
   ],
   "source": [
    "# pyramid number pattern\n",
    "n = 5\n",
    "for i in range(n):\n",
    "    for j in range(n - i - 1):\n",
    "        print(' ', end='')\n",
    "    for k in range(2 * i + 1):\n",
    "        print(k + 1, end='')\n",
    "    print()\n"
   ]
  },
  {
   "cell_type": "code",
   "execution_count": 2,
   "id": "fa74793b",
   "metadata": {},
   "outputs": [
    {
     "name": "stdout",
     "output_type": "stream",
     "text": [
      "       1\n",
      "      123\n",
      "     12345\n",
      "    1234567\n",
      "   123456789\n",
      "  1234567891011\n",
      " 12345678910111213\n",
      "123456789101112131415\n"
     ]
    }
   ],
   "source": [
    "A=8\n",
    "for i in range(A):\n",
    "    for L in range(A-i-1):\n",
    "        print(end=\" \")\n",
    "    for f in range(2*i+1):\n",
    "        print(f+1,end=\"\")\n",
    "    print()"
   ]
  }
 ],
 "metadata": {
  "kernelspec": {
   "display_name": "Python 3 (ipykernel)",
   "language": "python",
   "name": "python3"
  },
  "language_info": {
   "codemirror_mode": {
    "name": "ipython",
    "version": 3
   },
   "file_extension": ".py",
   "mimetype": "text/x-python",
   "name": "python",
   "nbconvert_exporter": "python",
   "pygments_lexer": "ipython3",
   "version": "3.9.7"
  }
 },
 "nbformat": 4,
 "nbformat_minor": 5
}
