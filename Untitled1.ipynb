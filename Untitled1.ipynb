{
 "cells": [
  {
   "cell_type": "code",
   "execution_count": 3,
   "id": "6394568b",
   "metadata": {},
   "outputs": [
    {
     "name": "stdout",
     "output_type": "stream",
     "text": [
      "True\n"
     ]
    }
   ],
   "source": [
    "a=True\n",
    "print(a)"
   ]
  },
  {
   "cell_type": "code",
   "execution_count": 4,
   "id": "3b737787",
   "metadata": {},
   "outputs": [
    {
     "name": "stdout",
     "output_type": "stream",
     "text": [
      "2\n"
     ]
    }
   ],
   "source": [
    "print(True+True)"
   ]
  },
  {
   "cell_type": "code",
   "execution_count": 5,
   "id": "fb080778",
   "metadata": {},
   "outputs": [
    {
     "name": "stdout",
     "output_type": "stream",
     "text": [
      "0\n"
     ]
    }
   ],
   "source": [
    "print(False+False)"
   ]
  },
  {
   "cell_type": "code",
   "execution_count": 6,
   "id": "e0c74e02",
   "metadata": {},
   "outputs": [
    {
     "name": "stdout",
     "output_type": "stream",
     "text": [
      "True\n"
     ]
    }
   ],
   "source": [
    "a=10\n",
    "b=20\n",
    "c=a<b\n",
    "print(c)"
   ]
  },
  {
   "cell_type": "code",
   "execution_count": 7,
   "id": "777f0350",
   "metadata": {},
   "outputs": [
    {
     "name": "stdout",
     "output_type": "stream",
     "text": [
      "False\n"
     ]
    }
   ],
   "source": [
    "a=50\n",
    "b=40\n",
    "c=a<b\n",
    "print(c)"
   ]
  },
  {
   "cell_type": "code",
   "execution_count": 8,
   "id": "de50d464",
   "metadata": {},
   "outputs": [
    {
     "name": "stdout",
     "output_type": "stream",
     "text": [
      "asd asdasd \n",
      "dad\n"
     ]
    }
   ],
   "source": [
    "w='''asd asdasd \n",
    "dad'''\n",
    "print(waa)"
   ]
  },
  {
   "cell_type": "code",
   "execution_count": 13,
   "id": "55384b84",
   "metadata": {},
   "outputs": [
    {
     "data": {
      "text/plain": [
       "bytes"
      ]
     },
     "execution_count": 13,
     "metadata": {},
     "output_type": "execute_result"
    }
   ],
   "source": [
    "a=[23,42,35,76,]\n",
    "b=bytes(a)\n",
    "type(b)"
   ]
  },
  {
   "cell_type": "code",
   "execution_count": 35,
   "id": "97cfd267",
   "metadata": {},
   "outputs": [
    {
     "data": {
      "text/plain": [
       "98"
      ]
     },
     "execution_count": 35,
     "metadata": {},
     "output_type": "execute_result"
    }
   ],
   "source": [
    "a=[98,87,69,29]\n",
    "b=bytes(a)\n",
    "b[0]\n"
   ]
  },
  {
   "cell_type": "code",
   "execution_count": 36,
   "id": "562882c1",
   "metadata": {},
   "outputs": [
    {
     "data": {
      "text/plain": [
       "29"
      ]
     },
     "execution_count": 36,
     "metadata": {},
     "output_type": "execute_result"
    }
   ],
   "source": [
    "b[3]\n"
   ]
  },
  {
   "cell_type": "code",
   "execution_count": 37,
   "id": "1462cc76",
   "metadata": {},
   "outputs": [
    {
     "data": {
      "text/plain": [
       "69"
      ]
     },
     "execution_count": 37,
     "metadata": {},
     "output_type": "execute_result"
    }
   ],
   "source": [
    "b[2]\n"
   ]
  },
  {
   "cell_type": "code",
   "execution_count": 39,
   "id": "1b9de96d",
   "metadata": {},
   "outputs": [
    {
     "data": {
      "text/plain": [
       "b'bW'"
      ]
     },
     "execution_count": 39,
     "metadata": {},
     "output_type": "execute_result"
    }
   ],
   "source": [
    "b[0:2]"
   ]
  },
  {
   "cell_type": "code",
   "execution_count": 30,
   "id": "00fc071e",
   "metadata": {},
   "outputs": [
    {
     "name": "stdout",
     "output_type": "stream",
     "text": [
      "20\n",
      "87\n",
      "67\n",
      "210\n"
     ]
    }
   ],
   "source": [
    "d=[20,87,67,244]\n",
    "b=bytearray(d)\n",
    "b[3]=210\n",
    "for a in b:\n",
    "    print(a)"
   ]
  },
  {
   "cell_type": "code",
   "execution_count": 33,
   "id": "e4603720",
   "metadata": {},
   "outputs": [
    {
     "name": "stdout",
     "output_type": "stream",
     "text": [
      "10\n",
      "20\n",
      "30\n",
      "40\n",
      "50\n"
     ]
    }
   ],
   "source": [
    "q=[10,20,30,40,40,]\n",
    "a=bytearray(q)\n",
    "a[4]=50\n",
    "for w in a:\n",
    "    print(w)"
   ]
  },
  {
   "cell_type": "code",
   "execution_count": 40,
   "id": "f4378f28",
   "metadata": {},
   "outputs": [
    {
     "name": "stdout",
     "output_type": "stream",
     "text": [
      "23\n",
      "43\n",
      "34\n",
      "111\n",
      "65\n"
     ]
    }
   ],
   "source": [
    "e=[23,43,34,56,65]\n",
    "t=bytearray(e)\n",
    "t[3]=111\n",
    "for we in t:\n",
    "    print(we)"
   ]
  },
  {
   "cell_type": "code",
   "execution_count": 46,
   "id": "19b58bc0",
   "metadata": {},
   "outputs": [
    {
     "name": "stdout",
     "output_type": "stream",
     "text": [
      "[10, 23, 43, 54, 55]\n"
     ]
    }
   ],
   "source": [
    "a=[12,23,43,54,55]\n",
    "a[0]=10\n",
    "print(a)"
   ]
  },
  {
   "cell_type": "code",
   "execution_count": 48,
   "id": "4e762095",
   "metadata": {},
   "outputs": [
    {
     "name": "stdout",
     "output_type": "stream",
     "text": [
      "[12, 43, 54, 80, 76]\n"
     ]
    }
   ],
   "source": [
    "w=[12,43,54,87,76]\n",
    "w[3]=80\n",
    "print(w)"
   ]
  },
  {
   "cell_type": "code",
   "execution_count": 49,
   "id": "7188f15c",
   "metadata": {},
   "outputs": [
    {
     "name": "stdout",
     "output_type": "stream",
     "text": [
      "[12.5, 43.5, 65.6, 85.6, 56.8]\n"
     ]
    }
   ],
   "source": [
    "a=[12.5,43.5,65.6,87.8,56.8]\n",
    "a[3]=85.6\n",
    "print(a)"
   ]
  },
  {
   "cell_type": "code",
   "execution_count": 53,
   "id": "aeefd027",
   "metadata": {},
   "outputs": [
    {
     "name": "stdout",
     "output_type": "stream",
     "text": [
      "['asd', 'wer', 'fjsf', 'gjfk']\n"
     ]
    }
   ],
   "source": [
    "aa=['asd','wer','tut','gjfk']\n",
    "aa[2]='fjsf'\n",
    "print(aa)"
   ]
  },
  {
   "cell_type": "code",
   "execution_count": 54,
   "id": "5449b8d0",
   "metadata": {},
   "outputs": [
    {
     "name": "stdout",
     "output_type": "stream",
     "text": [
      "['asdf', 'utyr', 'fhfj', 'hff', 'rrr']\n"
     ]
    }
   ],
   "source": [
    "ad=['asdf','utyr','fhfj','hff','alk']\n",
    "ad[4]='rrr'\n",
    "print(ad)"
   ]
  },
  {
   "cell_type": "code",
   "execution_count": 55,
   "id": "71a23adf",
   "metadata": {},
   "outputs": [
    {
     "name": "stdout",
     "output_type": "stream",
     "text": [
      "[12, 'adsf', 123.5, 40, 345, 600]\n"
     ]
    }
   ],
   "source": [
    "am=[12,'adsf',123.5,40,345,6]\n",
    "am[5]=600\n",
    "print(am)"
   ]
  },
  {
   "cell_type": "code",
   "execution_count": 63,
   "id": "d7e1b291",
   "metadata": {},
   "outputs": [
    {
     "name": "stdout",
     "output_type": "stream",
     "text": [
      "[]\n"
     ]
    }
   ],
   "source": [
    "ab=[]\n",
    "print(ab)"
   ]
  },
  {
   "cell_type": "code",
   "execution_count": 2,
   "id": "cb7918ba",
   "metadata": {},
   "outputs": [
    {
     "name": "stdout",
     "output_type": "stream",
     "text": [
      "[1]\n"
     ]
    }
   ],
   "source": [
    "ac=[1]\n",
    "# ac[1]=10\n",
    "# ac[1]=10\n",
    "# ac[2]=30\n",
    "# ac[3]=40\n",
    "\n",
    "print(ac)\n"
   ]
  },
  {
   "cell_type": "code",
   "execution_count": 7,
   "id": "0dbfb416",
   "metadata": {},
   "outputs": [
    {
     "name": "stdout",
     "output_type": "stream",
     "text": [
      "(12, 43, 56, 76, 88)\n"
     ]
    }
   ],
   "source": [
    "abc=(12,43,56,76,88)\n",
    "abc[3]\n",
    "print(abc)"
   ]
  },
  {
   "cell_type": "code",
   "execution_count": 101,
   "id": "460a565d",
   "metadata": {},
   "outputs": [
    {
     "name": "stdout",
     "output_type": "stream",
     "text": [
      "('asd', 'lkj', 'hgf', 'iop', 'ytu')\n"
     ]
    }
   ],
   "source": [
    "wq=('asd','lkj','hgf','iop','ytu')\n",
    "print(wq)"
   ]
  },
  {
   "cell_type": "code",
   "execution_count": 102,
   "id": "c716fcec",
   "metadata": {},
   "outputs": [
    {
     "name": "stdout",
     "output_type": "stream",
     "text": [
      "(45, 86, 38, 96, 90, 90)\n"
     ]
    }
   ],
   "source": [
    "ar=(45,86,38,96,90,90)\n",
    "print(ar)"
   ]
  },
  {
   "cell_type": "code",
   "execution_count": 103,
   "id": "2bec599d",
   "metadata": {},
   "outputs": [
    {
     "name": "stdout",
     "output_type": "stream",
     "text": [
      "(34.6, 56.7, 97.9, 90.7, 57.7)\n"
     ]
    }
   ],
   "source": [
    "tv=(34.6,56.7,97.9,90.7,57.7)\n",
    "print(tv)"
   ]
  },
  {
   "cell_type": "code",
   "execution_count": 104,
   "id": "7a955ad5",
   "metadata": {},
   "outputs": [
    {
     "name": "stdout",
     "output_type": "stream",
     "text": [
      "(10, 45.5, 90, 'asd')\n"
     ]
    }
   ],
   "source": [
    "mv=(10,45.5,90,'asd')\n",
    "print(mv)"
   ]
  },
  {
   "cell_type": "code",
   "execution_count": 105,
   "id": "3303c7bc",
   "metadata": {},
   "outputs": [
    {
     "data": {
      "text/plain": [
       "range(0, 15)"
      ]
     },
     "execution_count": 105,
     "metadata": {},
     "output_type": "execute_result"
    }
   ],
   "source": [
    "# with one argument--- index always starting from zero\n",
    "r=range(15)\n",
    "r"
   ]
  },
  {
   "cell_type": "code",
   "execution_count": 106,
   "id": "3caebd7c",
   "metadata": {},
   "outputs": [
    {
     "name": "stdout",
     "output_type": "stream",
     "text": [
      "0\n",
      "1\n",
      "2\n",
      "3\n",
      "4\n",
      "5\n",
      "6\n",
      "7\n",
      "8\n",
      "9\n",
      "10\n",
      "11\n",
      "12\n",
      "13\n",
      "14\n"
     ]
    }
   ],
   "source": [
    "for a in r:\n",
    "    print(a)"
   ]
  },
  {
   "cell_type": "code",
   "execution_count": 107,
   "id": "d48fe37f",
   "metadata": {},
   "outputs": [
    {
     "data": {
      "text/plain": [
       "range(20, 40)"
      ]
     },
     "execution_count": 107,
     "metadata": {},
     "output_type": "execute_result"
    }
   ],
   "source": [
    "# with two argument\n",
    "s=range(20,40)\n",
    "s"
   ]
  },
  {
   "cell_type": "code",
   "execution_count": 109,
   "id": "a57a12f3",
   "metadata": {},
   "outputs": [
    {
     "name": "stdout",
     "output_type": "stream",
     "text": [
      "20\n",
      "21\n",
      "22\n",
      "23\n",
      "24\n",
      "25\n",
      "26\n",
      "27\n",
      "28\n",
      "29\n",
      "30\n",
      "31\n",
      "32\n",
      "33\n",
      "34\n",
      "35\n",
      "36\n",
      "37\n",
      "38\n",
      "39\n"
     ]
    }
   ],
   "source": [
    "for i in s:\n",
    "    print(i)"
   ]
  },
  {
   "cell_type": "code",
   "execution_count": 110,
   "id": "b9e1ea4e",
   "metadata": {},
   "outputs": [
    {
     "name": "stdout",
     "output_type": "stream",
     "text": [
      "30\n",
      "31\n",
      "32\n",
      "33\n",
      "34\n",
      "35\n",
      "36\n",
      "37\n",
      "38\n",
      "39\n"
     ]
    }
   ],
   "source": [
    "for i in range(30,40):\n",
    "    print(i)"
   ]
  },
  {
   "cell_type": "code",
   "execution_count": 60,
   "id": "5b93a7e6",
   "metadata": {},
   "outputs": [
    {
     "name": "stdout",
     "output_type": "stream",
     "text": [
      "10\n",
      "12\n",
      "14\n",
      "16\n",
      "18\n",
      "20\n",
      "22\n",
      "24\n"
     ]
    }
   ],
   "source": [
    "for i in range(10,25,2):\n",
    "    print(i)"
   ]
  },
  {
   "cell_type": "code",
   "execution_count": 8,
   "id": "aebef7a2",
   "metadata": {},
   "outputs": [
    {
     "name": "stdout",
     "output_type": "stream",
     "text": [
      "0\n",
      "1\n",
      "2\n",
      "3\n",
      "4\n",
      "5\n",
      "6\n",
      "7\n",
      "8\n",
      "9\n",
      "10\n",
      "11\n",
      "12\n",
      "13\n",
      "14\n",
      "15\n",
      "16\n",
      "17\n",
      "18\n",
      "19\n",
      "20\n",
      "21\n",
      "22\n",
      "23\n",
      "24\n"
     ]
    }
   ],
   "source": [
    "az=range(25)\n",
    "az\n",
    "az[0]\n",
    "az[0:10]\n",
    "for i in az:print(i)"
   ]
  },
  {
   "cell_type": "code",
   "execution_count": 127,
   "id": "c332de02",
   "metadata": {},
   "outputs": [
    {
     "name": "stdout",
     "output_type": "stream",
     "text": [
      "0\n",
      "1\n",
      "2\n",
      "3\n",
      "4\n",
      "5\n",
      "6\n",
      "7\n",
      "8\n",
      "9\n",
      "10\n",
      "11\n",
      "12\n",
      "13\n",
      "14\n",
      "15\n",
      "16\n",
      "17\n",
      "18\n",
      "19\n"
     ]
    }
   ],
   "source": [
    "a=range(20)\n",
    "for i in a:\n",
    "    print(i)"
   ]
  },
  {
   "cell_type": "code",
   "execution_count": 134,
   "id": "2ad2f726",
   "metadata": {},
   "outputs": [
    {
     "name": "stdout",
     "output_type": "stream",
     "text": [
      "10\n",
      "11\n",
      "12\n",
      "13\n",
      "14\n",
      "15\n",
      "16\n",
      "17\n",
      "18\n",
      "19\n",
      "20\n",
      "21\n",
      "22\n",
      "23\n",
      "24\n",
      "25\n",
      "26\n",
      "27\n",
      "28\n",
      "29\n",
      "30\n",
      "31\n",
      "32\n",
      "33\n",
      "34\n",
      "35\n",
      "36\n",
      "37\n",
      "38\n",
      "39\n"
     ]
    }
   ],
   "source": [
    "a=range(10,40)\n",
    "a\n",
    "\n",
    "for i in a:print(i)"
   ]
  },
  {
   "cell_type": "code",
   "execution_count": 142,
   "id": "75899a35",
   "metadata": {},
   "outputs": [
    {
     "data": {
      "text/plain": [
       "15"
      ]
     },
     "execution_count": 142,
     "metadata": {},
     "output_type": "execute_result"
    }
   ],
   "source": [
    "a[5]"
   ]
  },
  {
   "cell_type": "code",
   "execution_count": 135,
   "id": "3ccfd766",
   "metadata": {},
   "outputs": [
    {
     "name": "stdout",
     "output_type": "stream",
     "text": [
      "20\n",
      "22\n",
      "24\n",
      "26\n",
      "28\n",
      "30\n",
      "32\n",
      "34\n",
      "36\n",
      "38\n"
     ]
    }
   ],
   "source": [
    "w=range(20,40,2)\n",
    "for i in w:print(i)"
   ]
  },
  {
   "cell_type": "code",
   "execution_count": 139,
   "id": "afded9a6",
   "metadata": {},
   "outputs": [
    {
     "name": "stdout",
     "output_type": "stream",
     "text": [
      "2\n"
     ]
    }
   ],
   "source": [
    "for i in range(2,5,8):print(i)"
   ]
  },
  {
   "cell_type": "code",
   "execution_count": 141,
   "id": "d2b51cf4",
   "metadata": {},
   "outputs": [
    {
     "name": "stdout",
     "output_type": "stream",
     "text": [
      "8\n",
      "5\n",
      "2\n"
     ]
    }
   ],
   "source": [
    "for i in range(8,1,-3):print(i)"
   ]
  },
  {
   "cell_type": "code",
   "execution_count": 10,
   "id": "3149a60a",
   "metadata": {},
   "outputs": [
    {
     "name": "stdout",
     "output_type": "stream",
     "text": [
      "2\n"
     ]
    }
   ],
   "source": [
    "print(True+True)"
   ]
  },
  {
   "cell_type": "code",
   "execution_count": 11,
   "id": "7bdd07d3",
   "metadata": {},
   "outputs": [
    {
     "name": "stdout",
     "output_type": "stream",
     "text": [
      "0\n"
     ]
    }
   ],
   "source": [
    "print(False+False)"
   ]
  },
  {
   "cell_type": "code",
   "execution_count": 12,
   "id": "61222bd7",
   "metadata": {},
   "outputs": [
    {
     "name": "stdout",
     "output_type": "stream",
     "text": [
      "True\n"
     ]
    }
   ],
   "source": [
    "a=20\n",
    "b=30\n",
    "c=a<b\n",
    "print(c)"
   ]
  },
  {
   "cell_type": "code",
   "execution_count": 14,
   "id": "6649e77a",
   "metadata": {},
   "outputs": [
    {
     "name": "stdout",
     "output_type": "stream",
     "text": [
      "False\n"
     ]
    }
   ],
   "source": [
    "a=50\n",
    "b=40\n",
    "c=a<b\n",
    "print(c)"
   ]
  },
  {
   "cell_type": "code",
   "execution_count": 15,
   "id": "c55a0ed1",
   "metadata": {},
   "outputs": [
    {
     "name": "stdout",
     "output_type": "stream",
     "text": [
      "['asd,jfkf,kfk,\\nkfkd,kfod']\n"
     ]
    }
   ],
   "source": [
    "a=['''asd,jfkf,kfk,\n",
    "kfkd,kfod''']\n",
    "print(a)"
   ]
  },
  {
   "cell_type": "code",
   "execution_count": 16,
   "id": "8e6b64f4",
   "metadata": {},
   "outputs": [
    {
     "name": "stdout",
     "output_type": "stream",
     "text": [
      "['ritu,jgif,jfif,jj']\n"
     ]
    }
   ],
   "source": [
    "a=['''ritu,jgif,jfif,jj''']\n",
    "print(a)"
   ]
  },
  {
   "cell_type": "code",
   "execution_count": 20,
   "id": "b640dc8a",
   "metadata": {},
   "outputs": [
    {
     "data": {
      "text/plain": [
       "67"
      ]
     },
     "execution_count": 20,
     "metadata": {},
     "output_type": "execute_result"
    }
   ],
   "source": [
    "a=[32,45,67,87]\n",
    "b=bytes(a)\n",
    "b[2]"
   ]
  },
  {
   "cell_type": "code",
   "execution_count": 21,
   "id": "caeae13e",
   "metadata": {},
   "outputs": [
    {
     "data": {
      "text/plain": [
       "78"
      ]
     },
     "execution_count": 21,
     "metadata": {},
     "output_type": "execute_result"
    }
   ],
   "source": [
    "a=[32,65,65,78,98,78]\n",
    "b=bytes(a)\n",
    "b[5]"
   ]
  },
  {
   "cell_type": "code",
   "execution_count": 22,
   "id": "c26069fb",
   "metadata": {},
   "outputs": [
    {
     "data": {
      "text/plain": [
       "b' AAN'"
      ]
     },
     "execution_count": 22,
     "metadata": {},
     "output_type": "execute_result"
    }
   ],
   "source": [
    "b[0:4]"
   ]
  },
  {
   "cell_type": "code",
   "execution_count": 33,
   "id": "4307c79f",
   "metadata": {},
   "outputs": [
    {
     "name": "stdout",
     "output_type": "stream",
     "text": [
      "200\n",
      "110\n",
      "150\n",
      "55\n",
      "255\n",
      "54\n"
     ]
    }
   ],
   "source": [
    "a=[200,110,150,243,255,54]\n",
    "b=bytearray(a)\n",
    "a[3]=55\n",
    "for i in a:print(i)"
   ]
  },
  {
   "cell_type": "code",
   "execution_count": 34,
   "id": "a9488f85",
   "metadata": {},
   "outputs": [
    {
     "name": "stdout",
     "output_type": "stream",
     "text": [
      "111\n",
      "132\n",
      "45\n",
      "78\n",
      "201\n",
      "211\n"
     ]
    }
   ],
   "source": [
    "ad=[111,132,45,78,200,211]\n",
    "ab=bytearray(ad)\n",
    "ad[4]=201\n",
    "for i in ad:print(i)"
   ]
  },
  {
   "cell_type": "code",
   "execution_count": 35,
   "id": "b442e32a",
   "metadata": {},
   "outputs": [
    {
     "name": "stdout",
     "output_type": "stream",
     "text": [
      "[324, 596, 74, 68, 5]\n"
     ]
    }
   ],
   "source": [
    "sa=[324,596,74,68,5]\n",
    "print(sa)"
   ]
  },
  {
   "cell_type": "code",
   "execution_count": 36,
   "id": "4ece0040",
   "metadata": {},
   "outputs": [
    {
     "name": "stdout",
     "output_type": "stream",
     "text": [
      "[45.65, 879.77, 695.76, 22.11, 123.978]\n"
     ]
    }
   ],
   "source": [
    "sa=[45.65,879.77,695.76,22.11,123.978]\n",
    "print(sa)"
   ]
  },
  {
   "cell_type": "code",
   "execution_count": 37,
   "id": "a659f13b",
   "metadata": {},
   "outputs": [
    {
     "name": "stdout",
     "output_type": "stream",
     "text": [
      "['qw', 'jrj', 'nf', 'nj', 'ewr']\n"
     ]
    }
   ],
   "source": [
    "aw=['qw','jrj','nf','nj','ewr']\n",
    "print(aw)"
   ]
  },
  {
   "cell_type": "code",
   "execution_count": 38,
   "id": "d63774dd",
   "metadata": {},
   "outputs": [
    {
     "name": "stdout",
     "output_type": "stream",
     "text": [
      "['qwe', 'qwx', 123, 65.34, 'plm', 12]\n"
     ]
    }
   ],
   "source": [
    "QQ=['qwe','qwx',123,65.34,'plm',12]\n",
    "print(QQ)"
   ]
  },
  {
   "cell_type": "code",
   "execution_count": 39,
   "id": "440c0cfe",
   "metadata": {},
   "outputs": [
    {
     "data": {
      "text/plain": [
       "[]"
      ]
     },
     "execution_count": 39,
     "metadata": {},
     "output_type": "execute_result"
    }
   ],
   "source": [
    "ap=[]\n",
    "ap"
   ]
  },
  {
   "cell_type": "code",
   "execution_count": 46,
   "id": "6be04a9e",
   "metadata": {},
   "outputs": [
    {
     "ename": "IndexError",
     "evalue": "list assignment index out of range",
     "output_type": "error",
     "traceback": [
      "\u001b[1;31m---------------------------------------------------------------------------\u001b[0m",
      "\u001b[1;31mIndexError\u001b[0m                                Traceback (most recent call last)",
      "\u001b[1;32m~\\AppData\\Local\\Temp/ipykernel_23964/3206915337.py\u001b[0m in \u001b[0;36m<module>\u001b[1;34m\u001b[0m\n\u001b[0;32m      1\u001b[0m \u001b[0map\u001b[0m\u001b[1;33m=\u001b[0m\u001b[1;33m[\u001b[0m\u001b[1;36m4\u001b[0m\u001b[1;33m]\u001b[0m\u001b[1;33m\u001b[0m\u001b[1;33m\u001b[0m\u001b[0m\n\u001b[0;32m      2\u001b[0m \u001b[0map\u001b[0m\u001b[1;33m[\u001b[0m\u001b[1;36m0\u001b[0m\u001b[1;33m]\u001b[0m\u001b[1;33m=\u001b[0m\u001b[1;36m10\u001b[0m\u001b[1;33m\u001b[0m\u001b[1;33m\u001b[0m\u001b[0m\n\u001b[1;32m----> 3\u001b[1;33m \u001b[0map\u001b[0m\u001b[1;33m[\u001b[0m\u001b[1;36m1\u001b[0m\u001b[1;33m]\u001b[0m\u001b[1;33m=\u001b[0m\u001b[1;36m32\u001b[0m\u001b[1;33m\u001b[0m\u001b[1;33m\u001b[0m\u001b[0m\n\u001b[0m\u001b[0;32m      4\u001b[0m \u001b[0map\u001b[0m\u001b[1;33m[\u001b[0m\u001b[1;36m2\u001b[0m\u001b[1;33m]\u001b[0m\u001b[1;33m=\u001b[0m\u001b[1;36m76\u001b[0m\u001b[1;33m\u001b[0m\u001b[1;33m\u001b[0m\u001b[0m\n\u001b[0;32m      5\u001b[0m \u001b[0map\u001b[0m\u001b[1;33m[\u001b[0m\u001b[1;36m3\u001b[0m\u001b[1;33m]\u001b[0m\u001b[1;33m=\u001b[0m\u001b[1;36m50\u001b[0m\u001b[1;33m\u001b[0m\u001b[1;33m\u001b[0m\u001b[0m\n",
      "\u001b[1;31mIndexError\u001b[0m: list assignment index out of range"
     ]
    }
   ],
   "source": [
    "ap=[4]\n",
    "ap[0]=10\n",
    "ap[1]=32\n",
    "ap[2]=76\n",
    "ap[3]=50\n",
    "print(ap)"
   ]
  },
  {
   "cell_type": "code",
   "execution_count": 47,
   "id": "287e67c1",
   "metadata": {},
   "outputs": [
    {
     "data": {
      "text/plain": [
       "range(0, 24)"
      ]
     },
     "execution_count": 47,
     "metadata": {},
     "output_type": "execute_result"
    }
   ],
   "source": [
    "a=range(24)\n",
    "a"
   ]
  },
  {
   "cell_type": "code",
   "execution_count": 48,
   "id": "c57241bb",
   "metadata": {},
   "outputs": [
    {
     "name": "stdout",
     "output_type": "stream",
     "text": [
      "0\n",
      "1\n",
      "2\n",
      "3\n",
      "4\n",
      "5\n",
      "6\n",
      "7\n",
      "8\n",
      "9\n",
      "10\n",
      "11\n",
      "12\n",
      "13\n",
      "14\n",
      "15\n",
      "16\n",
      "17\n",
      "18\n",
      "19\n",
      "20\n",
      "21\n",
      "22\n",
      "23\n"
     ]
    }
   ],
   "source": [
    "for i in a:print(i)"
   ]
  },
  {
   "cell_type": "code",
   "execution_count": 49,
   "id": "56bc732a",
   "metadata": {},
   "outputs": [
    {
     "data": {
      "text/plain": [
       "range(20, 30)"
      ]
     },
     "execution_count": 49,
     "metadata": {},
     "output_type": "execute_result"
    }
   ],
   "source": [
    "aq=range(20,30)\n",
    "aq"
   ]
  },
  {
   "cell_type": "code",
   "execution_count": 54,
   "id": "69a5c235",
   "metadata": {},
   "outputs": [
    {
     "name": "stdout",
     "output_type": "stream",
     "text": [
      "20\n",
      "21\n",
      "22\n",
      "23\n",
      "24\n",
      "25\n",
      "26\n",
      "27\n",
      "28\n",
      "29\n"
     ]
    }
   ],
   "source": [
    "for i in aq:print(i)"
   ]
  },
  {
   "cell_type": "code",
   "execution_count": 61,
   "id": "dc19c4fd",
   "metadata": {},
   "outputs": [
    {
     "name": "stdout",
     "output_type": "stream",
     "text": [
      "10\n",
      "12\n",
      "14\n",
      "16\n",
      "18\n",
      "20\n",
      "22\n",
      "24\n"
     ]
    }
   ],
   "source": [
    "for i in range(10,25,2):print(i)"
   ]
  },
  {
   "cell_type": "code",
   "execution_count": null,
   "id": "8ed5132b",
   "metadata": {},
   "outputs": [],
   "source": []
  }
 ],
 "metadata": {
  "kernelspec": {
   "display_name": "Python 3 (ipykernel)",
   "language": "python",
   "name": "python3"
  },
  "language_info": {
   "codemirror_mode": {
    "name": "ipython",
    "version": 3
   },
   "file_extension": ".py",
   "mimetype": "text/x-python",
   "name": "python",
   "nbconvert_exporter": "python",
   "pygments_lexer": "ipython3",
   "version": "3.9.7"
  }
 },
 "nbformat": 4,
 "nbformat_minor": 5
}
