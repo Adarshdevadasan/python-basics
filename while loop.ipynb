{
 "cells": [
  {
   "cell_type": "code",
   "execution_count": 1,
   "id": "6891e0fd",
   "metadata": {},
   "outputs": [
    {
     "name": "stdout",
     "output_type": "stream",
     "text": [
      "enter first number20\n",
      "enter second number10\n",
      "gcd= 10\n"
     ]
    }
   ],
   "source": [
    "a=int(input(\"enter first number\"))\n",
    "b=int(input(\"enter second number\"))\n",
    "while(a!=b):\n",
    "    if(a>b):\n",
    "        a-=b\n",
    "    else:\n",
    "        b-=a\n",
    "print(\"gcd=\",a)"
   ]
  },
  {
   "cell_type": "code",
   "execution_count": 2,
   "id": "4e343f59",
   "metadata": {},
   "outputs": [
    {
     "name": "stdout",
     "output_type": "stream",
     "text": [
      "enter a number100\n",
      "num= 10\n",
      "num= 1\n",
      "num= 0\n",
      "number of digits= 3\n"
     ]
    }
   ],
   "source": [
    "num=int(input(\"enter a number\"))\n",
    "digits=0\n",
    "while num!=0:\n",
    "    num=num//10;\n",
    "    print(\"num=\",num)\n",
    "    digits=digits+1\n",
    "print(\"number of digits=\",digits)"
   ]
  },
  {
   "cell_type": "code",
   "execution_count": 10,
   "id": "f8bac55b",
   "metadata": {},
   "outputs": [
    {
     "name": "stdout",
     "output_type": "stream",
     "text": [
      "enter the number20\n",
      "not prime\n"
     ]
    }
   ],
   "source": [
    "n=int(input(\"enter the number\"))\n",
    "div=2\n",
    "flag=True\n",
    "while div<n:\n",
    "    if n % div==0:\n",
    "        flag=False\n",
    "    div=div+1\n",
    "if flag==True:\n",
    "    print(\"prime\")\n",
    "else:\n",
    "    print(\"not prime\")"
   ]
  },
  {
   "cell_type": "code",
   "execution_count": 15,
   "id": "d16021c9",
   "metadata": {},
   "outputs": [
    {
     "name": "stdout",
     "output_type": "stream",
     "text": [
      "the summ is 180\n"
     ]
    }
   ],
   "source": [
    "numbers=[2,4,5,7,8,9,12,43,90]\n",
    "totalsum=0\n",
    "for val in numbers:\n",
    "    totalsum=totalsum+val\n",
    "print(\"the summ is\",totalsum)"
   ]
  },
  {
   "cell_type": "code",
   "execution_count": 14,
   "id": "59a4db14",
   "metadata": {},
   "outputs": [
    {
     "name": "stdout",
     "output_type": "stream",
     "text": [
      "enter the number17\n",
      "prime\n"
     ]
    }
   ],
   "source": [
    "n=int(input(\"enter the number\"))\n",
    "flag=True\n",
    "for div in range(2,n):\n",
    "    if n % div==0:\n",
    "        flag=False\n",
    "print(\"prime\" if flag==True else \"not prime\")"
   ]
  },
  {
   "cell_type": "code",
   "execution_count": 18,
   "id": "90965349",
   "metadata": {},
   "outputs": [
    {
     "name": "stdout",
     "output_type": "stream",
     "text": [
      "enter a number7\n",
      "factorial of 7 = 5040\n"
     ]
    }
   ],
   "source": [
    "n=int(input(\"enter a number\"))\n",
    "res=1\n",
    "for x in range(1,n+1):\n",
    "    res=res*x\n",
    "print(\"factorial of\",n,'=',res)"
   ]
  },
  {
   "cell_type": "code",
   "execution_count": 24,
   "id": "69f67c2e",
   "metadata": {},
   "outputs": [
    {
     "name": "stdout",
     "output_type": "stream",
     "text": [
      "enter the number100\n",
      "div= 2\n",
      "not prime\n"
     ]
    }
   ],
   "source": [
    "n=int(input(\"enter the number\"))\n",
    "flag=True\n",
    "for div in range(2,n):\n",
    "    if n % div==0:\n",
    "        flag=False\n",
    "        break\n",
    "print(\"div=\",div)\n",
    "print(\"prime\" if flag==True else \"not prime\")"
   ]
  },
  {
   "cell_type": "code",
   "execution_count": 27,
   "id": "e0256473",
   "metadata": {},
   "outputs": [
    {
     "name": "stdout",
     "output_type": "stream",
     "text": [
      "1\n",
      "2\n",
      "3\n",
      "4\n",
      "5\n",
      "6\n",
      "7\n",
      "8\n",
      "9\n",
      "11\n",
      "12\n",
      "13\n",
      "14\n",
      "15\n",
      "16\n",
      "17\n",
      "18\n",
      "19\n"
     ]
    }
   ],
   "source": [
    "for val in range(20):\n",
    "    if val%10==0:\n",
    "        continue\n",
    "    print(val)"
   ]
  },
  {
   "cell_type": "code",
   "execution_count": 28,
   "id": "de1fd8f8",
   "metadata": {},
   "outputs": [
    {
     "name": "stdout",
     "output_type": "stream",
     "text": [
      "0\n",
      "9\n",
      "8\n",
      "7\n",
      "no items left\n"
     ]
    }
   ],
   "source": [
    "dig=[0,9,8,7]\n",
    "for i in dig:\n",
    "    print(i)\n",
    "else:\n",
    "    print(\"no items left\")"
   ]
  },
  {
   "cell_type": "code",
   "execution_count": 31,
   "id": "56abc4d0",
   "metadata": {},
   "outputs": [
    {
     "name": "stdout",
     "output_type": "stream",
     "text": [
      "enter the number10\n",
      "not prime..divisible by 2\n"
     ]
    }
   ],
   "source": [
    "n=int(input(\"enter the number\"))\n",
    "for div in range(2,n):\n",
    "    if n % div ==0:\n",
    "        print(\"not prime..divisible by\",div)\n",
    "        break\n",
    "    else:\n",
    "        print(\"prime\")"
   ]
  },
  {
   "cell_type": "code",
   "execution_count": 32,
   "id": "83de193f",
   "metadata": {},
   "outputs": [
    {
     "name": "stdout",
     "output_type": "stream",
     "text": [
      "enter lower number50\n",
      "enter upper number60\n",
      "prime number between 50 and 60 are:\n",
      "53\n",
      "59\n"
     ]
    }
   ],
   "source": [
    "lower=int(input(\"enter lower number\"))\n",
    "upper=int(input(\"enter upper number\"))\n",
    "print(\"prime number between\",lower,\"and\",upper,'are:')\n",
    "for num in range(lower,upper+1):\n",
    "    if num>1:\n",
    "        for i in range(2,num):\n",
    "            if(num%i)==0:\n",
    "                break\n",
    "        else:\n",
    "            print(num)"
   ]
  },
  {
   "cell_type": "code",
   "execution_count": 33,
   "id": "f379bc52",
   "metadata": {},
   "outputs": [],
   "source": [
    "seq={'a','w','q','p','o'}\n",
    "for i in seq:\n",
    "    pass"
   ]
  },
  {
   "cell_type": "code",
   "execution_count": 35,
   "id": "2d507c72",
   "metadata": {},
   "outputs": [
    {
     "name": "stdout",
     "output_type": "stream",
     "text": [
      "hello,Adarsh.Good morning!\n"
     ]
    }
   ],
   "source": [
    "def greet(name):\n",
    "    print(\"hello,\"+name+\".Good morning!\")\n",
    "greet(\"Adarsh\")\n"
   ]
  },
  {
   "cell_type": "code",
   "execution_count": 40,
   "id": "1507475e",
   "metadata": {},
   "outputs": [
    {
     "name": "stdout",
     "output_type": "stream",
     "text": [
      "None\n"
     ]
    }
   ],
   "source": [
    "print(greet.__doc__)"
   ]
  },
  {
   "cell_type": "code",
   "execution_count": 43,
   "id": "dbf28b02",
   "metadata": {},
   "outputs": [
    {
     "name": "stdout",
     "output_type": "stream",
     "text": [
      "2\n",
      "5\n"
     ]
    }
   ],
   "source": [
    "def absolute_value(num):\n",
    "    if num>=0:\n",
    "        return num\n",
    "    else:\n",
    "        return-num\n",
    "print(absolute_value(2))\n",
    "print(absolute_value(-5))"
   ]
  },
  {
   "cell_type": "code",
   "execution_count": null,
   "id": "f6ad3978",
   "metadata": {},
   "outputs": [],
   "source": [
    "def asd(num):\n",
    "    if num>=0:\n",
    "        return num\n",
    "    else:\n",
    "        return-num\n"
   ]
  },
  {
   "cell_type": "code",
   "execution_count": 6,
   "id": "b5143920",
   "metadata": {},
   "outputs": [
    {
     "name": "stdout",
     "output_type": "stream",
     "text": [
      "Value inside function: 10\n",
      "Value outside function: 20\n"
     ]
    }
   ],
   "source": [
    "def my_func():\n",
    "    x=10\n",
    "    print(\"Value inside function:\",x)\n",
    "x=20\n",
    "my_func()\n",
    "print(\"Value outside function:\",x)"
   ]
  },
  {
   "cell_type": "code",
   "execution_count": 10,
   "id": "d6f18490",
   "metadata": {},
   "outputs": [
    {
     "name": "stdout",
     "output_type": "stream",
     "text": [
      "the sum is 11\n"
     ]
    }
   ],
   "source": [
    "def add_numbers(x,y):\n",
    "    sum=x+y\n",
    "    return sum\n",
    "num1=5\n",
    "num2=6\n",
    "print(\"the sum is\",add_numbers(num1,num2))"
   ]
  },
  {
   "cell_type": "code",
   "execution_count": 5,
   "id": "df76ae50",
   "metadata": {},
   "outputs": [
    {
     "name": "stdout",
     "output_type": "stream",
     "text": [
      "Value inside function: 13\n",
      "Value outside function 14\n"
     ]
    }
   ],
   "source": [
    "def my_func():\n",
    "    x=13\n",
    "    print(\"Value inside function:\",x)\n",
    "x=14\n",
    "my_func()\n",
    "print(\"Value outside function\",x)\n",
    "    "
   ]
  },
  {
   "cell_type": "code",
   "execution_count": 7,
   "id": "56b15882",
   "metadata": {},
   "outputs": [
    {
     "name": "stdout",
     "output_type": "stream",
     "text": [
      "the sum is 30\n"
     ]
    }
   ],
   "source": [
    "def add(a,b):\n",
    "    sum=a+b\n",
    "    return sum\n",
    "num1=10\n",
    "num2=20\n",
    "print(\"the sum is\",add(num1,num2))"
   ]
  },
  {
   "cell_type": "code",
   "execution_count": 14,
   "id": "f7f67682",
   "metadata": {},
   "outputs": [
    {
     "name": "stdout",
     "output_type": "stream",
     "text": [
      "hello kate,good mroning!\n",
      "hello bruce,how are you?\n"
     ]
    }
   ],
   "source": [
    "def greet(name,msg=\"good mroning!\"):\n",
    "    \"\"\"this function greets to\n",
    "    the person with the provided message\n",
    "    if the message is not provided,\n",
    "    it defaults to \"good mroning!\"\"\"\n",
    "    print(\"hello\",name+','+msg)\n",
    "greet(\"kate\")\n",
    "greet(\"bruce\",\"how are you?\")"
   ]
  },
  {
   "cell_type": "code",
   "execution_count": 21,
   "id": "f283042f",
   "metadata": {},
   "outputs": [
    {
     "name": "stdout",
     "output_type": "stream",
     "text": [
      "hello bruce,how are you?\n",
      "hello bruce,how do you do?\n",
      "hello bruce,how do you do?\n"
     ]
    }
   ],
   "source": [
    "def greet(name,msg):\n",
    "    \"\"\"this function greets to\n",
    "    the person with the provided message\n",
    "    if the message is not provided,\n",
    "    it defaults to \"good mroning!\"\"\"\n",
    "    print(\"hello\",name+','+msg)\n",
    "greet(name=\"bruce\",msg=\"how are you?\")\n",
    "greet(msg=\"how do you do?\",name=\"bruce\")\n",
    "greet(\"bruce\",msg=\"how do you do?\")"
   ]
  },
  {
   "cell_type": "code",
   "execution_count": 20,
   "id": "ebd6c22d",
   "metadata": {},
   "outputs": [
    {
     "ename": "SyntaxError",
     "evalue": "positional argument follows keyword argument (Temp/ipykernel_5640/1498777536.py, line 1)",
     "output_type": "error",
     "traceback": [
      "\u001b[1;36m  File \u001b[1;32m\"C:\\Users\\adars\\AppData\\Local\\Temp/ipykernel_5640/1498777536.py\"\u001b[1;36m, line \u001b[1;32m1\u001b[0m\n\u001b[1;33m    greet(name=\"bruce\",\"how do you do?\")\u001b[0m\n\u001b[1;37m                                       ^\u001b[0m\n\u001b[1;31mSyntaxError\u001b[0m\u001b[1;31m:\u001b[0m positional argument follows keyword argument\n"
     ]
    }
   ],
   "source": [
    "greet(name=\"bruce\",\"how do you do?\")"
   ]
  },
  {
   "cell_type": "code",
   "execution_count": null,
   "id": "b562a60d",
   "metadata": {},
   "outputs": [],
   "source": []
  }
 ],
 "metadata": {
  "kernelspec": {
   "display_name": "Python 3 (ipykernel)",
   "language": "python",
   "name": "python3"
  },
  "language_info": {
   "codemirror_mode": {
    "name": "ipython",
    "version": 3
   },
   "file_extension": ".py",
   "mimetype": "text/x-python",
   "name": "python",
   "nbconvert_exporter": "python",
   "pygments_lexer": "ipython3",
   "version": "3.9.7"
  }
 },
 "nbformat": 4,
 "nbformat_minor": 5
}
