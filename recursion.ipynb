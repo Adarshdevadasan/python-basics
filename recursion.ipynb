{
 "cells": [
  {
   "cell_type": "code",
   "execution_count": 4,
   "id": "1c120c5e",
   "metadata": {},
   "outputs": [
    {
     "name": "stdout",
     "output_type": "stream",
     "text": [
      "The factorial of 3 is 6\n"
     ]
    }
   ],
   "source": [
    "def factorial(x):\n",
    "    if x==1:\n",
    "        return 1\n",
    "    else:\n",
    "        return(x*factorial(x-1))\n",
    "num=3\n",
    "print(\"The factorial of\",num,\"is\",factorial(num))"
   ]
  },
  {
   "cell_type": "code",
   "execution_count": 6,
   "id": "f97e7e56",
   "metadata": {},
   "outputs": [
    {
     "name": "stdout",
     "output_type": "stream",
     "text": [
      "[2, 4, 6, 8]\n"
     ]
    }
   ],
   "source": [
    "my_list=[1,2,3,4,5,6,7,8,9]\n",
    "new_list=list(filter(lambda x: (x%2==0),my_list))\n",
    "print(new_list)"
   ]
  },
  {
   "cell_type": "code",
   "execution_count": 23,
   "id": "3dfcb84d",
   "metadata": {},
   "outputs": [
    {
     "data": {
      "text/plain": [
       "('name is', 'anu', ' and salary is', 9000)"
      ]
     },
     "execution_count": 23,
     "metadata": {},
     "output_type": "execute_result"
    }
   ],
   "source": [
    "def showemployee(name,salary=9000):\n",
    "    return(\"name is\",name,\" and salary is\",salary)\n",
    "showemployee(\"anu\")\n",
    "# showemployee(\"adarsh\",10000)   "
   ]
  },
  {
   "cell_type": "code",
   "execution_count": 26,
   "id": "0377bf7a",
   "metadata": {},
   "outputs": [
    {
     "data": {
      "text/plain": [
       "('the addition is :', 9, 'and the subtraction is:', 1)"
      ]
     },
     "execution_count": 26,
     "metadata": {},
     "output_type": "execute_result"
    }
   ],
   "source": [
    "def calculation(a,b):\n",
    "    return(\"the addition is :\",a+b, \"and the subtraction is:\",a-b)\n",
    "calculation(5,4)\n"
   ]
  },
  {
   "cell_type": "code",
   "execution_count": 36,
   "id": "7ef64079",
   "metadata": {},
   "outputs": [
    {
     "name": "stdout",
     "output_type": "stream",
     "text": [
      "enter the number7\n",
      "factorial of 7 = 5040\n"
     ]
    }
   ],
   "source": [
    "fact=int(input(\"enter the number\"))\n",
    "f=1\n",
    "for i in range(1,fact+1):\n",
    "    f=f*i\n",
    "print(\"factorial of\",fact,'=',f)"
   ]
  },
  {
   "cell_type": "code",
   "execution_count": 2,
   "id": "9b3bd6bb",
   "metadata": {},
   "outputs": [
    {
     "name": "stdout",
     "output_type": "stream",
     "text": [
      "The sum is 136\n"
     ]
    }
   ],
   "source": [
    "def recur_sum(n):\n",
    "   if n <= 1:\n",
    "       return n\n",
    "   else:\n",
    "       return n + recur_sum(n-1)\n",
    "num = 16\n",
    "\n",
    "if num < 0:\n",
    "   print(\"Enter a positive number\")\n",
    "else:\n",
    "   print(\"The sum is\",recur_sum(num))\n"
   ]
  },
  {
   "cell_type": "code",
   "execution_count": null,
   "id": "2fadb6db",
   "metadata": {},
   "outputs": [],
   "source": [
    "# Python program to display the Fibonacci sequence\n",
    "\n",
    "def recur_fibo(n):\n",
    "   if n <= 1:\n",
    "       return n\n",
    "   else:\n",
    "       return(recur_fibo(n-1) + recur_fibo(n-2))\n",
    "\n",
    "nterms = 10\n",
    "\n",
    "# check if the number of terms is valid\n",
    "if nterms <= 0:\n",
    "   print(\"Plese enter a positive integer\")\n",
    "else:\n",
    "   print(\"Fibonacci sequence:\")\n",
    "   for i in range(nterms):\n",
    "       print(recur_fibo(i))\n"
   ]
  },
  {
   "cell_type": "code",
   "execution_count": 3,
   "id": "f6f43f16",
   "metadata": {},
   "outputs": [
    {
     "name": "stdout",
     "output_type": "stream",
     "text": [
      "fibonocci sequence:\n",
      "0\n",
      "1\n",
      "1\n",
      "2\n",
      "3\n",
      "5\n",
      "8\n",
      "13\n",
      "21\n",
      "34\n",
      "55\n",
      "89\n"
     ]
    }
   ],
   "source": [
    "def recur_fibono(n):\n",
    "    if n<=1:\n",
    "        return n\n",
    "    else:\n",
    "        return(recur_fibono(n-1)+recur_fibono(n-2))\n",
    "nterms=12\n",
    "if nterms<=0:\n",
    "    print(\"please enter a positive number\")\n",
    "else:\n",
    "    print(\"fibonocci sequence:\")\n",
    "    for i in range(nterms):\n",
    "        print(recur_fibono(i))"
   ]
  },
  {
   "cell_type": "code",
   "execution_count": null,
   "id": "7625158b",
   "metadata": {},
   "outputs": [],
   "source": []
  }
 ],
 "metadata": {
  "kernelspec": {
   "display_name": "Python 3 (ipykernel)",
   "language": "python",
   "name": "python3"
  },
  "language_info": {
   "codemirror_mode": {
    "name": "ipython",
    "version": 3
   },
   "file_extension": ".py",
   "mimetype": "text/x-python",
   "name": "python",
   "nbconvert_exporter": "python",
   "pygments_lexer": "ipython3",
   "version": "3.9.7"
  }
 },
 "nbformat": 4,
 "nbformat_minor": 5
}
