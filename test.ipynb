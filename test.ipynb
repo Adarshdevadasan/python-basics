{
 "cells": [
  {
   "cell_type": "code",
   "execution_count": 13,
   "id": "22db8861",
   "metadata": {},
   "outputs": [
    {
     "name": "stdout",
     "output_type": "stream",
     "text": [
      "*\n",
      "**\n",
      "***\n",
      "****\n",
      "*****\n",
      "******\n",
      "*******\n",
      "********\n",
      "*********\n"
     ]
    }
   ],
   "source": [
    "for i in range(1,10):\n",
    "    print('*'*i)"
   ]
  },
  {
   "cell_type": "code",
   "execution_count": 12,
   "id": "5fb88cf1",
   "metadata": {},
   "outputs": [
    {
     "name": "stdout",
     "output_type": "stream",
     "text": [
      "Enter Pyramid Pattern Rows = 10\n",
      "Pyramid Star Pattern\n",
      "         0 \n",
      "        1 1 \n",
      "       2 2 2 \n",
      "      3 3 3 3 \n",
      "     4 4 4 4 4 \n",
      "    5 5 5 5 5 5 \n",
      "   6 6 6 6 6 6 6 \n",
      "  7 7 7 7 7 7 7 7 \n",
      " 8 8 8 8 8 8 8 8 8 \n",
      "9 9 9 9 9 9 9 9 9 9 \n"
     ]
    }
   ],
   "source": [
    "rows = int(input(\"Enter Pyramid Pattern Rows = \"))\n",
    "\n",
    "print(\"Pyramid Star Pattern\") \n",
    "\n",
    "for i in range(0, rows):\n",
    "    for j in range(0, rows - i - 1):\n",
    "        print(end = ' ')\n",
    "    for k in range(0, i + 1):\n",
    "        print(i, end = ' ')\n",
    "    print()"
   ]
  },
  {
   "cell_type": "code",
   "execution_count": null,
   "id": "8ab2893e",
   "metadata": {},
   "outputs": [],
   "source": []
  }
 ],
 "metadata": {
  "kernelspec": {
   "display_name": "Python 3 (ipykernel)",
   "language": "python",
   "name": "python3"
  },
  "language_info": {
   "codemirror_mode": {
    "name": "ipython",
    "version": 3
   },
   "file_extension": ".py",
   "mimetype": "text/x-python",
   "name": "python",
   "nbconvert_exporter": "python",
   "pygments_lexer": "ipython3",
   "version": "3.9.7"
  }
 },
 "nbformat": 4,
 "nbformat_minor": 5
}
