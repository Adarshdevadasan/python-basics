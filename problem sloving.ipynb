{
 "cells": [
  {
   "cell_type": "code",
   "execution_count": 2,
   "id": "15e296ef",
   "metadata": {},
   "outputs": [
    {
     "name": "stdout",
     "output_type": "stream",
     "text": [
      "enter the first name:harry\n",
      "enter the last name:potter\n",
      "potterharry\n"
     ]
    }
   ],
   "source": [
    "name=(input(\"enter the first name:\"))\n",
    "name1=(input(\"enter the last name:\"))\n",
    "print(name1+name)"
   ]
  },
  {
   "cell_type": "code",
   "execution_count": 1,
   "id": "e096cb08",
   "metadata": {},
   "outputs": [
    {
     "name": "stdout",
     "output_type": "stream",
     "text": [
      "Input some comma seprated numbers : 12,4,335,67,5\n",
      "List :  ['12', '4', '335', '67', '5']\n",
      "Tuple :  ('12', '4', '335', '67', '5')\n"
     ]
    }
   ],
   "source": [
    "values = input(\"Input some comma seprated numbers : \")\n",
    "list = values.split(\",\")\n",
    "tuple = tuple(list)\n",
    "print('List : ',list)\n",
    "print('Tuple : ',tuple)"
   ]
  },
  {
   "cell_type": "code",
   "execution_count": 2,
   "id": "49e54d0c",
   "metadata": {},
   "outputs": [
    {
     "name": "stdout",
     "output_type": "stream",
     "text": [
      "comma seperated numbers:12,45,7\n",
      "list: ['12', '45', '7']\n",
      "tuple: ('12', '45', '7')\n"
     ]
    }
   ],
   "source": [
    "value=(input(\"comma seperated numbers:\"))\n",
    "list=value.split(\",\")\n",
    "tuple=tuple(list)\n",
    "print('list:',list)\n",
    "print('tuple:',tuple)"
   ]
  },
  {
   "cell_type": "code",
   "execution_count": 30,
   "id": "ef7daf3a",
   "metadata": {},
   "outputs": [
    {
     "name": "stdout",
     "output_type": "stream",
     "text": [
      "6\n",
      "27\n"
     ]
    }
   ],
   "source": [
    "def sum_thrice(x, y, z):\n",
    "\n",
    "     sum = x + y + z\n",
    "  \n",
    "     if x == y == z:\n",
    "        sum = sum * 3\n",
    "     return sum\n",
    "\n",
    "print(sum_thrice(1, 2, 3))\n",
    "print(sum_thrice(3, 3, 3))\n"
   ]
  },
  {
   "cell_type": "code",
   "execution_count": 38,
   "id": "23c80b68",
   "metadata": {},
   "outputs": [
    {
     "name": "stdout",
     "output_type": "stream",
     "text": [
      "12\n",
      "27\n"
     ]
    }
   ],
   "source": [
    "def thrice(a,b,c):\n",
    "    sum=a+b+c\n",
    "    if a==b==c:\n",
    "        sum=sum*3\n",
    "    return sum\n",
    "print(thrice(2,4,6))\n",
    "print(thrice(3,3,3))        "
   ]
  },
  {
   "cell_type": "code",
   "execution_count": 39,
   "id": "e603d430",
   "metadata": {},
   "outputs": [
    {
     "name": "stdout",
     "output_type": "stream",
     "text": [
      "['A', 'B', 'C', 'D']\n"
     ]
    }
   ],
   "source": [
    "# Python code to convert string to list character-wise\n",
    "def Convert(string):\n",
    "\tlist1=[]\n",
    "\tlist1[:0]=string\n",
    "\treturn list1\n",
    "# Driver code\n",
    "str1=\"ABCD\"\n",
    "print(Convert(str1))\n"
   ]
  },
  {
   "cell_type": "code",
   "execution_count": 7,
   "id": "17b129d0",
   "metadata": {},
   "outputs": [
    {
     "name": "stdout",
     "output_type": "stream",
     "text": [
      "['W', 'X', 'Y', 'Z']\n"
     ]
    }
   ],
   "source": [
    "def con(string):\n",
    "    list1=[]\n",
    "    list1[:0]=string\n",
    "    return list1\n",
    "stri=\"WXYZ\"\n",
    "print(con(stri))"
   ]
  },
  {
   "cell_type": "code",
   "execution_count": 11,
   "id": "d75af97b",
   "metadata": {},
   "outputs": [
    {
     "name": "stdout",
     "output_type": "stream",
     "text": [
      "{'blue', 'yellow'}\n"
     ]
    }
   ],
   "source": [
    "COLOR=(\"black\",\"white\",\"yellow\",\"blue\")\n",
    "COLOR1=(\"yellow\",\"pink\",\"red\",\"blue\")\n",
    "print(set(COLOR)&set(COLOR1))"
   ]
  },
  {
   "cell_type": "code",
   "execution_count": 12,
   "id": "ecf3bfd1",
   "metadata": {},
   "outputs": [
    {
     "name": "stdout",
     "output_type": "stream",
     "text": [
      "{1, 5}\n"
     ]
    }
   ],
   "source": [
    "C1=(1,2,3,4,5)\n",
    "C2=(1,5,6,7,8)\n",
    "print(set(C1)&set(C2))"
   ]
  },
  {
   "cell_type": "code",
   "execution_count": null,
   "id": "847cc014",
   "metadata": {},
   "outputs": [],
   "source": [
    "def test(a):\n",
    "        def add(b):\n",
    "                nonlocal a\n",
    "                a += 1\n",
    "                return a+b\n",
    "        return add\n",
    "func= test(4)\n",
    "print(func(4))\n"
   ]
  },
  {
   "cell_type": "code",
   "execution_count": 14,
   "id": "9a991023",
   "metadata": {},
   "outputs": [
    {
     "name": "stdout",
     "output_type": "stream",
     "text": [
      "22\n"
     ]
    }
   ],
   "source": [
    "def tess(A):\n",
    "    def add(B):\n",
    "        nonlocal A\n",
    "        A+=10\n",
    "        return A+B\n",
    "    return add\n",
    "fun=tess(6)\n",
    "print(fun(6))"
   ]
  },
  {
   "cell_type": "code",
   "execution_count": null,
   "id": "db83ffc5",
   "metadata": {},
   "outputs": [],
   "source": [
    "def multiply(numbers):\n",
    "    total = 1\n",
    "    for x in numbers:\n",
    "        total *= x\n",
    "    return total\n",
    "\n",
    "\n",
    "Lst = [8, 2, 3, -1, 7]\n",
    "\n",
    "print(multiply(Lst))"
   ]
  },
  {
   "cell_type": "code",
   "execution_count": 16,
   "id": "6c9d5237",
   "metadata": {},
   "outputs": [
    {
     "name": "stdout",
     "output_type": "stream",
     "text": [
      "multiplication of list: 6\n"
     ]
    }
   ],
   "source": [
    "import math\n",
    "list1=[1,2,3]\n",
    "res=math.prod(list1)\n",
    "print(\"multiplication of list:\",res)"
   ]
  },
  {
   "cell_type": "code",
   "execution_count": 17,
   "id": "6f098fee",
   "metadata": {},
   "outputs": [
    {
     "name": "stdout",
     "output_type": "stream",
     "text": [
      "multiplication of list: 384\n"
     ]
    }
   ],
   "source": [
    "import math\n",
    "list2=[2,4,6,8]\n",
    "A=math.prod(list2)\n",
    "print(\"multiplication of list:\",A)"
   ]
  },
  {
   "cell_type": "code",
   "execution_count": 18,
   "id": "0137a594",
   "metadata": {},
   "outputs": [
    {
     "name": "stdout",
     "output_type": "stream",
     "text": [
      "multiplication of list: 3024\n"
     ]
    }
   ],
   "source": [
    "import math\n",
    "list3=[9,8,7,6]\n",
    "AB=math.prod(list3)\n",
    "print(\"multiplication of list:\",AB)"
   ]
  },
  {
   "cell_type": "code",
   "execution_count": null,
   "id": "ad0e80a8",
   "metadata": {},
   "outputs": [],
   "source": [
    "#student class\n",
    "class student:\n",
    "def __init__(self, roll,name): #to initialize roll and name\n",
    "self.roll=roll\n",
    "self.name=name\n",
    "def display(self): # i. to display student's information\n",
    "print(self.roll,self.name,self.age,self.marks)\n",
    "def setAge(self): # ii. to set age of the student\n",
    "self.age=int(input(\"Enter age : \"))\n",
    "def setMarks(self): # iii. to set marks of the student\n",
    "self.marks=int(input(\"Enter marks : \"))\n",
    "s1=student(111,\"Madhuri\") #creating objects\n",
    "s2=student(222,\"Tara\")\n",
    "#calling methods\n",
    "s1.setAge()\n",
    "s1.setMarks()\n",
    "s2.setAge()\n",
    "s2.setMarks()\n",
    "s1.display()\n",
    "s2.display()"
   ]
  },
  {
   "cell_type": "code",
   "execution_count": 19,
   "id": "32b9bac7",
   "metadata": {},
   "outputs": [
    {
     "name": "stdout",
     "output_type": "stream",
     "text": [
      "Enter age : 15\n",
      "Enter marks : 90\n",
      "Enter age : 15\n",
      "Enter marks : 80\n",
      "111 Madhuri 15 90\n",
      "222 Tara 15 80\n"
     ]
    }
   ],
   "source": [
    "#student class\n",
    "class student:\n",
    "    def __init__(self, roll,name):\n",
    "        self.roll=roll\n",
    "        self.name=name\n",
    "    def display(self):\n",
    "        print(self.roll,self.name,self.age,self.marks)\n",
    "    def setAge(self):\n",
    "        self.age=int(input(\"Enter age : \"))\n",
    "    def setMarks(self):\n",
    "        self.marks=int(input(\"Enter marks : \"))\n",
    "s1=student(111,\"Madhuri\")\n",
    "s2=student(222,\"Tara\")\n",
    "s1.setAge()\n",
    "s1.setMarks()\n",
    "s2.setAge()\n",
    "s2.setMarks()\n",
    "s1.display()\n",
    "s2.display()"
   ]
  },
  {
   "cell_type": "code",
   "execution_count": 21,
   "id": "432d8753",
   "metadata": {},
   "outputs": [
    {
     "name": "stdout",
     "output_type": "stream",
     "text": [
      "blue colored house and located at calicut\n",
      "yellow colored house and located at calicut\n"
     ]
    }
   ],
   "source": [
    "class home:\n",
    "    \n",
    "    def __init__(self,color,place):\n",
    "        self.color = color\n",
    "        self.place = place\n",
    "        \n",
    "\n",
    "h1=home(\"blue\",\"calicut\")\n",
    "h2=home(\"yellow\",\"calicut\")\n",
    "\n",
    "print(\"{} colored house and located at {}\".format(h1.color, h1.place))\n",
    "print(\"{} colored house and located at {}\".format(h2.color,h2.place))\n",
    "    "
   ]
  },
  {
   "cell_type": "code",
   "execution_count": 10,
   "id": "4e1b6b89",
   "metadata": {},
   "outputs": [
    {
     "name": "stdout",
     "output_type": "stream",
     "text": [
      "student_ID is P70\n",
      "student_Name is Amal\n",
      "student_Class is 10B\n"
     ]
    }
   ],
   "source": [
    "class student:\n",
    "    def __init__(self,student_id,student_name,student_class):\n",
    "        self.student_id=student_id\n",
    "        self.student_name=student_name\n",
    "        self.student_class=student_class\n",
    "        \n",
    "    def display(self):\n",
    "        print(\"student_ID is {}\".format(self.student_id))\n",
    "        print(\"student_Name is {}\".format(self.student_name))\n",
    "        print(\"student_Class is {}\".format(self.student_class))\n",
    "        \n",
    "Amal=student(\"P70\",\"Amal\",\"10B\")\n",
    "Amal.display()\n"
   ]
  },
  {
   "cell_type": "code",
   "execution_count": 2,
   "id": "2f37ea0c",
   "metadata": {},
   "outputs": [
    {
     "name": "stdout",
     "output_type": "stream",
     "text": [
      "Amarsh adritha\n"
     ]
    }
   ],
   "source": [
    "A=(\"adarsh\")\n",
    "B=(\"Amritha\")\n",
    "\n",
    "x=A[0:2]\n",
    "A=A.replace(A[0:2],B[0:2])\n",
    "B=B.replace(B[0:2],x)\n",
    "print(A,B)"
   ]
  },
  {
   "cell_type": "code",
   "execution_count": 8,
   "id": "7e0a13e3",
   "metadata": {},
   "outputs": [
    {
     "name": "stdout",
     "output_type": "stream",
     "text": [
      "{'white', 'yellow'}\n"
     ]
    }
   ],
   "source": [
    "color1=set([\"white\",\"black\",\"yellow\"])\n",
    "color2=set([\"red\",\"blue\",\"black\"])\n",
    "print(color1-color2)"
   ]
  }
 ],
 "metadata": {
  "kernelspec": {
   "display_name": "Python 3 (ipykernel)",
   "language": "python",
   "name": "python3"
  },
  "language_info": {
   "codemirror_mode": {
    "name": "ipython",
    "version": 3
   },
   "file_extension": ".py",
   "mimetype": "text/x-python",
   "name": "python",
   "nbconvert_exporter": "python",
   "pygments_lexer": "ipython3",
   "version": "3.9.7"
  }
 },
 "nbformat": 4,
 "nbformat_minor": 5
}
