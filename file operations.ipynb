{
 "cells": [
  {
   "cell_type": "code",
   "execution_count": null,
   "id": "f663546a",
   "metadata": {},
   "outputs": [],
   "source": [
    "f=open(\"test.txt\")\n",
    "f"
   ]
  },
  {
   "cell_type": "code",
   "execution_count": null,
   "id": "68506b98",
   "metadata": {},
   "outputs": [],
   "source": [
    "a=open(r\"C:\\Users\\adars\\OneDrive\\Desktop\\eg.txt\")\n",
    "a"
   ]
  },
  {
   "cell_type": "code",
   "execution_count": null,
   "id": "06cd6f13",
   "metadata": {},
   "outputs": [],
   "source": [
    "b=open(\"demo.txt\")\n",
    "b"
   ]
  },
  {
   "cell_type": "code",
   "execution_count": null,
   "id": "51513d4a",
   "metadata": {},
   "outputs": [],
   "source": [
    "c=open(r\"C:\\nsispromotion_log.txt\")\n",
    "c\n",
    "c.close()"
   ]
  },
  {
   "cell_type": "code",
   "execution_count": null,
   "id": "b6084321",
   "metadata": {},
   "outputs": [],
   "source": [
    "d=open(r\"C:\\Users\\adars\\OneDrive\\Desktop\\python\\test.txt\")\n",
    "d"
   ]
  },
  {
   "cell_type": "code",
   "execution_count": null,
   "id": "61d93360",
   "metadata": {},
   "outputs": [],
   "source": [
    "with open(\"test.txt\",\"w\") as A:\n",
    "    A.write(\"my first file\\n\")\n",
    "    A.write(\"This file\\n\")\n",
    "    A.write(\"third line\\n\")"
   ]
  },
  {
   "cell_type": "code",
   "execution_count": 2,
   "id": "873ead5d",
   "metadata": {},
   "outputs": [
    {
     "data": {
      "text/plain": [
       "'a demo f'"
      ]
     },
     "execution_count": 2,
     "metadata": {},
     "output_type": "execute_result"
    }
   ],
   "source": [
    "W=open(\"test.txt\",\"r\")\n",
    "W.read(8)"
   ]
  },
  {
   "cell_type": "code",
   "execution_count": 3,
   "id": "bcfd5cf1",
   "metadata": {},
   "outputs": [
    {
     "data": {
      "text/plain": [
       "'a demo file\\nto show you\\nthe program\\nhellohellohellohellohellohellohellohellohellohellohello'"
      ]
     },
     "execution_count": 3,
     "metadata": {},
     "output_type": "execute_result"
    }
   ],
   "source": [
    "Q=open(\"test.txt\",\"r\")\n",
    "Q.read()"
   ]
  },
  {
   "cell_type": "code",
   "execution_count": 4,
   "id": "45b5cd50",
   "metadata": {},
   "outputs": [
    {
     "data": {
      "text/plain": [
       "94"
      ]
     },
     "execution_count": 4,
     "metadata": {},
     "output_type": "execute_result"
    }
   ],
   "source": [
    "Q.tell()"
   ]
  },
  {
   "cell_type": "code",
   "execution_count": 5,
   "id": "22ad8bb2",
   "metadata": {},
   "outputs": [
    {
     "data": {
      "text/plain": [
       "0"
      ]
     },
     "execution_count": 5,
     "metadata": {},
     "output_type": "execute_result"
    }
   ],
   "source": [
    "Q.seek(0)"
   ]
  },
  {
   "cell_type": "code",
   "execution_count": 6,
   "id": "da90ae43",
   "metadata": {},
   "outputs": [
    {
     "name": "stdout",
     "output_type": "stream",
     "text": [
      "a demo file\n",
      "to show you\n",
      "the program\n",
      "hellohellohellohellohellohellohellohellohellohellohello"
     ]
    }
   ],
   "source": [
    "for line in Q:\n",
    "    print(line,end=\"\")"
   ]
  },
  {
   "cell_type": "code",
   "execution_count": 7,
   "id": "e1c4e7e3",
   "metadata": {},
   "outputs": [
    {
     "data": {
      "text/plain": [
       "''"
      ]
     },
     "execution_count": 7,
     "metadata": {},
     "output_type": "execute_result"
    }
   ],
   "source": [
    "Q.readline()"
   ]
  },
  {
   "cell_type": "code",
   "execution_count": 8,
   "id": "cf5d1631",
   "metadata": {},
   "outputs": [
    {
     "data": {
      "text/plain": [
       "[]"
      ]
     },
     "execution_count": 8,
     "metadata": {},
     "output_type": "execute_result"
    }
   ],
   "source": [
    "Q.readlines()"
   ]
  },
  {
   "cell_type": "code",
   "execution_count": 20,
   "id": "ab99ff19",
   "metadata": {},
   "outputs": [],
   "source": [
    "with open(\"test.txt\",\"w\") as Y:\n",
    "    Y.write(\"a demo file\\n\")\n",
    "    Y.write(\"to show you\\n\")\n",
    "    Y.write(\"the program\\n\")"
   ]
  },
  {
   "cell_type": "code",
   "execution_count": 10,
   "id": "550b7f06",
   "metadata": {},
   "outputs": [
    {
     "data": {
      "text/plain": [
       "12"
      ]
     },
     "execution_count": 10,
     "metadata": {},
     "output_type": "execute_result"
    }
   ],
   "source": [
    "Y=open(\"test.txt\",\"r+\")\n",
    "Y.write(\"a demo file\\n\")\n",
    "Y.write(\"to show you\\n\")\n",
    "Y.write(\"the program\\n\")"
   ]
  },
  {
   "cell_type": "code",
   "execution_count": 11,
   "id": "0b81e1f4",
   "metadata": {},
   "outputs": [
    {
     "name": "stdout",
     "output_type": "stream",
     "text": [
      "a demo file\n",
      "to show you\n",
      "the program\n"
     ]
    }
   ],
   "source": [
    "for line in Y:\n",
    "    print(line,end=\"\")"
   ]
  },
  {
   "cell_type": "code",
   "execution_count": 25,
   "id": "d9b8f139",
   "metadata": {},
   "outputs": [],
   "source": [
    "Z=(open(\"test.txt\",\"a\"))\n",
    "Z.write(\"hello\\n\")\n",
    "Z.close()"
   ]
  },
  {
   "cell_type": "code",
   "execution_count": 32,
   "id": "95eafd3d",
   "metadata": {},
   "outputs": [],
   "source": [
    "Z=open(\"test.txt\",\"a\")\n",
    "Z.write(\"classmate\\n\")\n",
    "Z.close()"
   ]
  },
  {
   "cell_type": "code",
   "execution_count": 13,
   "id": "4f8a775e",
   "metadata": {},
   "outputs": [
    {
     "name": "stdout",
     "output_type": "stream",
     "text": [
      "4\n"
     ]
    }
   ],
   "source": [
    "AW=len(open(\"test.txt\").readlines())\n",
    "print(AW)"
   ]
  },
  {
   "cell_type": "code",
   "execution_count": 14,
   "id": "f9b0b1f8",
   "metadata": {},
   "outputs": [
    {
     "data": {
      "text/plain": [
       "'demo.txt'"
      ]
     },
     "execution_count": 14,
     "metadata": {},
     "output_type": "execute_result"
    }
   ],
   "source": [
    "import shutil\n",
    "org=r\"test.txt\"\n",
    "tar=r\"demo.txt\"\n",
    "shutil.copyfile(org,tar)"
   ]
  },
  {
   "cell_type": "code",
   "execution_count": 24,
   "id": "a15e0e4c",
   "metadata": {},
   "outputs": [],
   "source": [
    "Y=open(\"test.txt\",\"r\")\n",
    "lines=Y.readlines()\n",
    "Y.close()\n",
    "\n",
    "Z=open(\"test.txt\",\"w\")\n",
    "for line in lines:\n",
    "    if line.strip(\"\\n\") !=\"helloclassmateclassmate\":\n",
    "        Z.write(line)\n",
    "Z.close()"
   ]
  },
  {
   "cell_type": "code",
   "execution_count": 34,
   "id": "645addb0",
   "metadata": {},
   "outputs": [],
   "source": [
    "s=open(\"test.txt\",\"r\")\n",
    "lines=s.readlines()\n",
    "s.close()\n",
    "del lines[4]\n",
    "w=open(\"test.txt\",\"w+\")\n",
    "for line in lines:\n",
    "    w.write(line)\n",
    "w.close()"
   ]
  },
  {
   "cell_type": "code",
   "execution_count": null,
   "id": "732df7f9",
   "metadata": {},
   "outputs": [],
   "source": []
  },
  {
   "cell_type": "code",
   "execution_count": null,
   "id": "759f2b90",
   "metadata": {},
   "outputs": [],
   "source": []
  }
 ],
 "metadata": {
  "kernelspec": {
   "display_name": "Python 3 (ipykernel)",
   "language": "python",
   "name": "python3"
  },
  "language_info": {
   "codemirror_mode": {
    "name": "ipython",
    "version": 3
   },
   "file_extension": ".py",
   "mimetype": "text/x-python",
   "name": "python",
   "nbconvert_exporter": "python",
   "pygments_lexer": "ipython3",
   "version": "3.9.7"
  }
 },
 "nbformat": 4,
 "nbformat_minor": 5
}
