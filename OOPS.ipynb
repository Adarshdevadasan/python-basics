{
 "cells": [
  {
   "cell_type": "code",
   "execution_count": 1,
   "id": "5a1e35b3",
   "metadata": {},
   "outputs": [
    {
     "name": "stdout",
     "output_type": "stream",
     "text": [
      "blue is a bird\n",
      "woo is also a bird\n",
      "blue is 10 years old\n",
      "woo is 15 years old\n"
     ]
    }
   ],
   "source": [
    "class parrot:\n",
    "    #class attribute\n",
    "    species=\"bird\"\n",
    "    \n",
    "    #instance attribute\n",
    "    def __init__(self,name,age):\n",
    "        self.name=name\n",
    "        self.age=age\n",
    "        \n",
    "#instantiate the parrot class\n",
    "blue=parrot(\"blue\",10)\n",
    "woo=parrot(\"woo\",15)\n",
    "\n",
    "# #access the class attributes\n",
    "print(\"blue is a {}\".format(blue.__class__.species))\n",
    "print(\"woo is also a {}\".format(woo.__class__.species))\n",
    "\n",
    "# #access the instance attributes\n",
    "print(\"{} is {} years old\".format(blue.name,blue.age))\n",
    "print(\"{} is {} years old\".format(woo.name,woo.age))\n"
   ]
  },
  {
   "cell_type": "code",
   "execution_count": 2,
   "id": "92958eae",
   "metadata": {},
   "outputs": [
    {
     "name": "stdout",
     "output_type": "stream",
     "text": [
      "blue colored house and located at calicut\n"
     ]
    }
   ],
   "source": [
    "class home:\n",
    "    \n",
    "    def __init__(self,color,place):\n",
    "        self.color = color\n",
    "        self.place = place\n",
    "        \n",
    "\n",
    "h1=home(\"blue\",\"calicut\")\n",
    "h2=home(\"yellow\",\"calicut\")\n",
    "\n",
    "print(\"{} colored house and located at {}\".format(h1.color, h1.place))\n",
    "    "
   ]
  },
  {
   "cell_type": "code",
   "execution_count": 3,
   "id": "b392296d",
   "metadata": {},
   "outputs": [
    {
     "name": "stdout",
     "output_type": "stream",
     "text": [
      "amal is a software developer\n",
      "tobin is also software developer\n",
      "amal is 22 year old and his salary is 30000\n",
      "tobin is 20 year old and his salary is 25000\n"
     ]
    }
   ],
   "source": [
    "class employee:\n",
    "    \n",
    "    position=\"software developer\"\n",
    "    \n",
    "    def __init__(self,name,age,salary):\n",
    "        self.name=name\n",
    "        self.age=age\n",
    "        self.salary=salary\n",
    "    \n",
    "amal=employee(\"amal\",22,30000)\n",
    "tobin=employee(\"tobin\",20,25000)\n",
    "\n",
    "print(\"amal is a {}\".format(amal.__class__.position))\n",
    "print(\"tobin is also {}\".format(tobin.__class__.position))\n",
    "\n",
    "print(\"{} is {} year old and his salary is {}\".format(amal.name,amal.age,amal.salary))\n",
    "print(\"{} is {} year old and his salary is {}\".format(tobin.name,tobin.age,tobin.salary))"
   ]
  },
  {
   "cell_type": "code",
   "execution_count": 4,
   "id": "a67cf013",
   "metadata": {},
   "outputs": [
    {
     "name": "stdout",
     "output_type": "stream",
     "text": [
      "bmw is a car\n",
      "tesla is also a car\n",
      "the latest bmw model is seventh Gen in black\n",
      "the latest tesla model is 3 in white\n"
     ]
    }
   ],
   "source": [
    "class vehicle:\n",
    "    category=\"car\"\n",
    "    \n",
    "    def __init__(self,name,model,color):\n",
    "        self.name=name\n",
    "        self.model=model\n",
    "        self.color=color\n",
    "        \n",
    "bmw=vehicle(\"bmw\",\"seventh Gen\",\"black\")\n",
    "tesla=vehicle(\"tesla\",3,\"white\")\n",
    "\n",
    "print(\"bmw is a {}\".format(bmw.__class__.category))\n",
    "print(\"tesla is also a {}\".format(tesla.__class__.category))\n",
    "\n",
    "print(\"the latest {} model is {} in {}\".format(bmw.name,bmw.model,bmw.color))\n",
    "print(\"the latest {} model is {} in {}\".format(tesla.name,tesla.model,tesla.color))\n"
   ]
  },
  {
   "cell_type": "code",
   "execution_count": 5,
   "id": "470b5426",
   "metadata": {},
   "outputs": [
    {
     "name": "stdout",
     "output_type": "stream",
     "text": [
      "blue sings Happy\n",
      "blue is now dancing\n"
     ]
    }
   ],
   "source": [
    "#methods\n",
    "\n",
    "class parrot:\n",
    "    #instance attributes\n",
    "    \n",
    "    def __init__(self,name,age):\n",
    "        self.name=name\n",
    "        self.age=age\n",
    "        \n",
    "    #instance method\n",
    "    \n",
    "    def sing(self,song):\n",
    "        return\"{} sings {}\".format(self.name,song)\n",
    "    \n",
    "    def dance(self):\n",
    "        return\"{} is now dancing\".format(self.name)\n",
    "    \n",
    "    #instantiate the object\n",
    "    \n",
    "blue=parrot(\"blue\",10)\n",
    "    \n",
    "    #call our instance methods\n",
    "print(blue.sing(\"Happy\"))\n",
    "print(blue.dance())\n"
   ]
  },
  {
   "cell_type": "markdown",
   "id": "894c56a5",
   "metadata": {},
   "source": [
    "# Inheritance\n"
   ]
  },
  {
   "cell_type": "code",
   "execution_count": 6,
   "id": "4dc421df",
   "metadata": {},
   "outputs": [
    {
     "name": "stdout",
     "output_type": "stream",
     "text": [
      "bird is ready\n",
      "penguin is ready\n",
      "penguin\n",
      "swim faster\n",
      "Run faster\n"
     ]
    }
   ],
   "source": [
    "#parent class\n",
    "class Bird:\n",
    "    \n",
    "    def __init__(self):\n",
    "        print(\"bird is ready\")\n",
    "        \n",
    "    def whoisThis(self):\n",
    "        print(\"bird\")\n",
    "        \n",
    "    def swim(self):\n",
    "        print(\"swim faster\")\n",
    "        \n",
    "#child class\n",
    "class penguin(Bird):\n",
    "    \n",
    "    def __init__(self):\n",
    "        #call super() function\n",
    "        super().__init__()\n",
    "        print(\"penguin is ready\")\n",
    "        \n",
    "    def whoisThis(self):\n",
    "        print(\"penguin\")\n",
    "            \n",
    "    def run(self):\n",
    "        print(\"Run faster\")\n",
    "        \n",
    "peggy=penguin()\n",
    "peggy.whoisThis()\n",
    "peggy.swim()\n",
    "peggy.run()"
   ]
  },
  {
   "cell_type": "code",
   "execution_count": 7,
   "id": "29bcfe17",
   "metadata": {},
   "outputs": [
    {
     "name": "stdout",
     "output_type": "stream",
     "text": [
      "name is parrot and color is color \n",
      "swim faster\n",
      "Run faster\n"
     ]
    }
   ],
   "source": [
    "class Bird:\n",
    "    def __init__(self,name,color):\n",
    "        self.name=name\n",
    "        self.color=color\n",
    "       \n",
    "    def whoisthis(self):\n",
    "          print(\"parrot\")\n",
    "    def swim(self):\n",
    "        print(\"swim faster\")\n",
    "class penguin(Bird):\n",
    "\n",
    "    def whoisthis(self):\n",
    "        print(\"name is {} and color is {} \".format(self.name,self.color))\n",
    "    def run(self):\n",
    "        print(\"Run faster\")\n",
    "peggy=penguin(\"parrot\",\"color\")\n",
    "peggy.whoisthis()\n",
    "peggy.swim()\n",
    "peggy.run()"
   ]
  },
  {
   "cell_type": "markdown",
   "id": "1e0c8fd6",
   "metadata": {},
   "source": [
    "# Encapsulation"
   ]
  },
  {
   "cell_type": "code",
   "execution_count": 8,
   "id": "80c5d8ac",
   "metadata": {},
   "outputs": [
    {
     "name": "stdout",
     "output_type": "stream",
     "text": [
      "Selling Price:900\n",
      "Selling Price:900\n",
      "Selling Price:1000\n"
     ]
    }
   ],
   "source": [
    "class computer:\n",
    "    def __init__(self):\n",
    "        self.__maxprice=900\n",
    "    def sell(self):\n",
    "        print(\"Selling Price:{}\".format(self.__maxprice))\n",
    "    def setmaxprice(self,price):\n",
    "        self.__maxprice=price\n",
    "c=computer()\n",
    "c.sell()\n",
    "#change the price\n",
    "c.__maxprice=1000\n",
    "c.sell()\n",
    "#using setter function\n",
    "c.setmaxprice(1000)\n",
    "c.sell()"
   ]
  },
  {
   "cell_type": "code",
   "execution_count": 9,
   "id": "9ce61757",
   "metadata": {},
   "outputs": [
    {
     "name": "stdout",
     "output_type": "stream",
     "text": [
      "name is adarsh and the salary is 2000\n",
      "name is adarsh and the salary is 2000\n",
      "name is arun and the salary is 1000\n"
     ]
    }
   ],
   "source": [
    "class employee:\n",
    "    def __init__(self):\n",
    "        self.__name=\"adarsh\"\n",
    "        self.__salary=2000\n",
    "        \n",
    "    def show(self):\n",
    "        print(\"name is {} and the salary is {}\".format(self.__name,self.__salary))\n",
    "    def changename(self,nam):\n",
    "        self.__name=nam\n",
    "    def changesalary(self,sal):\n",
    "        self.__salary=sal\n",
    "        \n",
    "a=employee()\n",
    "a.show()\n",
    "a.__name=\"abcd\"\n",
    "a.show()\n",
    "a.changename(\"arun\")\n",
    "a.changesalary(1000)\n",
    "a.show()\n"
   ]
  },
  {
   "cell_type": "code",
   "execution_count": 10,
   "id": "e14a1040",
   "metadata": {},
   "outputs": [
    {
     "name": "stdout",
     "output_type": "stream",
     "text": [
      "name is tom and color is green and age is 3\n",
      "name is tom and color is green and age is 3\n",
      "name is jerry and color is white and age is 4\n"
     ]
    }
   ],
   "source": [
    "class Bird:\n",
    "    def __init__(self):\n",
    "        self.__name=\"tom\"\n",
    "        self.__color=\"green\"\n",
    "        self.__age=3\n",
    "    def view(self):\n",
    "        print(\"name is {} and color is {} and age is {}\".format(self.__name,self.__color,self.__age))\n",
    "    def another(self,AAA):\n",
    "        self.__name=AAA\n",
    "    def rain(self,BBB):\n",
    "        self.__color=BBB\n",
    "    def year(self,CCC):\n",
    "        self.__age=CCC   \n",
    "         \n",
    "            \n",
    "            \n",
    "        \n",
    "yah=Bird()\n",
    "yah.view()\n",
    "yah.__name=\"harry\"\n",
    "yah.view()\n",
    "yah.another(\"jerry\")\n",
    "yah.rain(\"white\")\n",
    "yah.year(4)\n",
    "yah.view()"
   ]
  },
  {
   "cell_type": "code",
   "execution_count": 11,
   "id": "f0539e69",
   "metadata": {},
   "outputs": [
    {
     "name": "stdout",
     "output_type": "stream",
     "text": [
      "2+3j\n"
     ]
    }
   ],
   "source": [
    "class ComplexNumber:\n",
    "    def __init__(self,r=0,i=0):\n",
    "        self.real=r\n",
    "        self.imag=i\n",
    "    def get_data(self):\n",
    "        print(f\"{self.real}+{self.imag}j\")\n",
    "num=ComplexNumber(2,3)\n",
    "num.get_data()"
   ]
  },
  {
   "cell_type": "code",
   "execution_count": 12,
   "id": "3180b081",
   "metadata": {},
   "outputs": [
    {
     "name": "stdout",
     "output_type": "stream",
     "text": [
      "2+6j\n"
     ]
    }
   ],
   "source": [
    "num1=ComplexNumber(2,6)\n",
    "num1.get_data()"
   ]
  },
  {
   "cell_type": "code",
   "execution_count": 13,
   "id": "6ac3a798",
   "metadata": {},
   "outputs": [
    {
     "name": "stdout",
     "output_type": "stream",
     "text": [
      "(5, 0, 10)\n"
     ]
    }
   ],
   "source": [
    "num2=ComplexNumber(5)\n",
    "num2.attr=10\n",
    "print((num2.real,num2.imag,num2.attr))"
   ]
  },
  {
   "cell_type": "code",
   "execution_count": 14,
   "id": "271a5cb0",
   "metadata": {},
   "outputs": [
    {
     "ename": "AttributeError",
     "evalue": "'ComplexNumber' object has no attribute 'imag'",
     "output_type": "error",
     "traceback": [
      "\u001b[1;31m---------------------------------------------------------------------------\u001b[0m",
      "\u001b[1;31mAttributeError\u001b[0m                            Traceback (most recent call last)",
      "\u001b[1;32m~\\AppData\\Local\\Temp/ipykernel_19648/3520940621.py\u001b[0m in \u001b[0;36m<module>\u001b[1;34m\u001b[0m\n\u001b[0;32m      1\u001b[0m \u001b[0mnum1\u001b[0m\u001b[1;33m=\u001b[0m\u001b[0mComplexNumber\u001b[0m\u001b[1;33m(\u001b[0m\u001b[1;36m2\u001b[0m\u001b[1;33m,\u001b[0m\u001b[1;36m6\u001b[0m\u001b[1;33m)\u001b[0m\u001b[1;33m\u001b[0m\u001b[1;33m\u001b[0m\u001b[0m\n\u001b[0;32m      2\u001b[0m \u001b[1;32mdel\u001b[0m \u001b[0mnum1\u001b[0m\u001b[1;33m.\u001b[0m\u001b[0mimag\u001b[0m\u001b[1;33m\u001b[0m\u001b[1;33m\u001b[0m\u001b[0m\n\u001b[1;32m----> 3\u001b[1;33m \u001b[0mnum1\u001b[0m\u001b[1;33m.\u001b[0m\u001b[0mget_data\u001b[0m\u001b[1;33m(\u001b[0m\u001b[1;33m)\u001b[0m\u001b[1;33m\u001b[0m\u001b[1;33m\u001b[0m\u001b[0m\n\u001b[0m",
      "\u001b[1;32m~\\AppData\\Local\\Temp/ipykernel_19648/1065992230.py\u001b[0m in \u001b[0;36mget_data\u001b[1;34m(self)\u001b[0m\n\u001b[0;32m      4\u001b[0m         \u001b[0mself\u001b[0m\u001b[1;33m.\u001b[0m\u001b[0mimag\u001b[0m\u001b[1;33m=\u001b[0m\u001b[0mi\u001b[0m\u001b[1;33m\u001b[0m\u001b[1;33m\u001b[0m\u001b[0m\n\u001b[0;32m      5\u001b[0m     \u001b[1;32mdef\u001b[0m \u001b[0mget_data\u001b[0m\u001b[1;33m(\u001b[0m\u001b[0mself\u001b[0m\u001b[1;33m)\u001b[0m\u001b[1;33m:\u001b[0m\u001b[1;33m\u001b[0m\u001b[1;33m\u001b[0m\u001b[0m\n\u001b[1;32m----> 6\u001b[1;33m         \u001b[0mprint\u001b[0m\u001b[1;33m(\u001b[0m\u001b[1;34mf\"{self.real}+{self.imag}j\"\u001b[0m\u001b[1;33m)\u001b[0m\u001b[1;33m\u001b[0m\u001b[1;33m\u001b[0m\u001b[0m\n\u001b[0m\u001b[0;32m      7\u001b[0m \u001b[0mnum\u001b[0m\u001b[1;33m=\u001b[0m\u001b[0mComplexNumber\u001b[0m\u001b[1;33m(\u001b[0m\u001b[1;36m2\u001b[0m\u001b[1;33m,\u001b[0m\u001b[1;36m3\u001b[0m\u001b[1;33m)\u001b[0m\u001b[1;33m\u001b[0m\u001b[1;33m\u001b[0m\u001b[0m\n\u001b[0;32m      8\u001b[0m \u001b[0mnum\u001b[0m\u001b[1;33m.\u001b[0m\u001b[0mget_data\u001b[0m\u001b[1;33m(\u001b[0m\u001b[1;33m)\u001b[0m\u001b[1;33m\u001b[0m\u001b[1;33m\u001b[0m\u001b[0m\n",
      "\u001b[1;31mAttributeError\u001b[0m: 'ComplexNumber' object has no attribute 'imag'"
     ]
    }
   ],
   "source": [
    "num1=ComplexNumber(2,6)\n",
    "del num1.imag\n",
    "num1.get_data()\n"
   ]
  },
  {
   "cell_type": "code",
   "execution_count": 15,
   "id": "3977ab60",
   "metadata": {},
   "outputs": [
    {
     "ename": "AttributeError",
     "evalue": "'ComplexNumber' object has no attribute 'get_data'",
     "output_type": "error",
     "traceback": [
      "\u001b[1;31m---------------------------------------------------------------------------\u001b[0m",
      "\u001b[1;31mAttributeError\u001b[0m                            Traceback (most recent call last)",
      "\u001b[1;32m~\\AppData\\Local\\Temp/ipykernel_19648/4254385130.py\u001b[0m in \u001b[0;36m<module>\u001b[1;34m\u001b[0m\n\u001b[0;32m      1\u001b[0m \u001b[1;32mdel\u001b[0m \u001b[0mComplexNumber\u001b[0m\u001b[1;33m.\u001b[0m\u001b[0mget_data\u001b[0m\u001b[1;33m\u001b[0m\u001b[1;33m\u001b[0m\u001b[0m\n\u001b[1;32m----> 2\u001b[1;33m \u001b[0mnum1\u001b[0m\u001b[1;33m.\u001b[0m\u001b[0mget_data\u001b[0m\u001b[1;33m(\u001b[0m\u001b[1;33m)\u001b[0m\u001b[1;33m\u001b[0m\u001b[1;33m\u001b[0m\u001b[0m\n\u001b[0m",
      "\u001b[1;31mAttributeError\u001b[0m: 'ComplexNumber' object has no attribute 'get_data'"
     ]
    }
   ],
   "source": [
    "del ComplexNumber.get_data\n",
    "num1.get_data()\n"
   ]
  },
  {
   "cell_type": "code",
   "execution_count": 16,
   "id": "0e4d96e3",
   "metadata": {},
   "outputs": [
    {
     "name": "stdout",
     "output_type": "stream",
     "text": [
      "bird is ready\n",
      "penguin is ready\n",
      "penguin\n",
      "swim faster\n",
      "Run faster\n"
     ]
    }
   ],
   "source": [
    "#parent class\n",
    "class Bird:\n",
    "    \n",
    "    def __init__(self):\n",
    "        print(\"bird is ready\")\n",
    "        \n",
    "    def whoisThis(self):\n",
    "        print(\"bird\")\n",
    "        \n",
    "    def swim(self):\n",
    "        print(\"swim faster\")\n",
    "        \n",
    "#child class\n",
    "class penguin(Bird):\n",
    "    \n",
    "    def __init__(self):\n",
    "        #call super() function\n",
    "        super().__init__()\n",
    "        print(\"penguin is ready\")\n",
    "        \n",
    "    def whoisThis(self):\n",
    "        print(\"penguin\")\n",
    "            \n",
    "    def run(self):\n",
    "        print(\"Run faster\")\n",
    "        \n",
    "peggy=penguin()\n",
    "peggy.whoisThis()\n",
    "peggy.swim()\n",
    "peggy.run()"
   ]
  },
  {
   "cell_type": "code",
   "execution_count": 17,
   "id": "07153ee0",
   "metadata": {},
   "outputs": [
    {
     "name": "stdout",
     "output_type": "stream",
     "text": [
      "animal is ready\n",
      "lion is ready\n",
      "a lion\n",
      "hunts pray\n",
      "king of the jungle\n"
     ]
    }
   ],
   "source": [
    "class animal:\n",
    "    def __init__(self):\n",
    "        print(\"animal is ready\")\n",
    "    def whatisthis(self):\n",
    "        print(\"an animal\")\n",
    "    def hunts(self):\n",
    "        print(\"hunts pray\")\n",
    "class lion(animal):\n",
    "    def __init__(self):\n",
    "        super().__init__()\n",
    "        print(\"lion is ready\")\n",
    "    def whatisthis(self):\n",
    "        print(\"a lion\")\n",
    "    def king(self):\n",
    "        print(\"king of the jungle\")\n",
    "        \n",
    "simba=lion()\n",
    "simba.whatisthis()\n",
    "simba.hunts()\n",
    "simba.king()"
   ]
  },
  {
   "cell_type": "code",
   "execution_count": 18,
   "id": "2b3b9cc3",
   "metadata": {},
   "outputs": [
    {
     "data": {
      "text/plain": [
       "True"
      ]
     },
     "execution_count": 18,
     "metadata": {},
     "output_type": "execute_result"
    }
   ],
   "source": [
    "isinstance(simba,animal)"
   ]
  },
  {
   "cell_type": "code",
   "execution_count": 19,
   "id": "892d1077",
   "metadata": {},
   "outputs": [
    {
     "data": {
      "text/plain": [
       "True"
      ]
     },
     "execution_count": 19,
     "metadata": {},
     "output_type": "execute_result"
    }
   ],
   "source": [
    "isinstance(simba,lion)"
   ]
  },
  {
   "cell_type": "code",
   "execution_count": 20,
   "id": "e1d23b00",
   "metadata": {},
   "outputs": [
    {
     "data": {
      "text/plain": [
       "True"
      ]
     },
     "execution_count": 20,
     "metadata": {},
     "output_type": "execute_result"
    }
   ],
   "source": [
    "issubclass(lion,animal)"
   ]
  },
  {
   "cell_type": "code",
   "execution_count": 21,
   "id": "38845e25",
   "metadata": {},
   "outputs": [
    {
     "data": {
      "text/plain": [
       "False"
      ]
     },
     "execution_count": 21,
     "metadata": {},
     "output_type": "execute_result"
    }
   ],
   "source": [
    "issubclass(animal,lion)"
   ]
  },
  {
   "cell_type": "code",
   "execution_count": 29,
   "id": "5503f927",
   "metadata": {},
   "outputs": [
    {
     "name": "stdout",
     "output_type": "stream",
     "text": [
      "animals are lovely\n",
      "dogs are lovely\n",
      "A dog\n",
      "animals can guard\n",
      "animals can't speak\n",
      "dogs are loyal to humans\n"
     ]
    }
   ],
   "source": [
    "class animal:\n",
    "    def __init__(self):\n",
    "        print(\"animals are lovely\")\n",
    "    def who_is_this(self):\n",
    "        print(\"an animal\")\n",
    "    def what_can_they_do(self):\n",
    "        print(\"animals can guard\")\n",
    "    def can_animals_speak(self):\n",
    "        print(\"animals can't speak\")\n",
    "class dog(animal):\n",
    "    def __init__(self):\n",
    "        super().__init__()\n",
    "        print(\"dogs are lovely\")\n",
    "    def who_is_this(self):\n",
    "        print(\"A dog\")\n",
    "    def who_are_they_loyal_to(self):\n",
    "        print(\"dogs are loyal to humans\")\n",
    "\n",
    "floki=dog()\n",
    "floki.who_is_this()\n",
    "floki.what_can_they_do()\n",
    "floki.can_animals_speak()\n",
    "floki.who_are_they_loyal_to()"
   ]
  },
  {
   "cell_type": "code",
   "execution_count": 27,
   "id": "acd8814f",
   "metadata": {},
   "outputs": [
    {
     "name": "stdout",
     "output_type": "stream",
     "text": [
      "animals is ready\n",
      "dog is ready\n",
      "dogchild is ready\n",
      "an animal\n",
      "The Dog\n",
      "puppy\n"
     ]
    }
   ],
   "source": [
    "class animal:\n",
    "    def __init__(self):\n",
    "        print(\"animals is ready\")\n",
    "    def who_is_this(self):\n",
    "        print(\"an animal\")\n",
    "class dog(animal):\n",
    "    def __init__(self):\n",
    "        super().__init__()\n",
    "        print(\"dog is ready\")\n",
    "    def who_is_the_best_pet(self):\n",
    "        print(\"The Dog\")\n",
    "class dogchild(dog):\n",
    "    def __init__(self):\n",
    "        super().__init__()\n",
    "        print(\"dogchild is ready\")\n",
    "    def what_is_the_child_of_dog_called(self):\n",
    "        print(\"puppy\")\n",
    "\n",
    "Rayn=dogchild()\n",
    "Rayn.who_is_this()\n",
    "Rayn.who_is_the_best_pet()\n",
    "Rayn.what_is_the_child_of_dog_called()"
   ]
  },
  {
   "cell_type": "code",
   "execution_count": 37,
   "id": "f68af300",
   "metadata": {},
   "outputs": [
    {
     "name": "stdout",
     "output_type": "stream",
     "text": [
      "calculation1 is ready\n",
      "calculation3 is ready\n",
      "calculaton1 can do summation\n",
      "calculation2 can do multiplication\n",
      "calculation3 can do division\n"
     ]
    }
   ],
   "source": [
    "class calculation1:\n",
    "    def __init__(self):\n",
    "        print(\"calculation1 is ready\")\n",
    "    def can_calcualtion1_do_summation(self):\n",
    "        print(\"calculaton1 can do summation\")\n",
    "    def can_calculation1_do_multiplication(self):\n",
    "        print(\"calculation can do multiplication\")\n",
    "class calculation2:\n",
    "    def __init__(self):\n",
    "        print(\"calculation2 is ready\")\n",
    "    def can_calculation2_d_summation(self):\n",
    "        print(\"calculation2 can do summation\")\n",
    "    def can_calculation2_do_multiplication(self):\n",
    "        print(\"calculation2 can do multiplication\")\n",
    "class calculation3(calculation1,calculation2):\n",
    "    def __init__(self):\n",
    "        super().__init__()\n",
    "        print(\"calculation3 is ready\")\n",
    "    def can_calculation3_do_division(self):\n",
    "        print(\"calculation3 can do division\")\n",
    "\n",
    "Cal=calculation3()\n",
    "Cal.can_calcualtion1_do_summation()\n",
    "Cal.can_calculation2_do_multiplication()\n",
    "Cal.can_calculation3_do_division()"
   ]
  },
  {
   "cell_type": "code",
   "execution_count": 40,
   "id": "6725fb5b",
   "metadata": {},
   "outputs": [
    {
     "name": "stdout",
     "output_type": "stream",
     "text": [
      "enter the name : iphone\n",
      "The phone is\n",
      "iphone\n"
     ]
    }
   ],
   "source": [
    "class phone:\n",
    "    def __init__(self):\n",
    "        self.string=\"\"\n",
    "    def lap(self):\n",
    "        self.string=input(\"enter the name : \")\n",
    "    def comp(self):\n",
    "        print(\"The phone is\")\n",
    "        print(self.string)\n",
    "        \n",
    "out=phone()\n",
    "out.lap()\n",
    "out.comp()"
   ]
  },
  {
   "cell_type": "code",
   "execution_count": 50,
   "id": "7468ab1a",
   "metadata": {},
   "outputs": [
    {
     "name": "stdout",
     "output_type": "stream",
     "text": [
      "30\n",
      "10\n",
      "200\n",
      "2.0\n"
     ]
    }
   ],
   "source": [
    "class cal:\n",
    "    def __init__(self,a,b):\n",
    "        self.a=a\n",
    "        self.b=b\n",
    "    def addition(self):\n",
    "        print(self.a+self.b)\n",
    "    def substraction(self):\n",
    "        print(self.a-self.b)\n",
    "    def multiplication(self):\n",
    "        print(self.a*self.b)\n",
    "    def division(self):\n",
    "        print(self.a/self.b)\n",
    "\n",
    "math=cal(20,10)\n",
    "math.addition()\n",
    "math.substraction()\n",
    "math.multiplication()\n",
    "math.division()"
   ]
  },
  {
   "cell_type": "code",
   "execution_count": 56,
   "id": "e1e3100c",
   "metadata": {},
   "outputs": [
    {
     "name": "stdout",
     "output_type": "stream",
     "text": [
      "enter the length2\n",
      "enter the breadth4\n"
     ]
    },
    {
     "data": {
      "text/plain": [
       "8"
      ]
     },
     "execution_count": 56,
     "metadata": {},
     "output_type": "execute_result"
    }
   ],
   "source": [
    "class rectangle:\n",
    "    def __init__(self,length,breadth):\n",
    "        self.length=length\n",
    "        self.breadth=breadth\n",
    "    def area(self):\n",
    "        return self.length*self.breadth\n",
    "length=int(input(\"enter the length\"))\n",
    "breadth=int(input(\"enter the breadth\"))\n",
    "out=rectangle(length,breadth)\n",
    "out.area()"
   ]
  },
  {
   "cell_type": "code",
   "execution_count": 69,
   "id": "b81bd200",
   "metadata": {},
   "outputs": [
    {
     "name": "stdout",
     "output_type": "stream",
     "text": [
      "enter the radius: 4\n"
     ]
    },
    {
     "data": {
      "text/plain": [
       "50.27"
      ]
     },
     "execution_count": 69,
     "metadata": {},
     "output_type": "execute_result"
    }
   ],
   "source": [
    "import math\n",
    "class circle:\n",
    "    def __init__(self,radius):\n",
    "        self.radius=radius\n",
    "    def area(self):\n",
    "        return math.pi*(self.radius**2)\n",
    "rad=int(input(\"enter the radius: \"))\n",
    "out=circle(rad)\n",
    "round(out.area(),2)"
   ]
  },
  {
   "cell_type": "code",
   "execution_count": null,
   "id": "77840411",
   "metadata": {},
   "outputs": [],
   "source": []
  },
  {
   "cell_type": "code",
   "execution_count": null,
   "id": "d139c74d",
   "metadata": {},
   "outputs": [],
   "source": []
  }
 ],
 "metadata": {
  "kernelspec": {
   "display_name": "Python 3 (ipykernel)",
   "language": "python",
   "name": "python3"
  },
  "language_info": {
   "codemirror_mode": {
    "name": "ipython",
    "version": 3
   },
   "file_extension": ".py",
   "mimetype": "text/x-python",
   "name": "python",
   "nbconvert_exporter": "python",
   "pygments_lexer": "ipython3",
   "version": "3.9.7"
  }
 },
 "nbformat": 4,
 "nbformat_minor": 5
}
