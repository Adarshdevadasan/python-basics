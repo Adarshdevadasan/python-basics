{
 "cells": [
  {
   "cell_type": "code",
   "execution_count": 1,
   "id": "8773902b",
   "metadata": {},
   "outputs": [
    {
     "name": "stdout",
     "output_type": "stream",
     "text": [
      "enter the amount1200\n",
      "discount amount is 120.0\n",
      "your total bill is 1080.0\n",
      "the shopping amount is 1080.0\n"
     ]
    }
   ],
   "source": [
    "amount=int(input(\"enter the amount\"))\n",
    "if(amount>1000):\n",
    "    discount=10/100*amount\n",
    "    print(\"discount amount is\",discount)\n",
    "    amount= amount-discount\n",
    "    print(\"your total bill is\",amount)\n",
    "print(\"the shopping amount is\", amount)\n",
    "    "
   ]
  },
  {
   "cell_type": "code",
   "execution_count": 2,
   "id": "4276afb7",
   "metadata": {},
   "outputs": [
    {
     "name": "stdout",
     "output_type": "stream",
     "text": [
      "minimum age to cast vote25\n",
      "can vote and contest in election\n"
     ]
    }
   ],
   "source": [
    "age=int(input(\"minimum age to cast vote\"))\n",
    "\n",
    "if(age<18):\n",
    "    print(\"can't cast vote\")\n",
    "elif(age>=18 and age >=25):\n",
    "    print(\"can vote and contest in election\")\n",
    "else:\n",
    "    print(\"can cast vote\")"
   ]
  },
  {
   "cell_type": "code",
   "execution_count": 3,
   "id": "50c3c05f",
   "metadata": {},
   "outputs": [
    {
     "name": "stdout",
     "output_type": "stream",
     "text": [
      "enter the number:10\n",
      "is the multiple of 5\n"
     ]
    }
   ],
   "source": [
    "num=int(input(\"enter the number:\"))\n",
    "if(num%5==0):\n",
    "    print(\"is the multiple of 5\")\n",
    "else:\n",
    "    print(\"not a multiple of 5\")"
   ]
  },
  {
   "cell_type": "code",
   "execution_count": 7,
   "id": "2b101b26",
   "metadata": {},
   "outputs": [
    {
     "name": "stdout",
     "output_type": "stream",
     "text": [
      "enter the year2024\n",
      "it's not a leap_year\n"
     ]
    }
   ],
   "source": [
    "year=int(input(\"enter the year\"))\n",
    "if((year%4)==0 and (year%100)==0 and (year%400)==0):\n",
    "    print(\"it's a leap_year\")\n",
    "else:\n",
    "    print(\"it's not a leap_year\")"
   ]
  },
  {
   "cell_type": "code",
   "execution_count": 4,
   "id": "0f9b2fe8",
   "metadata": {},
   "outputs": [
    {
     "name": "stdout",
     "output_type": "stream",
     "text": [
      "enter a year2022\n",
      "it's not a leap year\n"
     ]
    }
   ],
   "source": [
    "year=int(input(\"enter a year\"))\n",
    "if(year%4)==0:\n",
    "    if(year%100)==0:\n",
    "        if(year%400)==0:\n",
    "            print(year,\"is a leap year\")\n",
    "        else:\n",
    "            print(\"it's not a leap year\")\n",
    "    else:\n",
    "        print(\"it's  a leap year\")\n",
    "else:\n",
    "    print(\"it's not a leap year\")"
   ]
  },
  {
   "cell_type": "code",
   "execution_count": null,
   "id": "1fc9d3ad",
   "metadata": {},
   "outputs": [],
   "source": []
  },
  {
   "cell_type": "code",
   "execution_count": null,
   "id": "10e10852",
   "metadata": {},
   "outputs": [],
   "source": []
  }
 ],
 "metadata": {
  "kernelspec": {
   "display_name": "Python 3 (ipykernel)",
   "language": "python",
   "name": "python3"
  },
  "language_info": {
   "codemirror_mode": {
    "name": "ipython",
    "version": 3
   },
   "file_extension": ".py",
   "mimetype": "text/x-python",
   "name": "python",
   "nbconvert_exporter": "python",
   "pygments_lexer": "ipython3",
   "version": "3.9.7"
  }
 },
 "nbformat": 4,
 "nbformat_minor": 5
}
