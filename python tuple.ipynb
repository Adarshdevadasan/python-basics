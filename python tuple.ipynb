{
 "cells": [
  {
   "cell_type": "code",
   "execution_count": 1,
   "id": "b7dbc48f",
   "metadata": {},
   "outputs": [
    {
     "data": {
      "text/plain": [
       "40"
      ]
     },
     "execution_count": 1,
     "metadata": {},
     "output_type": "execute_result"
    }
   ],
   "source": [
    "a=(40)\n",
    "a"
   ]
  },
  {
   "cell_type": "code",
   "execution_count": 2,
   "id": "2f6897c4",
   "metadata": {},
   "outputs": [
    {
     "data": {
      "text/plain": [
       "(56,)"
      ]
     },
     "execution_count": 2,
     "metadata": {},
     "output_type": "execute_result"
    }
   ],
   "source": [
    "a=56,\n",
    "a"
   ]
  },
  {
   "cell_type": "code",
   "execution_count": 3,
   "id": "cf078348",
   "metadata": {},
   "outputs": [
    {
     "data": {
      "text/plain": [
       "(120,)"
      ]
     },
     "execution_count": 3,
     "metadata": {},
     "output_type": "execute_result"
    }
   ],
   "source": [
    "a=(120,)\n",
    "a"
   ]
  },
  {
   "cell_type": "code",
   "execution_count": 4,
   "id": "236d6d23",
   "metadata": {},
   "outputs": [
    {
     "data": {
      "text/plain": [
       "('p', 'y', 't', 'h', 'o', 'n')"
      ]
     },
     "execution_count": 4,
     "metadata": {},
     "output_type": "execute_result"
    }
   ],
   "source": [
    "t=tuple('python')\n",
    "t"
   ]
  },
  {
   "cell_type": "code",
   "execution_count": 5,
   "id": "216a994a",
   "metadata": {},
   "outputs": [
    {
     "data": {
      "text/plain": [
       "(23, 67, 54, 99, 70)"
      ]
     },
     "execution_count": 5,
     "metadata": {},
     "output_type": "execute_result"
    }
   ],
   "source": [
    "i=[23,67,54,99,70]\n",
    "ad=tuple(i)\n",
    "ad"
   ]
  },
  {
   "cell_type": "code",
   "execution_count": 1,
   "id": "0bf21fbd",
   "metadata": {},
   "outputs": [
    {
     "name": "stdout",
     "output_type": "stream",
     "text": [
      "enter elementsasdfghj\n"
     ]
    },
    {
     "data": {
      "text/plain": [
       "('a', 's', 'd', 'f', 'g', 'h', 'j')"
      ]
     },
     "execution_count": 1,
     "metadata": {},
     "output_type": "execute_result"
    }
   ],
   "source": [
    "fy=tuple(input('enter elements'))\n",
    "fy"
   ]
  },
  {
   "cell_type": "code",
   "execution_count": 2,
   "id": "c8c98398",
   "metadata": {},
   "outputs": [
    {
     "name": "stdout",
     "output_type": "stream",
     "text": [
      "enter tuple elements45,'tyui',87\n"
     ]
    }
   ],
   "source": [
    "mtuple=eval(input(\"enter tuple elements\"))\n"
   ]
  },
  {
   "cell_type": "code",
   "execution_count": 5,
   "id": "ea53338d",
   "metadata": {},
   "outputs": [
    {
     "data": {
      "text/plain": [
       "[10, 20, 300]"
      ]
     },
     "execution_count": 5,
     "metadata": {},
     "output_type": "execute_result"
    }
   ],
   "source": [
    "l1=[10,20,30]\n",
    "t1=(10,20,30)\n",
    "l1[2]=300\n",
    "l1"
   ]
  },
  {
   "cell_type": "code",
   "execution_count": 7,
   "id": "55464d12",
   "metadata": {},
   "outputs": [
    {
     "ename": "TypeError",
     "evalue": "'tuple' object does not support item assignment",
     "output_type": "error",
     "traceback": [
      "\u001b[1;31m---------------------------------------------------------------------------\u001b[0m",
      "\u001b[1;31mTypeError\u001b[0m                                 Traceback (most recent call last)",
      "\u001b[1;32m~\\AppData\\Local\\Temp/ipykernel_9860/3083546951.py\u001b[0m in \u001b[0;36m<module>\u001b[1;34m\u001b[0m\n\u001b[1;32m----> 1\u001b[1;33m \u001b[0mt1\u001b[0m\u001b[1;33m[\u001b[0m\u001b[1;36m2\u001b[0m\u001b[1;33m]\u001b[0m\u001b[1;33m=\u001b[0m\u001b[1;36m201\u001b[0m\u001b[1;33m\u001b[0m\u001b[1;33m\u001b[0m\u001b[0m\n\u001b[0m\u001b[0;32m      2\u001b[0m \u001b[0mt1\u001b[0m\u001b[1;33m\u001b[0m\u001b[1;33m\u001b[0m\u001b[0m\n",
      "\u001b[1;31mTypeError\u001b[0m: 'tuple' object does not support item assignment"
     ]
    }
   ],
   "source": [
    "t1[2]=201\n",
    "t1"
   ]
  },
  {
   "cell_type": "code",
   "execution_count": 8,
   "id": "eb78912c",
   "metadata": {},
   "outputs": [
    {
     "name": "stdout",
     "output_type": "stream",
     "text": [
      "abc\n",
      "def\n",
      "ghi\n",
      "jkl\n"
     ]
    }
   ],
   "source": [
    "Qiu=(\"abc\",\"def\",\"ghi\",\"jkl\")\n",
    "for i in Qiu:\n",
    "    print(i)"
   ]
  },
  {
   "cell_type": "code",
   "execution_count": 9,
   "id": "ecb483ae",
   "metadata": {},
   "outputs": [
    {
     "name": "stdout",
     "output_type": "stream",
     "text": [
      "0\n",
      "1\n",
      "2\n",
      "3\n"
     ]
    }
   ],
   "source": [
    "Qiu=(\"abc\",\"def\",\"ghi\",\"jkl\")\n",
    "for i in range(len(Qiu)):\n",
    "    print(i)"
   ]
  },
  {
   "cell_type": "code",
   "execution_count": 10,
   "id": "4501abc1",
   "metadata": {},
   "outputs": [
    {
     "data": {
      "text/plain": [
       "(10, 20, 30, 'a', 'b', 'c')"
      ]
     },
     "execution_count": 10,
     "metadata": {},
     "output_type": "execute_result"
    }
   ],
   "source": [
    "t1=(10,20,30)\n",
    "t2=('a','b','c')\n",
    "t3=t1+t2\n",
    "t3"
   ]
  },
  {
   "cell_type": "code",
   "execution_count": 13,
   "id": "2fe434a5",
   "metadata": {},
   "outputs": [
    {
     "data": {
      "text/plain": [
       "('a', 'b', 'c', 60)"
      ]
     },
     "execution_count": 13,
     "metadata": {},
     "output_type": "execute_result"
    }
   ],
   "source": [
    "t1=(90,80,70)\n",
    "t2+(60,)"
   ]
  },
  {
   "cell_type": "code",
   "execution_count": 14,
   "id": "82968e67",
   "metadata": {},
   "outputs": [
    {
     "data": {
      "text/plain": [
       "('do', 'it', 'do', 'it', 'do', 'it')"
      ]
     },
     "execution_count": 14,
     "metadata": {},
     "output_type": "execute_result"
    }
   ],
   "source": [
    "t1=(\"do\",\"it\")\n",
    "t1*3"
   ]
  },
  {
   "cell_type": "code",
   "execution_count": 17,
   "id": "ab4d82d4",
   "metadata": {},
   "outputs": [
    {
     "name": "stdout",
     "output_type": "stream",
     "text": [
      "(3, 4, 5)\n"
     ]
    }
   ],
   "source": [
    "data=(10,20,30,2,3,4,5,680,87,6)\n",
    "data2=data[4:-3]\n",
    "print(data2)"
   ]
  },
  {
   "cell_type": "code",
   "execution_count": 18,
   "id": "1e31b453",
   "metadata": {},
   "outputs": [
    {
     "name": "stdout",
     "output_type": "stream",
     "text": [
      "(20, 30, 2, 3, 4)\n"
     ]
    }
   ],
   "source": [
    "print(data[1:6])"
   ]
  },
  {
   "cell_type": "code",
   "execution_count": 19,
   "id": "dbd6ef5f",
   "metadata": {},
   "outputs": [
    {
     "name": "stdout",
     "output_type": "stream",
     "text": [
      "(3, 4, 5, 680)\n"
     ]
    }
   ],
   "source": [
    "print(data[4:-2])"
   ]
  },
  {
   "cell_type": "code",
   "execution_count": 20,
   "id": "88274ee7",
   "metadata": {},
   "outputs": [
    {
     "name": "stdout",
     "output_type": "stream",
     "text": [
      "(10, 20, 30, 2)\n"
     ]
    }
   ],
   "source": [
    "print(data[-40:4])"
   ]
  },
  {
   "cell_type": "code",
   "execution_count": 21,
   "id": "9f40d66a",
   "metadata": {},
   "outputs": [
    {
     "name": "stdout",
     "output_type": "stream",
     "text": [
      "(6, 87, 680, 5, 4, 3, 2, 30, 20, 10)\n"
     ]
    }
   ],
   "source": [
    "print(data[::-1])"
   ]
  },
  {
   "cell_type": "code",
   "execution_count": 22,
   "id": "6f4f10e6",
   "metadata": {},
   "outputs": [
    {
     "name": "stdout",
     "output_type": "stream",
     "text": [
      "(6, 680, 4, 2, 20)\n"
     ]
    }
   ],
   "source": [
    "print(data[::-2])"
   ]
  },
  {
   "cell_type": "code",
   "execution_count": 23,
   "id": "56051964",
   "metadata": {},
   "outputs": [
    {
     "name": "stdout",
     "output_type": "stream",
     "text": [
      "(30, 3, 5, 87)\n"
     ]
    }
   ],
   "source": [
    "print(data[2:10:2])"
   ]
  },
  {
   "cell_type": "code",
   "execution_count": 56,
   "id": "2cc755b5",
   "metadata": {},
   "outputs": [
    {
     "name": "stdout",
     "output_type": "stream",
     "text": [
      "(11, 13, 15)\n"
     ]
    }
   ],
   "source": [
    "tp1=(11,12,13,14,15,16)\n",
    "seq1=tp1[::2]\n",
    "print(seq1)"
   ]
  },
  {
   "cell_type": "code",
   "execution_count": 57,
   "id": "923942b9",
   "metadata": {},
   "outputs": [
    {
     "name": "stdout",
     "output_type": "stream",
     "text": [
      "(16,)\n"
     ]
    }
   ],
   "source": [
    "seq1=tp1[5::2]\n",
    "print(seq1)"
   ]
  },
  {
   "cell_type": "code",
   "execution_count": 58,
   "id": "3711f251",
   "metadata": {},
   "outputs": [
    {
     "data": {
      "text/plain": [
       "(13, 14, 15, 13, 14, 15, 13, 14, 15)"
      ]
     },
     "execution_count": 58,
     "metadata": {},
     "output_type": "execute_result"
    }
   ],
   "source": [
    "tp1[2:5]*3"
   ]
  },
  {
   "cell_type": "code",
   "execution_count": 29,
   "id": "741bd86f",
   "metadata": {},
   "outputs": [
    {
     "data": {
      "text/plain": [
       "(13, 14, 15, 20, 21)"
      ]
     },
     "execution_count": 29,
     "metadata": {},
     "output_type": "execute_result"
    }
   ],
   "source": [
    "tp1[2:5]+(20,21)"
   ]
  },
  {
   "cell_type": "code",
   "execution_count": 34,
   "id": "6a0e2950",
   "metadata": {},
   "outputs": [
    {
     "data": {
      "text/plain": [
       "True"
      ]
     },
     "execution_count": 34,
     "metadata": {},
     "output_type": "execute_result"
    }
   ],
   "source": [
    "a=(10,20)\n",
    "b=(10,20)\n",
    "c=(20,10)\n",
    "a==b"
   ]
  },
  {
   "cell_type": "code",
   "execution_count": 35,
   "id": "08600083",
   "metadata": {},
   "outputs": [
    {
     "data": {
      "text/plain": [
       "False"
      ]
     },
     "execution_count": 35,
     "metadata": {},
     "output_type": "execute_result"
    }
   ],
   "source": [
    "a==c"
   ]
  },
  {
   "cell_type": "code",
   "execution_count": 36,
   "id": "16df1a60",
   "metadata": {},
   "outputs": [
    {
     "data": {
      "text/plain": [
       "True"
      ]
     },
     "execution_count": 36,
     "metadata": {},
     "output_type": "execute_result"
    }
   ],
   "source": [
    "d=(20.0,10.0)\n",
    "c==d"
   ]
  },
  {
   "cell_type": "code",
   "execution_count": 33,
   "id": "23816097",
   "metadata": {},
   "outputs": [
    {
     "data": {
      "text/plain": [
       "True"
      ]
     },
     "execution_count": 33,
     "metadata": {},
     "output_type": "execute_result"
    }
   ],
   "source": [
    "a<c"
   ]
  },
  {
   "cell_type": "code",
   "execution_count": 37,
   "id": "91be342e",
   "metadata": {},
   "outputs": [
    {
     "name": "stdout",
     "output_type": "stream",
     "text": [
      "(10, 20, 30)\n"
     ]
    }
   ],
   "source": [
    "t1=(10,20,30)\n",
    "print(t1)\n"
   ]
  },
  {
   "cell_type": "code",
   "execution_count": 39,
   "id": "967f08fe",
   "metadata": {},
   "outputs": [
    {
     "ename": "NameError",
     "evalue": "name 't1' is not defined",
     "output_type": "error",
     "traceback": [
      "\u001b[1;31m---------------------------------------------------------------------------\u001b[0m",
      "\u001b[1;31mNameError\u001b[0m                                 Traceback (most recent call last)",
      "\u001b[1;32m~\\AppData\\Local\\Temp/ipykernel_9860/101134242.py\u001b[0m in \u001b[0;36m<module>\u001b[1;34m\u001b[0m\n\u001b[1;32m----> 1\u001b[1;33m \u001b[1;32mdel\u001b[0m \u001b[0mt1\u001b[0m\u001b[1;33m\u001b[0m\u001b[1;33m\u001b[0m\u001b[0m\n\u001b[0m",
      "\u001b[1;31mNameError\u001b[0m: name 't1' is not defined"
     ]
    }
   ],
   "source": [
    "del t1"
   ]
  },
  {
   "cell_type": "code",
   "execution_count": 41,
   "id": "9dc57372",
   "metadata": {},
   "outputs": [
    {
     "data": {
      "text/plain": [
       "4"
      ]
     },
     "execution_count": 41,
     "metadata": {},
     "output_type": "execute_result"
    }
   ],
   "source": [
    "b=(\"qwe\",\"wurir\",\"jdicn\",\"ndk\")\n",
    "len(b)"
   ]
  },
  {
   "cell_type": "code",
   "execution_count": 42,
   "id": "1cba5702",
   "metadata": {},
   "outputs": [
    {
     "data": {
      "text/plain": [
       "765"
      ]
     },
     "execution_count": 42,
     "metadata": {},
     "output_type": "execute_result"
    }
   ],
   "source": [
    "s=(123,455,765,80,456)\n",
    "max(s)"
   ]
  },
  {
   "cell_type": "code",
   "execution_count": 43,
   "id": "20536977",
   "metadata": {},
   "outputs": [
    {
     "data": {
      "text/plain": [
       "'pineapple'"
      ]
     },
     "execution_count": 43,
     "metadata": {},
     "output_type": "execute_result"
    }
   ],
   "source": [
    "f=(\"mamgo\",\"orange\",\"pineapple\",\"carrot\")\n",
    "max(f)"
   ]
  },
  {
   "cell_type": "code",
   "execution_count": 44,
   "id": "a0e5be74",
   "metadata": {},
   "outputs": [
    {
     "data": {
      "text/plain": [
       "80"
      ]
     },
     "execution_count": 44,
     "metadata": {},
     "output_type": "execute_result"
    }
   ],
   "source": [
    "s=(123,455,765,80,456)\n",
    "min(s)"
   ]
  },
  {
   "cell_type": "code",
   "execution_count": 45,
   "id": "f1c43182",
   "metadata": {},
   "outputs": [
    {
     "data": {
      "text/plain": [
       "'carrot'"
      ]
     },
     "execution_count": 45,
     "metadata": {},
     "output_type": "execute_result"
    }
   ],
   "source": [
    "t=(\"mamgo\",\"orange\",\"pineapple\",\"carrot\")\n",
    "min(t)"
   ]
  },
  {
   "cell_type": "code",
   "execution_count": 48,
   "id": "e6cc1247",
   "metadata": {},
   "outputs": [
    {
     "data": {
      "text/plain": [
       "3"
      ]
     },
     "execution_count": 48,
     "metadata": {},
     "output_type": "execute_result"
    }
   ],
   "source": [
    "s.index(80)"
   ]
  },
  {
   "cell_type": "code",
   "execution_count": 49,
   "id": "b2b07445",
   "metadata": {},
   "outputs": [
    {
     "data": {
      "text/plain": [
       "2"
      ]
     },
     "execution_count": 49,
     "metadata": {},
     "output_type": "execute_result"
    }
   ],
   "source": [
    "val=(10,20,30,10,20,40)\n",
    "val.count(20)"
   ]
  },
  {
   "cell_type": "code",
   "execution_count": 50,
   "id": "3b2ec33b",
   "metadata": {},
   "outputs": [
    {
     "data": {
      "text/plain": [
       "1"
      ]
     },
     "execution_count": 50,
     "metadata": {},
     "output_type": "execute_result"
    }
   ],
   "source": [
    "val.count(30)"
   ]
  },
  {
   "cell_type": "code",
   "execution_count": 51,
   "id": "97151656",
   "metadata": {},
   "outputs": [
    {
     "data": {
      "text/plain": [
       "0"
      ]
     },
     "execution_count": 51,
     "metadata": {},
     "output_type": "execute_result"
    }
   ],
   "source": [
    "val.count(50)"
   ]
  },
  {
   "cell_type": "code",
   "execution_count": 53,
   "id": "a47b1798",
   "metadata": {},
   "outputs": [
    {
     "data": {
      "text/plain": [
       "('l', 'a', 's', 't', ' ', 'c', 'h', 'e', 'c', 'k', 'p', 'o', 'i', 'n', 't')"
      ]
     },
     "execution_count": 53,
     "metadata": {},
     "output_type": "execute_result"
    }
   ],
   "source": [
    "tup=tuple(\"last checkpoint\")\n",
    "tup"
   ]
  },
  {
   "cell_type": "code",
   "execution_count": 54,
   "id": "9413ccc0",
   "metadata": {},
   "outputs": [
    {
     "data": {
      "text/plain": [
       "(1, 20, 456)"
      ]
     },
     "execution_count": 54,
     "metadata": {},
     "output_type": "execute_result"
    }
   ],
   "source": [
    "tup=tuple([1,20,456])\n",
    "tup"
   ]
  },
  {
   "cell_type": "code",
   "execution_count": 55,
   "id": "9bfcfc4b",
   "metadata": {},
   "outputs": [
    {
     "data": {
      "text/plain": [
       "(1, 2)"
      ]
     },
     "execution_count": 55,
     "metadata": {},
     "output_type": "execute_result"
    }
   ],
   "source": [
    "tup=tuple({1:\"one\",2:\"two\"})\n",
    "tup"
   ]
  },
  {
   "cell_type": "code",
   "execution_count": 1,
   "id": "15443320",
   "metadata": {},
   "outputs": [
    {
     "data": {
      "text/plain": [
       "(10, 20, 30, 40)"
      ]
     },
     "execution_count": 1,
     "metadata": {},
     "output_type": "execute_result"
    }
   ],
   "source": [
    "val=(10,30,30,40)\n",
    "a,b,c,d=val\n",
    "b=20\n",
    "val=(a,b,c,d)\n",
    "val"
   ]
  },
  {
   "cell_type": "code",
   "execution_count": 4,
   "id": "503fb127",
   "metadata": {},
   "outputs": [
    {
     "data": {
      "text/plain": [
       "(40, 'b', 'c')"
      ]
     },
     "execution_count": 4,
     "metadata": {},
     "output_type": "execute_result"
    }
   ],
   "source": [
    "qst=('a','b','c')\n",
    "aa,bb,cc=qst\n",
    "aa=d\n",
    "qst=(aa,bb,cc)\n",
    "qst"
   ]
  },
  {
   "cell_type": "code",
   "execution_count": 5,
   "id": "d0b8035d",
   "metadata": {},
   "outputs": [
    {
     "data": {
      "text/plain": [
       "('rice', 'dosa', 'biryani', 'mushroom', 'paneer')"
      ]
     },
     "execution_count": 5,
     "metadata": {},
     "output_type": "execute_result"
    }
   ],
   "source": [
    "foods=(\"rice\",\"dosa\",\"idli\",\"mushroom\",\"paneer\")\n",
    "myfood=list(foods)\n",
    "myfood[2]=\"biryani\"\n",
    "foods=tuple(myfood)\n",
    "foods"
   ]
  },
  {
   "cell_type": "code",
   "execution_count": 7,
   "id": "e42c88ba",
   "metadata": {},
   "outputs": [
    {
     "data": {
      "text/plain": [
       "('mango', 'pappaya', 'apple', 'orange')"
      ]
     },
     "execution_count": 7,
     "metadata": {},
     "output_type": "execute_result"
    }
   ],
   "source": [
    "tree=(\"mango\",\"coconut\",\"apple\",\"orange\")\n",
    "plant=list(tree)\n",
    "plant[1]=\"pappaya\"\n",
    "tree=tuple(plant)\n",
    "tree"
   ]
  },
  {
   "cell_type": "code",
   "execution_count": 8,
   "id": "c15907b5",
   "metadata": {
    "scrolled": true
   },
   "outputs": [
    {
     "data": {
      "text/plain": [
       "{'e', 'r', 't', 'u', 'y'}"
      ]
     },
     "execution_count": 8,
     "metadata": {},
     "output_type": "execute_result"
    }
   ],
   "source": [
    "set(\"ertyu\")\n"
   ]
  },
  {
   "cell_type": "code",
   "execution_count": 10,
   "id": "d20b8e56",
   "metadata": {
    "scrolled": true
   },
   "outputs": [
    {
     "data": {
      "text/plain": [
       "{12, 34, 56, 78}"
      ]
     },
     "execution_count": 10,
     "metadata": {},
     "output_type": "execute_result"
    }
   ],
   "source": [
    "set([12,34,56,78])"
   ]
  },
  {
   "cell_type": "code",
   "execution_count": 11,
   "id": "e9281a22",
   "metadata": {
    "scrolled": true
   },
   "outputs": [
    {
     "data": {
      "text/plain": [
       "{10, 20, 30, 40}"
      ]
     },
     "execution_count": 11,
     "metadata": {},
     "output_type": "execute_result"
    }
   ],
   "source": [
    "s=set([10,30,40])\n",
    "s.add(20)\n",
    "s"
   ]
  },
  {
   "cell_type": "code",
   "execution_count": 12,
   "id": "08fd52d7",
   "metadata": {
    "scrolled": false
   },
   "outputs": [
    {
     "data": {
      "text/plain": [
       "{10, 20, 30, 40, 50, 60, 70}"
      ]
     },
     "execution_count": 12,
     "metadata": {},
     "output_type": "execute_result"
    }
   ],
   "source": [
    "s.update([50,60,70])\n",
    "s"
   ]
  },
  {
   "cell_type": "code",
   "execution_count": 14,
   "id": "18811e37",
   "metadata": {
    "scrolled": false
   },
   "outputs": [
    {
     "data": {
      "text/plain": [
       "{10, 20, 30, 40, 50, 60, 70}"
      ]
     },
     "execution_count": 14,
     "metadata": {},
     "output_type": "execute_result"
    }
   ],
   "source": [
    "s9=s.copy()\n",
    "s"
   ]
  },
  {
   "cell_type": "code",
   "execution_count": 15,
   "id": "fe634fcc",
   "metadata": {
    "scrolled": true
   },
   "outputs": [
    {
     "data": {
      "text/plain": [
       "True"
      ]
     },
     "execution_count": 15,
     "metadata": {},
     "output_type": "execute_result"
    }
   ],
   "source": [
    "30 in s\n"
   ]
  },
  {
   "cell_type": "code",
   "execution_count": 16,
   "id": "d8fae4d0",
   "metadata": {
    "scrolled": true
   },
   "outputs": [
    {
     "data": {
      "text/plain": [
       "False"
      ]
     },
     "execution_count": 16,
     "metadata": {},
     "output_type": "execute_result"
    }
   ],
   "source": [
    "31 in s"
   ]
  },
  {
   "cell_type": "code",
   "execution_count": 17,
   "id": "0ecb23c5",
   "metadata": {},
   "outputs": [
    {
     "data": {
      "text/plain": [
       "True"
      ]
     },
     "execution_count": 17,
     "metadata": {},
     "output_type": "execute_result"
    }
   ],
   "source": [
    "31 not in s"
   ]
  },
  {
   "cell_type": "code",
   "execution_count": 18,
   "id": "a09c754c",
   "metadata": {},
   "outputs": [
    {
     "data": {
      "text/plain": [
       "1"
      ]
     },
     "execution_count": 18,
     "metadata": {},
     "output_type": "execute_result"
    }
   ],
   "source": [
    "s=set([1,2,3,4,5,6])\n",
    "s.pop()"
   ]
  },
  {
   "cell_type": "code",
   "execution_count": 19,
   "id": "6164ac77",
   "metadata": {},
   "outputs": [
    {
     "data": {
      "text/plain": [
       "2"
      ]
     },
     "execution_count": 19,
     "metadata": {},
     "output_type": "execute_result"
    }
   ],
   "source": [
    "s.pop()"
   ]
  },
  {
   "cell_type": "code",
   "execution_count": 24,
   "id": "1900edd1",
   "metadata": {},
   "outputs": [
    {
     "data": {
      "text/plain": [
       "{1, 2, 4, 5, 6}"
      ]
     },
     "execution_count": 24,
     "metadata": {},
     "output_type": "execute_result"
    }
   ],
   "source": [
    "s=set([1,2,3,4,5,6])\n",
    "s.remove(3)\n",
    "s"
   ]
  },
  {
   "cell_type": "code",
   "execution_count": 25,
   "id": "e0042088",
   "metadata": {},
   "outputs": [
    {
     "data": {
      "text/plain": [
       "set()"
      ]
     },
     "execution_count": 25,
     "metadata": {},
     "output_type": "execute_result"
    }
   ],
   "source": [
    "s.clear()\n",
    "s"
   ]
  },
  {
   "cell_type": "code",
   "execution_count": 32,
   "id": "746ec766",
   "metadata": {},
   "outputs": [
    {
     "name": "stdout",
     "output_type": "stream",
     "text": [
      "m\n",
      "t\n",
      "j\n",
      "n\n",
      "c\n",
      "y\n",
      "b\n",
      "g\n",
      "f\n"
     ]
    }
   ],
   "source": [
    "s=set(\"cfyjmnbgt\")\n",
    "for a in s:\n",
    "    print (a)"
   ]
  },
  {
   "cell_type": "code",
   "execution_count": 1,
   "id": "aa1beb37",
   "metadata": {},
   "outputs": [
    {
     "name": "stdout",
     "output_type": "stream",
     "text": [
      "55\n",
      "44\n",
      "2\n"
     ]
    }
   ],
   "source": [
    "width=input(5)\n",
    "height=input(4)\n",
    "area=int(width)*int(height)\n",
    "print(area//9)"
   ]
  },
  {
   "cell_type": "code",
   "execution_count": null,
   "id": "d288c0e2",
   "metadata": {},
   "outputs": [],
   "source": []
  }
 ],
 "metadata": {
  "kernelspec": {
   "display_name": "Python 3 (ipykernel)",
   "language": "python",
   "name": "python3"
  },
  "language_info": {
   "codemirror_mode": {
    "name": "ipython",
    "version": 3
   },
   "file_extension": ".py",
   "mimetype": "text/x-python",
   "name": "python",
   "nbconvert_exporter": "python",
   "pygments_lexer": "ipython3",
   "version": "3.9.7"
  }
 },
 "nbformat": 4,
 "nbformat_minor": 5
}
